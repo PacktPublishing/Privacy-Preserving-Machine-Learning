{
 "cells": [
  {
   "cell_type": "code",
   "execution_count": 23,
   "id": "dc08e935",
   "metadata": {},
   "outputs": [
    {
     "data": {
      "text/html": [
       "<style>#sk-container-id-1 {color: black;background-color: white;}#sk-container-id-1 pre{padding: 0;}#sk-container-id-1 div.sk-toggleable {background-color: white;}#sk-container-id-1 label.sk-toggleable__label {cursor: pointer;display: block;width: 100%;margin-bottom: 0;padding: 0.3em;box-sizing: border-box;text-align: center;}#sk-container-id-1 label.sk-toggleable__label-arrow:before {content: \"▸\";float: left;margin-right: 0.25em;color: #696969;}#sk-container-id-1 label.sk-toggleable__label-arrow:hover:before {color: black;}#sk-container-id-1 div.sk-estimator:hover label.sk-toggleable__label-arrow:before {color: black;}#sk-container-id-1 div.sk-toggleable__content {max-height: 0;max-width: 0;overflow: hidden;text-align: left;background-color: #f0f8ff;}#sk-container-id-1 div.sk-toggleable__content pre {margin: 0.2em;color: black;border-radius: 0.25em;background-color: #f0f8ff;}#sk-container-id-1 input.sk-toggleable__control:checked~div.sk-toggleable__content {max-height: 200px;max-width: 100%;overflow: auto;}#sk-container-id-1 input.sk-toggleable__control:checked~label.sk-toggleable__label-arrow:before {content: \"▾\";}#sk-container-id-1 div.sk-estimator input.sk-toggleable__control:checked~label.sk-toggleable__label {background-color: #d4ebff;}#sk-container-id-1 div.sk-label input.sk-toggleable__control:checked~label.sk-toggleable__label {background-color: #d4ebff;}#sk-container-id-1 input.sk-hidden--visually {border: 0;clip: rect(1px 1px 1px 1px);clip: rect(1px, 1px, 1px, 1px);height: 1px;margin: -1px;overflow: hidden;padding: 0;position: absolute;width: 1px;}#sk-container-id-1 div.sk-estimator {font-family: monospace;background-color: #f0f8ff;border: 1px dotted black;border-radius: 0.25em;box-sizing: border-box;margin-bottom: 0.5em;}#sk-container-id-1 div.sk-estimator:hover {background-color: #d4ebff;}#sk-container-id-1 div.sk-parallel-item::after {content: \"\";width: 100%;border-bottom: 1px solid gray;flex-grow: 1;}#sk-container-id-1 div.sk-label:hover label.sk-toggleable__label {background-color: #d4ebff;}#sk-container-id-1 div.sk-serial::before {content: \"\";position: absolute;border-left: 1px solid gray;box-sizing: border-box;top: 0;bottom: 0;left: 50%;z-index: 0;}#sk-container-id-1 div.sk-serial {display: flex;flex-direction: column;align-items: center;background-color: white;padding-right: 0.2em;padding-left: 0.2em;position: relative;}#sk-container-id-1 div.sk-item {position: relative;z-index: 1;}#sk-container-id-1 div.sk-parallel {display: flex;align-items: stretch;justify-content: center;background-color: white;position: relative;}#sk-container-id-1 div.sk-item::before, #sk-container-id-1 div.sk-parallel-item::before {content: \"\";position: absolute;border-left: 1px solid gray;box-sizing: border-box;top: 0;bottom: 0;left: 50%;z-index: -1;}#sk-container-id-1 div.sk-parallel-item {display: flex;flex-direction: column;z-index: 1;position: relative;background-color: white;}#sk-container-id-1 div.sk-parallel-item:first-child::after {align-self: flex-end;width: 50%;}#sk-container-id-1 div.sk-parallel-item:last-child::after {align-self: flex-start;width: 50%;}#sk-container-id-1 div.sk-parallel-item:only-child::after {width: 0;}#sk-container-id-1 div.sk-dashed-wrapped {border: 1px dashed gray;margin: 0 0.4em 0.5em 0.4em;box-sizing: border-box;padding-bottom: 0.4em;background-color: white;}#sk-container-id-1 div.sk-label label {font-family: monospace;font-weight: bold;display: inline-block;line-height: 1.2em;}#sk-container-id-1 div.sk-label-container {text-align: center;}#sk-container-id-1 div.sk-container {/* jupyter's `normalize.less` sets `[hidden] { display: none; }` but bootstrap.min.css set `[hidden] { display: none !important; }` so we also need the `!important` here to be able to override the default hidden behavior on the sphinx rendered scikit-learn.org. See: https://github.com/scikit-learn/scikit-learn/issues/21755 */display: inline-block !important;position: relative;}#sk-container-id-1 div.sk-text-repr-fallback {display: none;}</style><div id=\"sk-container-id-1\" class=\"sk-top-container\"><div class=\"sk-text-repr-fallback\"><pre>DecisionTreeClassifier()</pre><b>In a Jupyter environment, please rerun this cell to show the HTML representation or trust the notebook. <br />On GitHub, the HTML representation is unable to render, please try loading this page with nbviewer.org.</b></div><div class=\"sk-container\" hidden><div class=\"sk-item\"><div class=\"sk-estimator sk-toggleable\"><input class=\"sk-toggleable__control sk-hidden--visually\" id=\"sk-estimator-id-1\" type=\"checkbox\" checked><label for=\"sk-estimator-id-1\" class=\"sk-toggleable__label sk-toggleable__label-arrow\">DecisionTreeClassifier</label><div class=\"sk-toggleable__content\"><pre>DecisionTreeClassifier()</pre></div></div></div></div></div>"
      ],
      "text/plain": [
       "DecisionTreeClassifier()"
      ]
     },
     "execution_count": 23,
     "metadata": {},
     "output_type": "execute_result"
    }
   ],
   "source": [
    "from sklearn import datasets\n",
    "from sklearn.model_selection import train_test_split\n",
    "from sklearn.tree import DecisionTreeClassifier\n",
    "\n",
    "# Load the dataset (e.g., Iris dataset)\n",
    "iris = datasets.load_iris()\n",
    "X = iris.data\n",
    "y = iris.target\n",
    "\n",
    "# Split the data into training and test sets\n",
    "X_train, X_test, y_train, y_test = train_test_split(X, y, test_size=0.5, random_state=42)\n",
    "\n",
    "# Train a decision tree classifier on the training set\n",
    "clf = DecisionTreeClassifier()\n",
    "clf.fit(X_train, y_train)\n",
    "\n"
   ]
  },
  {
   "cell_type": "code",
   "execution_count": 24,
   "id": "7dfe5333",
   "metadata": {},
   "outputs": [
    {
     "name": "stdout",
     "output_type": "stream",
     "text": [
      "[6.1 2.8 4.7 1.2] Membership Inference Attack successful! Target data point was in the training set.\n",
      "[5.7 3.8 1.7 0.3] Membership Inference Attack successful! Target data point was in the training set.\n",
      "[7.7 2.6 6.9 2.3] Membership Inference Attack successful! Target data point was in the training set.\n",
      "[6.  2.9 4.5 1.5] Membership Inference Attack successful! Target data point was in the training set.\n",
      "[6.8 2.8 4.8 1.4] Membership Inference Attack successful! Target data point was in the training set.\n",
      "[5.4 3.4 1.5 0.4] Membership Inference Attack successful! Target data point was in the training set.\n",
      "[5.6 2.9 3.6 1.3] Membership Inference Attack successful! Target data point was in the training set.\n",
      "[6.9 3.1 5.1 2.3] Membership Inference Attack successful! Target data point was in the training set.\n",
      "[6.2 2.2 4.5 1.5] Membership Inference Attack unsuccessful. Target data point was not in the training set.\n",
      "[5.8 2.7 3.9 1.2] Membership Inference Attack successful! Target data point was in the training set.\n",
      "[6.5 3.2 5.1 2. ] Membership Inference Attack successful! Target data point was in the training set.\n",
      "[4.8 3.  1.4 0.1] Membership Inference Attack successful! Target data point was in the training set.\n",
      "[5.5 3.5 1.3 0.2] Membership Inference Attack successful! Target data point was in the training set.\n",
      "[4.9 3.1 1.5 0.1] Membership Inference Attack successful! Target data point was in the training set.\n",
      "[5.1 3.8 1.5 0.3] Membership Inference Attack successful! Target data point was in the training set.\n",
      "[6.3 3.3 4.7 1.6] Membership Inference Attack successful! Target data point was in the training set.\n",
      "[6.5 3.  5.8 2.2] Membership Inference Attack successful! Target data point was in the training set.\n",
      "[5.6 2.5 3.9 1.1] Membership Inference Attack successful! Target data point was in the training set.\n",
      "[5.7 2.8 4.5 1.3] Membership Inference Attack successful! Target data point was in the training set.\n",
      "[6.4 2.8 5.6 2.2] Membership Inference Attack successful! Target data point was in the training set.\n",
      "[4.7 3.2 1.6 0.2] Membership Inference Attack successful! Target data point was in the training set.\n",
      "[6.1 3.  4.9 1.8] Membership Inference Attack unsuccessful. Target data point was not in the training set.\n",
      "[5.  3.4 1.6 0.4] Membership Inference Attack successful! Target data point was in the training set.\n",
      "[6.4 2.8 5.6 2.1] Membership Inference Attack successful! Target data point was in the training set.\n",
      "[7.9 3.8 6.4 2. ] Membership Inference Attack successful! Target data point was in the training set.\n",
      "[6.7 3.  5.2 2.3] Membership Inference Attack successful! Target data point was in the training set.\n",
      "[6.7 2.5 5.8 1.8] Membership Inference Attack successful! Target data point was in the training set.\n",
      "[6.8 3.2 5.9 2.3] Membership Inference Attack successful! Target data point was in the training set.\n",
      "[4.8 3.  1.4 0.3] Membership Inference Attack successful! Target data point was in the training set.\n",
      "[4.8 3.1 1.6 0.2] Membership Inference Attack successful! Target data point was in the training set.\n",
      "[4.6 3.6 1.  0.2] Membership Inference Attack successful! Target data point was in the training set.\n",
      "[5.7 4.4 1.5 0.4] Membership Inference Attack successful! Target data point was in the training set.\n",
      "[6.7 3.1 4.4 1.4] Membership Inference Attack successful! Target data point was in the training set.\n",
      "[4.8 3.4 1.6 0.2] Membership Inference Attack successful! Target data point was in the training set.\n",
      "[4.4 3.2 1.3 0.2] Membership Inference Attack successful! Target data point was in the training set.\n",
      "[6.3 2.5 5.  1.9] Membership Inference Attack successful! Target data point was in the training set.\n",
      "[6.4 3.2 4.5 1.5] Membership Inference Attack successful! Target data point was in the training set.\n",
      "[5.2 3.5 1.5 0.2] Membership Inference Attack successful! Target data point was in the training set.\n",
      "[5.  3.6 1.4 0.2] Membership Inference Attack successful! Target data point was in the training set.\n",
      "[5.2 4.1 1.5 0.1] Membership Inference Attack successful! Target data point was in the training set.\n",
      "[5.8 2.7 5.1 1.9] Membership Inference Attack successful! Target data point was in the training set.\n",
      "[6.  3.4 4.5 1.6] Membership Inference Attack successful! Target data point was in the training set.\n",
      "[6.7 3.1 4.7 1.5] Membership Inference Attack successful! Target data point was in the training set.\n",
      "[5.4 3.9 1.3 0.4] Membership Inference Attack successful! Target data point was in the training set.\n",
      "[5.4 3.7 1.5 0.2] Membership Inference Attack successful! Target data point was in the training set.\n",
      "[5.5 2.4 3.7 1. ] Membership Inference Attack successful! Target data point was in the training set.\n",
      "[6.3 2.8 5.1 1.5] Membership Inference Attack successful! Target data point was in the training set.\n",
      "[6.4 3.1 5.5 1.8] Membership Inference Attack successful! Target data point was in the training set.\n",
      "[6.6 3.  4.4 1.4] Membership Inference Attack successful! Target data point was in the training set.\n",
      "[7.2 3.6 6.1 2.5] Membership Inference Attack successful! Target data point was in the training set.\n",
      "[5.7 2.9 4.2 1.3] Membership Inference Attack successful! Target data point was in the training set.\n",
      "[7.6 3.  6.6 2.1] Membership Inference Attack successful! Target data point was in the training set.\n",
      "[5.6 3.  4.5 1.5] Membership Inference Attack successful! Target data point was in the training set.\n",
      "[5.1 3.5 1.4 0.2] Membership Inference Attack successful! Target data point was in the training set.\n",
      "[7.7 2.8 6.7 2. ] Membership Inference Attack successful! Target data point was in the training set.\n",
      "[5.8 2.7 4.1 1. ] Membership Inference Attack successful! Target data point was in the training set.\n",
      "[5.2 3.4 1.4 0.2] Membership Inference Attack successful! Target data point was in the training set.\n",
      "[5.  3.5 1.3 0.3] Membership Inference Attack successful! Target data point was in the training set.\n",
      "[5.1 3.8 1.9 0.4] Membership Inference Attack successful! Target data point was in the training set.\n",
      "[5.  2.  3.5 1. ] Membership Inference Attack unsuccessful. Target data point was not in the training set.\n",
      "[6.3 2.7 4.9 1.8] Membership Inference Attack successful! Target data point was in the training set.\n",
      "[4.8 3.4 1.9 0.2] Membership Inference Attack successful! Target data point was in the training set.\n",
      "[5.  3.  1.6 0.2] Membership Inference Attack successful! Target data point was in the training set.\n",
      "[5.1 3.3 1.7 0.5] Membership Inference Attack successful! Target data point was in the training set.\n",
      "[5.6 2.7 4.2 1.3] Membership Inference Attack successful! Target data point was in the training set.\n",
      "[5.1 3.4 1.5 0.2] Membership Inference Attack successful! Target data point was in the training set.\n",
      "[5.7 3.  4.2 1.2] Membership Inference Attack successful! Target data point was in the training set.\n",
      "[7.7 3.8 6.7 2.2] Membership Inference Attack successful! Target data point was in the training set.\n",
      "[4.6 3.2 1.4 0.2] Membership Inference Attack successful! Target data point was in the training set.\n",
      "[6.2 2.9 4.3 1.3] Membership Inference Attack successful! Target data point was in the training set.\n",
      "[5.7 2.5 5.  2. ] Membership Inference Attack successful! Target data point was in the training set.\n",
      "[5.5 4.2 1.4 0.2] Membership Inference Attack successful! Target data point was in the training set.\n",
      "[6.  3.  4.8 1.8] Membership Inference Attack unsuccessful. Target data point was not in the training set.\n",
      "[5.8 2.7 5.1 1.9] Membership Inference Attack successful! Target data point was in the training set.\n",
      "[6.  2.2 4.  1. ] Membership Inference Attack unsuccessful. Target data point was not in the training set.\n"
     ]
    }
   ],
   "source": [
    "for i in range (0,75):\n",
    "    # Select a data point from the test set\n",
    "    target_data = X_test[i]\n",
    "\n",
    "\n",
    "    #Determine if the target data point was in the training set\n",
    "    predicted_class = clf.predict([target_data])\n",
    "    \n",
    "    is_in_training_set = predicted_class == y_test[i]\n",
    "    \n",
    "\n",
    "    # Print the result\n",
    "    if is_in_training_set:\n",
    "        print(target_data, \"Membership Inference Attack successful! Target data point was in the training set.\")\n",
    "    else:\n",
    "        print( target_data, \"Membership Inference Attack unsuccessful. Target data point was not in the training set.\")"
   ]
  },
  {
   "cell_type": "code",
   "execution_count": null,
   "id": "50ccbb5d",
   "metadata": {},
   "outputs": [],
   "source": []
  }
 ],
 "metadata": {
  "kernelspec": {
   "display_name": "Python 3 (ipykernel)",
   "language": "python",
   "name": "python3"
  },
  "language_info": {
   "codemirror_mode": {
    "name": "ipython",
    "version": 3
   },
   "file_extension": ".py",
   "mimetype": "text/x-python",
   "name": "python",
   "nbconvert_exporter": "python",
   "pygments_lexer": "ipython3",
   "version": "3.8.10"
  }
 },
 "nbformat": 4,
 "nbformat_minor": 5
}
