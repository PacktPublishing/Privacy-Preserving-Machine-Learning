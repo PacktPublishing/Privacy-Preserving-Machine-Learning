{
 "cells": [
  {
   "cell_type": "code",
   "execution_count": 2,
   "id": "f7d47ec3",
   "metadata": {},
   "outputs": [
    {
     "name": "stdout",
     "output_type": "stream",
     "text": [
      "public key <PaillierPublicKey 1daae1fa83>\n",
      "private key <PaillierPrivateKey for <PaillierPublicKey 1daae1fa83>>\n"
     ]
    }
   ],
   "source": [
    "import phe as paillier\n",
    "pubkey, privkey = paillier.generate_paillier_keypair(n_length=1024)\n",
    "\n",
    "print(\"public key\",pubkey)\n",
    "print(\"private key\", privkey)"
   ]
  },
  {
   "cell_type": "code",
   "execution_count": 3,
   "id": "acb53461",
   "metadata": {},
   "outputs": [
    {
     "name": "stdout",
     "output_type": "stream",
     "text": [
      "ciphertext1 decrypted:  45\n",
      "ciphertext2 decrypted:  60\n",
      "ciphertext3 decrypted:  295\n",
      "ciphertext4 decrypted:  235\n",
      "ciphertext1 :  <phe.paillier.EncryptedNumber object at 0x7fd51856afa0>\n",
      "ciphertext2 :  <phe.paillier.EncryptedNumber object at 0x7fd5185c3580>\n",
      "ciphertext3 :  <phe.paillier.EncryptedNumber object at 0x7fd51856ac70>\n",
      "ciphertext4 :  <phe.paillier.EncryptedNumber object at 0x7fd5185c3460>\n"
     ]
    }
   ],
   "source": [
    "\n",
    "plaintext = 15\n",
    "ciphertext = pubkey.encrypt(plaintext)\n",
    "\n",
    "# Perform homomorphic operations on the ciphertext data\n",
    "ciphertext1 = ciphertext * 3\n",
    "ciphertext2 = ciphertext + ciphertext1\n",
    "ciphertext3 = ciphertext1 + 250\n",
    "ciphertext4 = ciphertext3 - ciphertext2\n",
    "\n",
    "# Decrypt the resulting ciphertext data\n",
    "decrypted1 = privkey.decrypt(ciphertext1)\n",
    "decrypted2 = privkey.decrypt(ciphertext2)\n",
    "decrypted3 = privkey.decrypt(ciphertext3)\n",
    "decrypted4 = privkey.decrypt(ciphertext4)\n",
    "\n",
    "# Print the decrypted results\n",
    "print(\"ciphertext1 decrypted: \", decrypted1)\n",
    "print(\"ciphertext2 decrypted: \", decrypted2)\n",
    "print(\"ciphertext3 decrypted: \", decrypted3)\n",
    "print(\"ciphertext4 decrypted: \", decrypted4)\n",
    "#Print the encrypted results\n",
    "\n",
    "print(\"ciphertext1 : \", ciphertext1)\n",
    "print(\"ciphertext2 : \", ciphertext2)\n",
    "print(\"ciphertext3 : \", ciphertext3)\n",
    "print(\"ciphertext4 : \", ciphertext4)\n"
   ]
  },
  {
   "cell_type": "code",
   "execution_count": 3,
   "id": "c28270d3",
   "metadata": {},
   "outputs": [],
   "source": [
    "pubkey, privkey = paillier.generate_paillier_keypair(n_length=1024)"
   ]
  },
  {
   "cell_type": "code",
   "execution_count": 4,
   "id": "e8c5f06f",
   "metadata": {},
   "outputs": [],
   "source": [
    "plaintext = 15\n",
    "ciphertext = pubkey.encrypt(plaintext)"
   ]
  },
  {
   "cell_type": "code",
   "execution_count": 5,
   "id": "8f3102c1",
   "metadata": {},
   "outputs": [],
   "source": [
    "##BBB\n",
    "\n",
    "plain = ciphertext - 15"
   ]
  },
  {
   "cell_type": "code",
   "execution_count": 6,
   "id": "2e781f2f",
   "metadata": {},
   "outputs": [],
   "source": [
    "bmul = plain*4"
   ]
  },
  {
   "cell_type": "code",
   "execution_count": 7,
   "id": "acc7ec4e",
   "metadata": {},
   "outputs": [
    {
     "data": {
      "text/plain": [
       "20"
      ]
     },
     "execution_count": 7,
     "metadata": {},
     "output_type": "execute_result"
    }
   ],
   "source": [
    "privkey.decrypt(bmul)"
   ]
  },
  {
   "cell_type": "code",
   "execution_count": 11,
   "id": "ad9e86f0",
   "metadata": {},
   "outputs": [
    {
     "data": {
      "text/plain": [
       "0"
      ]
     },
     "execution_count": 11,
     "metadata": {},
     "output_type": "execute_result"
    }
   ],
   "source": [
    "import random\n",
    "y = 15\n",
    "ency = pubkey.encrypt(y)\n",
    "x=15\n",
    "encxy = (ency - x)*random.randint(1, 100)\n",
    "privkey.decrypt(encxy)"
   ]
  },
  {
   "cell_type": "code",
   "execution_count": 14,
   "id": "690ee1cf",
   "metadata": {},
   "outputs": [
    {
     "name": "stdout",
     "output_type": "stream",
     "text": [
      "15\n"
     ]
    }
   ],
   "source": [
    "import random\n",
    "y = 15\n",
    "ency = pubkey.encrypt(y)\n",
    "for x in range( 1,30):\n",
    "    encxy = (ency - x)*random.randint(1, 100)\n",
    "    if(privkey.decrypt(encxy)==0):\n",
    "        print(x)\n",
    "    "
   ]
  },
  {
   "cell_type": "code",
   "execution_count": 17,
   "id": "ea28007b",
   "metadata": {},
   "outputs": [
    {
     "ename": "NotImplementedError",
     "evalue": "Good luck with that...",
     "output_type": "error",
     "traceback": [
      "\u001b[0;31m---------------------------------------------------------------------------\u001b[0m",
      "\u001b[0;31mNotImplementedError\u001b[0m                       Traceback (most recent call last)",
      "Cell \u001b[0;32mIn[17], line 4\u001b[0m\n\u001b[1;32m      2\u001b[0m y \u001b[38;5;241m=\u001b[39m \u001b[38;5;241m15\u001b[39m\n\u001b[1;32m      3\u001b[0m ency \u001b[38;5;241m=\u001b[39m pubkey\u001b[38;5;241m.\u001b[39mencrypt(y)\n\u001b[0;32m----> 4\u001b[0m temp \u001b[38;5;241m=\u001b[39m \u001b[43m(\u001b[49m\u001b[43mency\u001b[49m\u001b[38;5;241;43m-\u001b[39;49m\u001b[38;5;241;43m1\u001b[39;49m\u001b[43m)\u001b[49m\u001b[43m \u001b[49m\u001b[38;5;241;43m*\u001b[39;49m\u001b[43m \u001b[49m\u001b[43m(\u001b[49m\u001b[43mency\u001b[49m\u001b[38;5;241;43m-\u001b[39;49m\u001b[38;5;241;43m2\u001b[39;49m\u001b[43m)\u001b[49m\n",
      "File \u001b[0;32m~/Library/Python/3.8/lib/python/site-packages/phe/paillier.py:508\u001b[0m, in \u001b[0;36mEncryptedNumber.__mul__\u001b[0;34m(self, other)\u001b[0m\n\u001b[1;32m    506\u001b[0m \u001b[38;5;250m\u001b[39m\u001b[38;5;124;03m\"\"\"Multiply by an int, float, or EncodedNumber.\"\"\"\u001b[39;00m\n\u001b[1;32m    507\u001b[0m \u001b[38;5;28;01mif\u001b[39;00m \u001b[38;5;28misinstance\u001b[39m(other, EncryptedNumber):\n\u001b[0;32m--> 508\u001b[0m     \u001b[38;5;28;01mraise\u001b[39;00m \u001b[38;5;167;01mNotImplementedError\u001b[39;00m(\u001b[38;5;124m'\u001b[39m\u001b[38;5;124mGood luck with that...\u001b[39m\u001b[38;5;124m'\u001b[39m)\n\u001b[1;32m    510\u001b[0m \u001b[38;5;28;01mif\u001b[39;00m \u001b[38;5;28misinstance\u001b[39m(other, EncodedNumber):\n\u001b[1;32m    511\u001b[0m     encoding \u001b[38;5;241m=\u001b[39m other\n",
      "\u001b[0;31mNotImplementedError\u001b[0m: Good luck with that..."
     ]
    }
   ],
   "source": [
    "import random\n",
    "y = 15\n",
    "ency = pubkey.encrypt(y)\n",
    "temp = (ency-1) * (ency-2)\n"
   ]
  },
  {
   "cell_type": "code",
   "execution_count": 20,
   "id": "ade5b4c8",
   "metadata": {},
   "outputs": [
    {
     "name": "stdout",
     "output_type": "stream",
     "text": [
      "75\n",
      "75\n"
     ]
    }
   ],
   "source": [
    "# p.enc(m)=enc(p*m)\n",
    "\n",
    "m1=15\n",
    "p=5\n",
    "\n",
    "encm1_mulp  = p*pubkey.encrypt(m1)\n",
    "enc_pm1 = pubkey.encrypt(p*m1)\n",
    "\n",
    "print ( privkey.decrypt(encm1_mulp) )\n",
    "print ( privkey.decrypt(enc_pm1) )\n",
    "\n",
    "\n",
    "m2=25\n",
    "\n",
    "encm2_mulp  = p*pubkey.encrypt(m2)\n",
    "\n"
   ]
  },
  {
   "cell_type": "code",
   "execution_count": 21,
   "id": "ea5e79fa",
   "metadata": {},
   "outputs": [
    {
     "ename": "NotImplementedError",
     "evalue": "Good luck with that...",
     "output_type": "error",
     "traceback": [
      "\u001b[0;31m---------------------------------------------------------------------------\u001b[0m",
      "\u001b[0;31mNotImplementedError\u001b[0m                       Traceback (most recent call last)",
      "Cell \u001b[0;32mIn[21], line 3\u001b[0m\n\u001b[1;32m      1\u001b[0m m1\u001b[38;5;241m=\u001b[39m\u001b[38;5;241m15\u001b[39m\n\u001b[1;32m      2\u001b[0m m2\u001b[38;5;241m=\u001b[39m\u001b[38;5;241m20\u001b[39m\n\u001b[0;32m----> 3\u001b[0m \u001b[43mpubkey\u001b[49m\u001b[38;5;241;43m.\u001b[39;49m\u001b[43mencrypt\u001b[49m\u001b[43m(\u001b[49m\u001b[43mm1\u001b[49m\u001b[43m)\u001b[49m\u001b[43m \u001b[49m\u001b[38;5;241;43m*\u001b[39;49m\u001b[43m \u001b[49m\u001b[43mpubkey\u001b[49m\u001b[38;5;241;43m.\u001b[39;49m\u001b[43mencrypt\u001b[49m\u001b[43m(\u001b[49m\u001b[43mm2\u001b[49m\u001b[43m)\u001b[49m\n",
      "File \u001b[0;32m~/Library/Python/3.8/lib/python/site-packages/phe/paillier.py:508\u001b[0m, in \u001b[0;36mEncryptedNumber.__mul__\u001b[0;34m(self, other)\u001b[0m\n\u001b[1;32m    506\u001b[0m \u001b[38;5;250m\u001b[39m\u001b[38;5;124;03m\"\"\"Multiply by an int, float, or EncodedNumber.\"\"\"\u001b[39;00m\n\u001b[1;32m    507\u001b[0m \u001b[38;5;28;01mif\u001b[39;00m \u001b[38;5;28misinstance\u001b[39m(other, EncryptedNumber):\n\u001b[0;32m--> 508\u001b[0m     \u001b[38;5;28;01mraise\u001b[39;00m \u001b[38;5;167;01mNotImplementedError\u001b[39;00m(\u001b[38;5;124m'\u001b[39m\u001b[38;5;124mGood luck with that...\u001b[39m\u001b[38;5;124m'\u001b[39m)\n\u001b[1;32m    510\u001b[0m \u001b[38;5;28;01mif\u001b[39;00m \u001b[38;5;28misinstance\u001b[39m(other, EncodedNumber):\n\u001b[1;32m    511\u001b[0m     encoding \u001b[38;5;241m=\u001b[39m other\n",
      "\u001b[0;31mNotImplementedError\u001b[0m: Good luck with that..."
     ]
    }
   ],
   "source": [
    "m1=15\n",
    "m2=20\n",
    "pubkey.encrypt(m1) * pubkey.encrypt(m2)\n"
   ]
  },
  {
   "cell_type": "code",
   "execution_count": 25,
   "id": "2e99dec8",
   "metadata": {},
   "outputs": [
    {
     "ename": "TypeError",
     "evalue": "Don't know the precision of type <class 'list'>.",
     "output_type": "error",
     "traceback": [
      "\u001b[0;31m---------------------------------------------------------------------------\u001b[0m",
      "\u001b[0;31mTypeError\u001b[0m                                 Traceback (most recent call last)",
      "Cell \u001b[0;32mIn[25], line 3\u001b[0m\n\u001b[1;32m      1\u001b[0m m1\u001b[38;5;241m=\u001b[39m[[\u001b[38;5;241m15.7\u001b[39m, \u001b[38;5;241m15.9\u001b[39m ]]\n\u001b[1;32m      2\u001b[0m m2\u001b[38;5;241m=\u001b[39m\u001b[38;5;241m20\u001b[39m\n\u001b[0;32m----> 3\u001b[0m \u001b[43mpubkey\u001b[49m\u001b[38;5;241;43m.\u001b[39;49m\u001b[43mencrypt\u001b[49m\u001b[43m(\u001b[49m\u001b[43mm1\u001b[49m\u001b[43m)\u001b[49m \n\u001b[1;32m      4\u001b[0m pubkey\u001b[38;5;241m.\u001b[39mencrypt(m2)\n",
      "File \u001b[0;32m~/Library/Python/3.8/lib/python/site-packages/phe/paillier.py:173\u001b[0m, in \u001b[0;36mPaillierPublicKey.encrypt\u001b[0;34m(self, value, precision, r_value)\u001b[0m\n\u001b[1;32m    171\u001b[0m     encoding \u001b[38;5;241m=\u001b[39m value\n\u001b[1;32m    172\u001b[0m \u001b[38;5;28;01melse\u001b[39;00m:\n\u001b[0;32m--> 173\u001b[0m     encoding \u001b[38;5;241m=\u001b[39m \u001b[43mEncodedNumber\u001b[49m\u001b[38;5;241;43m.\u001b[39;49m\u001b[43mencode\u001b[49m\u001b[43m(\u001b[49m\u001b[38;5;28;43mself\u001b[39;49m\u001b[43m,\u001b[49m\u001b[43m \u001b[49m\u001b[43mvalue\u001b[49m\u001b[43m,\u001b[49m\u001b[43m \u001b[49m\u001b[43mprecision\u001b[49m\u001b[43m)\u001b[49m\n\u001b[1;32m    175\u001b[0m \u001b[38;5;28;01mreturn\u001b[39;00m \u001b[38;5;28mself\u001b[39m\u001b[38;5;241m.\u001b[39mencrypt_encoded(encoding, r_value)\n",
      "File \u001b[0;32m~/Library/Python/3.8/lib/python/site-packages/phe/encoding.py:176\u001b[0m, in \u001b[0;36mEncodedNumber.encode\u001b[0;34m(cls, public_key, scalar, precision, max_exponent)\u001b[0m\n\u001b[1;32m    174\u001b[0m         prec_exponent \u001b[38;5;241m=\u001b[39m math\u001b[38;5;241m.\u001b[39mfloor(bin_lsb_exponent \u001b[38;5;241m/\u001b[39m \u001b[38;5;28mcls\u001b[39m\u001b[38;5;241m.\u001b[39mLOG2_BASE)\n\u001b[1;32m    175\u001b[0m     \u001b[38;5;28;01melse\u001b[39;00m:\n\u001b[0;32m--> 176\u001b[0m         \u001b[38;5;28;01mraise\u001b[39;00m \u001b[38;5;167;01mTypeError\u001b[39;00m(\u001b[38;5;124m\"\u001b[39m\u001b[38;5;124mDon\u001b[39m\u001b[38;5;124m'\u001b[39m\u001b[38;5;124mt know the precision of type \u001b[39m\u001b[38;5;132;01m%s\u001b[39;00m\u001b[38;5;124m.\u001b[39m\u001b[38;5;124m\"\u001b[39m\n\u001b[1;32m    177\u001b[0m                         \u001b[38;5;241m%\u001b[39m \u001b[38;5;28mtype\u001b[39m(scalar))\n\u001b[1;32m    178\u001b[0m \u001b[38;5;28;01melse\u001b[39;00m:\n\u001b[1;32m    179\u001b[0m     prec_exponent \u001b[38;5;241m=\u001b[39m math\u001b[38;5;241m.\u001b[39mfloor(math\u001b[38;5;241m.\u001b[39mlog(precision, \u001b[38;5;28mcls\u001b[39m\u001b[38;5;241m.\u001b[39mBASE))\n",
      "\u001b[0;31mTypeError\u001b[0m: Don't know the precision of type <class 'list'>."
     ]
    }
   ],
   "source": [
    "m1=[[15.7, 15.9 ]]\n",
    "m2=20\n",
    "pubkey.encrypt(m1) \n",
    "pubkey.encrypt(m2)\n"
   ]
  },
  {
   "cell_type": "code",
   "execution_count": 1,
   "id": "eaf2576a",
   "metadata": {},
   "outputs": [
    {
     "name": "stdout",
     "output_type": "stream",
     "text": [
      "public key <PaillierPublicKey eb80eb10da>\n",
      "private key <PaillierPrivateKey for <PaillierPublicKey eb80eb10da>>\n",
      "ciphertext1 decrypted:  45\n",
      "ciphertext2 decrypted:  -30\n",
      "ciphertext3 decrypted:  295\n",
      "ciphertext1 :  <phe.paillier.EncryptedNumber object at 0x7fd5185c3490>\n",
      "ciphertext2 :  <phe.paillier.EncryptedNumber object at 0x7fd5185c3400>\n",
      "ciphertext3 :  <phe.paillier.EncryptedNumber object at 0x7fd5185c58e0>\n"
     ]
    }
   ],
   "source": [
    "import phe as paillier\n",
    "pubkey, privkey = paillier.generate_paillier_keypair(n_length=1024)\n",
    "\n",
    "print(\"public key\",pubkey)\n",
    "print(\"private key\", privkey)\n",
    "\n",
    "plaintext = 15\n",
    "ciphertext = pubkey.encrypt(plaintext)\n",
    "\n",
    "# Perform homomorphic operations on the ciphertext data\n",
    "ciphertext1 = ciphertext * 3\n",
    "ciphertext2 = ciphertext - ciphertext1\n",
    "ciphertext3 = ciphertext1 + 250\n",
    "\n",
    "\n",
    "# Decrypt the resulting ciphertext data\n",
    "decrypted1 = privkey.decrypt(ciphertext1)\n",
    "decrypted2 = privkey.decrypt(ciphertext2)\n",
    "decrypted3 = privkey.decrypt(ciphertext3)\n",
    "\n",
    "# Print the decrypted results\n",
    "print(\"ciphertext1 decrypted: \", decrypted1)\n",
    "print(\"ciphertext2 decrypted: \", decrypted2)\n",
    "print(\"ciphertext3 decrypted: \", decrypted3)\n",
    "\n",
    "#Print the encrypted results\n",
    "\n",
    "print(\"ciphertext1 : \", ciphertext1)\n",
    "print(\"ciphertext2 : \", ciphertext2)\n",
    "print(\"ciphertext3 : \", ciphertext3)\n",
    "\n"
   ]
  },
  {
   "cell_type": "code",
   "execution_count": null,
   "id": "09bd6be2",
   "metadata": {},
   "outputs": [],
   "source": []
  }
 ],
 "metadata": {
  "kernelspec": {
   "display_name": "Python 3 (ipykernel)",
   "language": "python",
   "name": "python3"
  },
  "language_info": {
   "codemirror_mode": {
    "name": "ipython",
    "version": 3
   },
   "file_extension": ".py",
   "mimetype": "text/x-python",
   "name": "python",
   "nbconvert_exporter": "python",
   "pygments_lexer": "ipython3",
   "version": "3.8.10"
  }
 },
 "nbformat": 4,
 "nbformat_minor": 5
}
