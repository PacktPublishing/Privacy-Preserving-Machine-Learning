{
 "cells": [
  {
   "cell_type": "code",
   "execution_count": 3,
   "id": "b8965ec6",
   "metadata": {},
   "outputs": [],
   "source": [
    "def simple_encryption(text, shift):\n",
    "    \"\"\"\n",
    "    Encrypts the given text using the Caesar Cipher algorithm.\n",
    "    \"\"\"\n",
    "    result = \"\"\n",
    "    # Loop through each character in the text\n",
    "    for i in range(len(text)):\n",
    "        char = text[i]\n",
    "        # If the character is a letter, shift its position in the alphabet\n",
    "        if char.isalpha():\n",
    "            if char.isupper():\n",
    "                result += chr((ord(char) + shift - 65) % 26 + 65)\n",
    "            else:\n",
    "                result += chr((ord(char) + shift - 97) % 26 + 97)\n",
    "        else:\n",
    "            result += char\n",
    "    return result"
   ]
  },
  {
   "cell_type": "code",
   "execution_count": 4,
   "id": "eebebf02",
   "metadata": {},
   "outputs": [
    {
     "data": {
      "text/plain": [
       "'Uwnafhd Uwjxjwaji Rfhmnsj Qjfwsnsl'"
      ]
     },
     "execution_count": 4,
     "metadata": {},
     "output_type": "execute_result"
    }
   ],
   "source": [
    "simple_encryption(\"Privacy Preserved Machine Learning\",5)"
   ]
  },
  {
   "cell_type": "code",
   "execution_count": 12,
   "id": "d4123366",
   "metadata": {},
   "outputs": [
    {
     "name": "stdout",
     "output_type": "stream",
     "text": [
      "Encrypted message: b'\\xe3\\x00\\xe8\\x10\\xc6E\\x0cn\\x1bO,\\x89-\\x8d\\xee\\xb3\\xc6\\x1a\\xbf\\x95\\\\l\\x0e\\x8d\\xb0\\xaa\\x93\\xf4_$?h\\x1a`O\\xf4N\\x89!4\\xf7(\\xd3\\x8e\\xde\\xc7\\xf7\\xb8\\x87\\xea\\n5W\\x8e\\xa5D\\xec]\\x80\\xa8+\\x92?\\xa9'\n",
      "Decrypted message: Privacy Preserved Machine Learning\n"
     ]
    }
   ],
   "source": [
    "from Crypto.Cipher import AES\n",
    "from Crypto.Random import get_random_bytes\n",
    "\n",
    "def aes_encrypt(key, plaintext):\n",
    "    \"\"\"\n",
    "    Encrypts the given plaintext using the AES algorithm with the given key.\n",
    "    \"\"\"\n",
    "    # Generate a random initialization vector \n",
    "    ini_vec = get_random_bytes(AES.block_size)\n",
    "    # Create the AES cipher object with the given key \n",
    "    aes_ciper = AES.new(key, AES.MODE_CBC, ini_vec)\n",
    "    # Pad the plaintext to a multiple of the block size\n",
    "    plaintext = pad_plain_text(plaintext, AES.block_size)\n",
    "    # Encrypt the plaintext using the AES cipher object\n",
    "    ciphertext = aes_ciper.encrypt(plaintext)\n",
    "    # Return the ini_vec and ciphertext as a single byte string\n",
    "    return ini_vec + ciphertext\n",
    "\n",
    "def aes_decrypt(key, ciphertext):\n",
    "    \"\"\"\n",
    "    Decrypts the given ciphertext using the AES algorithm with the given key.\n",
    "    \"\"\"\n",
    "    # Extract the ini_vec from the ciphertext\n",
    "    ini_vec = ciphertext[:AES.block_size]\n",
    "    # Create the AES cipher object with the given key and ini_vec\n",
    "    cipher = AES.new(key, AES.MODE_CBC, ini_vec)\n",
    "    # Decrypt the ciphertext using the AES cipher object\n",
    "    plaintext = cipher.decrypt(ciphertext[AES.block_size:])\n",
    "    # Remove any padding from the decrypted plaintext\n",
    "    plaintext = unpad_decrypted_text(plaintext, AES.block_size)\n",
    "    # Return the decrypted plaintext as a string\n",
    "    return plaintext.decode('utf-8')\n",
    "\n",
    "def pad_plain_text(data, block_size):\n",
    "    \"\"\"\n",
    "    Pads the given data to a multiple of the given block size using PKCS7 padding.\n",
    "    \"\"\"\n",
    "    padding_length = block_size - (len(data) % block_size)\n",
    "    padding = bytes([padding_length] * padding_length)\n",
    "    return data + padding\n",
    "\n",
    "def unpad_decrypted_text(data, block_size):\n",
    "    \"\"\"\n",
    "    Removes PKCS7 padding from the given data.\n",
    "    \"\"\"\n",
    "    padding_length = data[-1]\n",
    "    if padding_length < 1 or padding_length > block_size:\n",
    "        raise ValueError(\"Invalid padding\")\n",
    "    padding = data[-padding_length:]\n",
    "    if not all(padding[i] == padding_length for i in range(padding_length)):\n",
    "        raise ValueError(\"Invalid padding\")\n",
    "    return data[:-padding_length]\n",
    "\n",
    "# Example usage:\n",
    "key = b'ThisIsASecretKey'\n",
    "plaintext = b'Privacy Preserved Machine Learning'\n",
    "ciphertext = aes_encrypt(key, plaintext)\n",
    "print('Encrypted message:', ciphertext)\n",
    "decrypted_plaintext = aes_decrypt(key, ciphertext)\n",
    "print('Decrypted message:', decrypted_plaintext)"
   ]
  },
  {
   "cell_type": "code",
   "execution_count": null,
   "id": "f9e545f5",
   "metadata": {},
   "outputs": [],
   "source": []
  }
 ],
 "metadata": {
  "kernelspec": {
   "display_name": "Python 3 (ipykernel)",
   "language": "python",
   "name": "python3"
  },
  "language_info": {
   "codemirror_mode": {
    "name": "ipython",
    "version": 3
   },
   "file_extension": ".py",
   "mimetype": "text/x-python",
   "name": "python",
   "nbconvert_exporter": "python",
   "pygments_lexer": "ipython3",
   "version": "3.8.10"
  }
 },
 "nbformat": 4,
 "nbformat_minor": 5
}
