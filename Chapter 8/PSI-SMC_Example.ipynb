{
 "cells": [
  {
   "cell_type": "code",
   "execution_count": 1,
   "id": "639dc764",
   "metadata": {},
   "outputs": [
    {
     "name": "stdout",
     "output_type": "stream",
     "text": [
      "31.34\n",
      "1669.6999999999998\n",
      "Result: 2680.04\n"
     ]
    }
   ],
   "source": [
    "import random\n",
    "\n",
    "# Define two parties\n",
    "\n",
    "Bank1_data = [0.1, 0.2, 0.3]\n",
    "\n",
    "Bank2_data = [0.5, 0.6, 0.7]\n",
    "\n",
    "# Define the computation\n",
    "\n",
    "def compute(x, y):\n",
    "    \n",
    "    # Multiply the input data element-wise\n",
    "\n",
    "    z = [x[i] * y[i] for i in range(len(x))]\n",
    "\n",
    "    # Sum the result\n",
    "\n",
    "    result = sum(z)\n",
    "\n",
    "    return result\n",
    "\n",
    "# Randomly generate private keys for the parties\n",
    "\n",
    "Bank1_key = random.randint(0, 1000)\n",
    "\n",
    "Bank2_key = random.randint(0, 1000)\n",
    "\n",
    "# Bank1 encrypts their data using Bank1 private key\n",
    "\n",
    "Bank1_encrypted_data = [x + Bank1_key for x in Bank1_data]\n",
    "\n",
    "# Bank2 encrypts their data using Bank2 private key\n",
    "\n",
    "Bank2_encrypted_data = [x + Bank2_key for x in Bank2_data]\n",
    "\n",
    "# The parties send their encrypted data to each other\n",
    "\n",
    "Bank1_received_data = Bank2_encrypted_data\n",
    "\n",
    "Bank2_received_data = Bank1_encrypted_data\n",
    "\n",
    "# The parties compute the multiplication of their data\n",
    "\n",
    "Bank1_result = compute(Bank1_data, Bank2_received_data)\n",
    "\n",
    "print(Bank1_result)\n",
    "\n",
    "Bank2_result = compute(Bank2_data, Bank1_received_data)\n",
    "\n",
    "print(Bank2_result)\n",
    "\n",
    "# The parties add their private keys to the result\n",
    "\n",
    "final_result = Bank1_result + Bank1_key + Bank2_result + Bank2_key\n",
    "\n",
    "print(\"Result:\", final_result)\n"
   ]
  },
  {
   "cell_type": "code",
   "execution_count": null,
   "id": "26dc88ee",
   "metadata": {},
   "outputs": [],
   "source": []
  }
 ],
 "metadata": {
  "kernelspec": {
   "display_name": "Python 3 (ipykernel)",
   "language": "python",
   "name": "python3"
  },
  "language_info": {
   "codemirror_mode": {
    "name": "ipython",
    "version": 3
   },
   "file_extension": ".py",
   "mimetype": "text/x-python",
   "name": "python",
   "nbconvert_exporter": "python",
   "pygments_lexer": "ipython3",
   "version": "3.8.10"
  }
 },
 "nbformat": 4,
 "nbformat_minor": 5
}
