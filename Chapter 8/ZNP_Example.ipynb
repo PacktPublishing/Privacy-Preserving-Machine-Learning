{
 "cells": [
  {
   "cell_type": "code",
   "execution_count": 3,
   "id": "5715ff2b",
   "metadata": {},
   "outputs": [
    {
     "name": "stdout",
     "output_type": "stream",
     "text": [
      "Prover sends commitments:  39 94\n",
      "Prover has proven knowledge of the blinding factor!\n"
     ]
    }
   ],
   "source": [
    "import random\n",
    "\n",
    "# Set up the scenario\n",
    "secret_number = 42  # The secret number the Prover wants to prove knowledge of\n",
    "upper_bound = 100  # The upper bound of the possible values for the secret number\n",
    "\n",
    "# Generate random values for the parameters used in the ZKPK\n",
    "a = random.randint(1, upper_bound)  # Random value for the first parameter\n",
    "b = random.randint(1, upper_bound)  # Random value for the second parameter\n",
    "r = random.randint(1, upper_bound)  # Random value for the blinding factor\n",
    "\n",
    "# Calculate the commitments\n",
    "commitment_x = (a * secret_number + b) % upper_bound\n",
    "commitment_r = (a * r + b) % upper_bound\n",
    "\n",
    "# Send the commitments to the Verifier\n",
    "print(\"Prover sends commitments: \", commitment_x, commitment_r)\n",
    "\n",
    "# Verifier sends a random challenge value to the Prover\n",
    "challenge = random.randint(0, 1)\n",
    "\n",
    "# Prover responds with the value of the secret number or the blinding factor, depending on the challenge\n",
    "if challenge == 0:\n",
    "    response = secret_number\n",
    "else:\n",
    "    response = r\n",
    "\n",
    "# Verifier checks the response against the commitments\n",
    "if challenge == 0:\n",
    "    if (a * response + b) % upper_bound == commitment_x:\n",
    "        print(\"Prover has proven knowledge of the secret number!\")\n",
    "    else:\n",
    "        print(\"Prover has failed to prove knowledge of the secret number.\")\n",
    "else:\n",
    "    if (a * response + b) % upper_bound == commitment_r:\n",
    "        print(\"Prover has proven knowledge of the blinding factor!\")\n",
    "    else:\n",
    "        print(\"Prover has failed to prove knowledge of the blinding factor.\")"
   ]
  },
  {
   "cell_type": "code",
   "execution_count": null,
   "id": "36e798a7",
   "metadata": {},
   "outputs": [],
   "source": []
  },
  {
   "cell_type": "code",
   "execution_count": null,
   "id": "07269d80",
   "metadata": {},
   "outputs": [],
   "source": []
  }
 ],
 "metadata": {
  "kernelspec": {
   "display_name": "Python 3 (ipykernel)",
   "language": "python",
   "name": "python3"
  },
  "language_info": {
   "codemirror_mode": {
    "name": "ipython",
    "version": 3
   },
   "file_extension": ".py",
   "mimetype": "text/x-python",
   "name": "python",
   "nbconvert_exporter": "python",
   "pygments_lexer": "ipython3",
   "version": "3.8.10"
  }
 },
 "nbformat": 4,
 "nbformat_minor": 5
}
