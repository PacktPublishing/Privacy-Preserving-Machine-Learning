{
 "cells": [
  {
   "cell_type": "code",
   "execution_count": 6,
   "id": "940f0b7d",
   "metadata": {},
   "outputs": [
    {
     "name": "stdout",
     "output_type": "stream",
     "text": [
      "[{'name': 'e807ef3ca985de8ef481ddf8af4d3ac4c34089519cf225a7863306ced0a691fa', 'age': 23, 'email': '474f2b3dce2701b08651d64364ab5e83575e9bd8ff7e0e14d654afbdf19f6683'}, {'name': '36cbc209f7afaba2a3a4d8830c2b85b3813f467f4bf442bb439b3f112be00bd0', 'age': 32, 'email': '6a7b3de0488fc3a81436b5c70e943ca7139c93d1832430db2e6bac3f2c25cce5'}, {'name': '096aca9f2b7872c89b9c71ff1a649e7fe53fc7eb1a04354792ea58aaee3bbecf', 'age': 55, 'email': 'e15e4e48f0161e7a64b8ef604e6d9bd5d9d6f2da3c8d848268aeec0ff5da2ef8'}]\n"
     ]
    }
   ],
   "source": [
    "import hashlib\n",
    "import random\n",
    "\n",
    "# Example dataset\n",
    "dataset = [\n",
    "    {\"name\": \"Alice\", \"age\": 23, \"email\": \"alice@example.com\"},\n",
    "    {\"name\": \"Bob\", \"age\": 32, \"email\": \"bob@example.com\"},\n",
    "    {\"name\": \"Gandhi\", \"age\": 55, \"email\": \"gandhi@example.com\"},\n",
    "]\n",
    "\n",
    "# Create a random salt value for anonymization\n",
    "salt = str(random.getrandbits(128))\n",
    "\n",
    "# Loop through the dataset and anonymize each record\n",
    "for record in dataset:\n",
    "    # Hash the name and email using the salt value\n",
    "    name_hash = hashlib.sha256((record['name'] + salt).encode()).hexdigest()\n",
    "    email_hash = hashlib.sha256((record['email'] + salt).encode()).hexdigest()\n",
    "\n",
    "    # Replace the original name and email with the hashed values\n",
    "    record['name'] = name_hash\n",
    "    record['email'] = email_hash\n",
    "\n",
    "print(dataset)"
   ]
  },
  {
   "cell_type": "code",
   "execution_count": null,
   "id": "2dfb7f18",
   "metadata": {},
   "outputs": [],
   "source": []
  },
  {
   "cell_type": "code",
   "execution_count": null,
   "id": "c8009023",
   "metadata": {},
   "outputs": [],
   "source": []
  }
 ],
 "metadata": {
  "kernelspec": {
   "display_name": "Python 3 (ipykernel)",
   "language": "python",
   "name": "python3"
  },
  "language_info": {
   "codemirror_mode": {
    "name": "ipython",
    "version": 3
   },
   "file_extension": ".py",
   "mimetype": "text/x-python",
   "name": "python",
   "nbconvert_exporter": "python",
   "pygments_lexer": "ipython3",
   "version": "3.8.10"
  }
 },
 "nbformat": 4,
 "nbformat_minor": 5
}
