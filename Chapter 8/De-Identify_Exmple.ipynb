{
 "cells": [
  {
   "cell_type": "code",
   "execution_count": 3,
   "id": "8c0607d4",
   "metadata": {},
   "outputs": [
    {
     "name": "stdout",
     "output_type": "stream",
     "text": [
      "6cea57c2fb6cbc2a40411135005760f241fffc3e5e67ab99882726431037f908\n"
     ]
    }
   ],
   "source": [
    "import hashlib\n",
    "\n",
    "# Define a function to hash a given string using SHA256 Alogrithm\n",
    "def hash_string(s):\n",
    "    return hashlib.sha256(s.encode()).hexdigest()\n",
    "\n",
    "# Define a function to de-identify a given input data\n",
    "def deidentify_data(data):\n",
    "    # Remove leading/trailing whitespace and convert to lowercase\n",
    "    data = data.strip().lower()\n",
    "    # Hash the name using SHA-256\n",
    "    hashed_data = hash_string(name)\n",
    "    # Return the hashed data\n",
    "    return hashed_data\n",
    "\n",
    "# input\n",
    "person_name = \"Sundar P\"\n",
    "hashed_name = deidentify_data(person_name)\n",
    "print(hashed_name)  # Output: \"6cea57c2fb6cbc2a40411135005760f241fffc3e5e67ab99882726431037f908\""
   ]
  },
  {
   "cell_type": "code",
   "execution_count": null,
   "id": "71ebfdb0",
   "metadata": {},
   "outputs": [],
   "source": []
  }
 ],
 "metadata": {
  "kernelspec": {
   "display_name": "Python 3 (ipykernel)",
   "language": "python",
   "name": "python3"
  },
  "language_info": {
   "codemirror_mode": {
    "name": "ipython",
    "version": 3
   },
   "file_extension": ".py",
   "mimetype": "text/x-python",
   "name": "python",
   "nbconvert_exporter": "python",
   "pygments_lexer": "ipython3",
   "version": "3.8.10"
  }
 },
 "nbformat": 4,
 "nbformat_minor": 5
}
