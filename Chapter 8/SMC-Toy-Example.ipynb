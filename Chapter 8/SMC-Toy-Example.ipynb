{
 "cells": [
  {
   "cell_type": "code",
   "execution_count": 2,
   "id": "033ba358",
   "metadata": {},
   "outputs": [
    {
     "name": "stdout",
     "output_type": "stream",
     "text": [
      "373.34000000000003\n",
      "643.7\n",
      "Result: 1996.04\n"
     ]
    }
   ],
   "source": [
    "import random\n",
    "\n",
    "# Define two parties\n",
    "alice_data = [0.1, 0.2, 0.3]\n",
    "bob_data = [0.5, 0.6, 0.7]\n",
    "\n",
    "# Define the computation\n",
    "def compute(x, y):\n",
    "    # Multiply the input data element-wise\n",
    "    z = [x[i] * y[i] for i in range(len(x))]\n",
    "    # Sum the result\n",
    "    result = sum(z)\n",
    "    return result\n",
    "\n",
    "# Randomly generate private keys for the parties\n",
    "alice_key = random.randint(0, 1000)\n",
    "bob_key = random.randint(0, 1000)\n",
    "\n",
    "# Alice encrypts her data using her private key\n",
    "alice_encrypted_data = [x + alice_key for x in alice_data]\n",
    "\n",
    "# Bob encrypts his data using his private key\n",
    "bob_encrypted_data = [x + bob_key for x in bob_data]\n",
    "\n",
    "# The parties send their encrypted data to each other\n",
    "alice_received_data = bob_encrypted_data\n",
    "bob_received_data = alice_encrypted_data\n",
    "\n",
    "# The parties compute the multiplication of their data\n",
    "alice_result = compute(alice_data, bob_received_data)\n",
    "\n",
    "print(alice_result)\n",
    "bob_result = compute(bob_data, alice_received_data)\n",
    "print(bob_result)\n",
    "# The parties add their private keys to the result\n",
    "final_result = alice_result + alice_key + bob_result + bob_key\n",
    "\n",
    "print(\"Result:\", final_result)"
   ]
  },
  {
   "cell_type": "code",
   "execution_count": null,
   "id": "afc2f4a0",
   "metadata": {},
   "outputs": [],
   "source": []
  }
 ],
 "metadata": {
  "kernelspec": {
   "display_name": "Python 3 (ipykernel)",
   "language": "python",
   "name": "python3"
  },
  "language_info": {
   "codemirror_mode": {
    "name": "ipython",
    "version": 3
   },
   "file_extension": ".py",
   "mimetype": "text/x-python",
   "name": "python",
   "nbconvert_exporter": "python",
   "pygments_lexer": "ipython3",
   "version": "3.8.10"
  }
 },
 "nbformat": 4,
 "nbformat_minor": 5
}
