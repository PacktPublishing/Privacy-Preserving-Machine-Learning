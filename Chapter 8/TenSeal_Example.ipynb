{
 "cells": [
  {
   "cell_type": "code",
   "execution_count": 4,
   "id": "83c9ebb6",
   "metadata": {},
   "outputs": [
    {
     "name": "stdout",
     "output_type": "stream",
     "text": [
      "[18.000000000692648]\n",
      "[56.00000750149162]\n",
      "[1022.0001371993374, 966.0001296504158, 1218.0001633861957]\n"
     ]
    }
   ],
   "source": [
    "import tenseal as ts\n",
    "\n",
    "# Setup TenSEAL context\n",
    "context = ts.context(\n",
    "            ts.SCHEME_TYPE.CKKS,\n",
    "            poly_modulus_degree=8192,\n",
    "            coeff_mod_bit_sizes=[60, 40, 40, 60]\n",
    "          )\n",
    "context.generate_galois_keys()\n",
    "context.global_scale = 2**40\n",
    "\n",
    "v1 = [14]\n",
    "v2 = [4]\n",
    "\n",
    "# encrypted vectors\n",
    "enc_v1 = ts.ckks_vector(context, v1)\n",
    "enc_v2 = ts.ckks_vector(context, v2)\n",
    "\n",
    "result = enc_v1 + enc_v2\n",
    "res = result.decrypt() \n",
    "print(res)\n",
    "\n",
    "result = enc_v1.dot(enc_v2)\n",
    "res1 = result.decrypt() \n",
    "print(res1)\n",
    "\n",
    "matrix = [\n",
    "  [73,69,87],\n",
    "]\n",
    "result = enc_v1.matmul(matrix)\n",
    "mares = result.decrypt() \n",
    "print(mares)"
   ]
  },
  {
   "cell_type": "code",
   "execution_count": 10,
   "id": "18f06131",
   "metadata": {},
   "outputs": [
    {
     "name": "stdout",
     "output_type": "stream",
     "text": [
      "Sum:  [5.999999999586003, 8.000000001443938, 10.000000000949829, 11.999999999238229]\n",
      "Product:  [5.000000668939916, 12.000001620509034, 21.00000281768154, 32.000004283413496]\n"
     ]
    }
   ],
   "source": [
    "import tenseal as ts\n",
    "\n",
    "# Step 1: Create context\n",
    "context = ts.context(\n",
    "                     ts.SCHEME_TYPE.CKKS, \n",
    "                     poly_modulus_degree=8192, \n",
    "                     coeff_mod_bit_sizes=[60, 40, 40, 60]\n",
    "                    )\n",
    "\n",
    "context.generate_galois_keys()\n",
    "context.global_scale = 2**40\n",
    "\n",
    "# Step 2: Create and encrypt data\n",
    "data1 = [1.0, 2.0, 3.0, 4.0]\n",
    "data2 = [5.0, 6.0, 7.0, 8.0]\n",
    "\n",
    "encrypted_data1 = ts.ckks_vector(context, data1)\n",
    "encrypted_data2 = ts.ckks_vector(context, data2)\n",
    "\n",
    "# Step 3: Perform operations on encrypted data\n",
    "encrypted_sum = encrypted_data1 + encrypted_data2\n",
    "encrypted_product = encrypted_data1 * encrypted_data2\n",
    "\n",
    "# Step 4: Decrypt result\n",
    "sum_result = encrypted_sum.decrypt()\n",
    "product_result = encrypted_product.decrypt()\n",
    "\n",
    "print(\"Sum: \", sum_result)\n",
    "print(\"Product: \", product_result)"
   ]
  },
  {
   "cell_type": "code",
   "execution_count": 11,
   "id": "36df8993",
   "metadata": {},
   "outputs": [
    {
     "ename": "ValueError",
     "evalue": "can only encrypt a vector",
     "output_type": "error",
     "traceback": [
      "\u001b[0;31m---------------------------------------------------------------------------\u001b[0m",
      "\u001b[0;31mValueError\u001b[0m                                Traceback (most recent call last)",
      "Cell \u001b[0;32mIn[11], line 23\u001b[0m\n\u001b[1;32m     14\u001b[0m data1 \u001b[38;5;241m=\u001b[39m [ [\u001b[38;5;241m1.0\u001b[39m, \u001b[38;5;241m2.0\u001b[39m, \u001b[38;5;241m3.0\u001b[39m, \u001b[38;5;241m4.0\u001b[39m],\n\u001b[1;32m     15\u001b[0m           [\u001b[38;5;241m1.0\u001b[39m, \u001b[38;5;241m2.0\u001b[39m, \u001b[38;5;241m3.0\u001b[39m, \u001b[38;5;241m4.0\u001b[39m],\n\u001b[1;32m     16\u001b[0m           [\u001b[38;5;241m1.0\u001b[39m, \u001b[38;5;241m2.0\u001b[39m, \u001b[38;5;241m3.0\u001b[39m, \u001b[38;5;241m4.0\u001b[39m]\n\u001b[1;32m     17\u001b[0m         ]\n\u001b[1;32m     18\u001b[0m data2 \u001b[38;5;241m=\u001b[39m [ [\u001b[38;5;241m5.0\u001b[39m, \u001b[38;5;241m6.0\u001b[39m, \u001b[38;5;241m7.0\u001b[39m, \u001b[38;5;241m8.0\u001b[39m],\n\u001b[1;32m     19\u001b[0m           [\u001b[38;5;241m5.0\u001b[39m, \u001b[38;5;241m6.0\u001b[39m, \u001b[38;5;241m7.0\u001b[39m, \u001b[38;5;241m8.0\u001b[39m],\n\u001b[1;32m     20\u001b[0m           [\u001b[38;5;241m5.0\u001b[39m, \u001b[38;5;241m6.0\u001b[39m, \u001b[38;5;241m7.0\u001b[39m, \u001b[38;5;241m8.0\u001b[39m]\n\u001b[1;32m     21\u001b[0m         ]\n\u001b[0;32m---> 23\u001b[0m encrypted_data1 \u001b[38;5;241m=\u001b[39m \u001b[43mts\u001b[49m\u001b[38;5;241;43m.\u001b[39;49m\u001b[43mckks_vector\u001b[49m\u001b[43m(\u001b[49m\u001b[43mcontext\u001b[49m\u001b[43m,\u001b[49m\u001b[43m \u001b[49m\u001b[43mdata1\u001b[49m\u001b[43m)\u001b[49m\n\u001b[1;32m     24\u001b[0m encrypted_data2 \u001b[38;5;241m=\u001b[39m ts\u001b[38;5;241m.\u001b[39mckks_vector(context, data2)\n\u001b[1;32m     26\u001b[0m \u001b[38;5;66;03m# Step 3: Perform operations on encrypted data\u001b[39;00m\n",
      "File \u001b[0;32m~/Library/Python/3.8/lib/python/site-packages/tenseal/__init__.py:102\u001b[0m, in \u001b[0;36mckks_vector\u001b[0;34m(*args, **kwargs)\u001b[0m\n\u001b[1;32m    100\u001b[0m \u001b[38;5;28;01mdef\u001b[39;00m \u001b[38;5;21mckks_vector\u001b[39m(\u001b[38;5;241m*\u001b[39margs, \u001b[38;5;241m*\u001b[39m\u001b[38;5;241m*\u001b[39mkwargs) \u001b[38;5;241m-\u001b[39m\u001b[38;5;241m>\u001b[39m CKKSVector:\n\u001b[1;32m    101\u001b[0m \u001b[38;5;250m    \u001b[39m\u001b[38;5;124;03m\"\"\"Constructor function for tenseal.CKKSVector\"\"\"\u001b[39;00m\n\u001b[0;32m--> 102\u001b[0m     \u001b[38;5;28;01mreturn\u001b[39;00m \u001b[43mCKKSVector\u001b[49m\u001b[43m(\u001b[49m\u001b[38;5;241;43m*\u001b[39;49m\u001b[43margs\u001b[49m\u001b[43m,\u001b[49m\u001b[43m \u001b[49m\u001b[38;5;241;43m*\u001b[39;49m\u001b[38;5;241;43m*\u001b[39;49m\u001b[43mkwargs\u001b[49m\u001b[43m)\u001b[49m\n",
      "File \u001b[0;32m~/Library/Python/3.8/lib/python/site-packages/tenseal/tensors/ckksvector.py:38\u001b[0m, in \u001b[0;36mCKKSVector.__init__\u001b[0;34m(self, context, vector, scale, data)\u001b[0m\n\u001b[1;32m     36\u001b[0m     vector \u001b[38;5;241m=\u001b[39m ts\u001b[38;5;241m.\u001b[39mplain_tensor(vector, dtype\u001b[38;5;241m=\u001b[39m\u001b[38;5;124m\"\u001b[39m\u001b[38;5;124mfloat\u001b[39m\u001b[38;5;124m\"\u001b[39m)\n\u001b[1;32m     37\u001b[0m \u001b[38;5;28;01mif\u001b[39;00m \u001b[38;5;28mlen\u001b[39m(vector\u001b[38;5;241m.\u001b[39mshape) \u001b[38;5;241m!=\u001b[39m \u001b[38;5;241m1\u001b[39m:\n\u001b[0;32m---> 38\u001b[0m     \u001b[38;5;28;01mraise\u001b[39;00m \u001b[38;5;167;01mValueError\u001b[39;00m(\u001b[38;5;124m\"\u001b[39m\u001b[38;5;124mcan only encrypt a vector\u001b[39m\u001b[38;5;124m\"\u001b[39m)\n\u001b[1;32m     39\u001b[0m vector \u001b[38;5;241m=\u001b[39m vector\u001b[38;5;241m.\u001b[39mraw\n\u001b[1;32m     41\u001b[0m \u001b[38;5;28;01mif\u001b[39;00m scale \u001b[38;5;129;01mis\u001b[39;00m \u001b[38;5;28;01mNone\u001b[39;00m:\n",
      "\u001b[0;31mValueError\u001b[0m: can only encrypt a vector"
     ]
    }
   ],
   "source": [
    "import tenseal as ts\n",
    "\n",
    "# Step 1: Create context\n",
    "context = ts.context(\n",
    "                     ts.SCHEME_TYPE.CKKS, \n",
    "                     poly_modulus_degree=8192, \n",
    "                     coeff_mod_bit_sizes=[60, 40, 40, 60]\n",
    "                    )\n",
    "\n",
    "context.generate_galois_keys()\n",
    "context.global_scale = 2**40\n",
    "\n",
    "# Step 2: Create and encrypt data\n",
    "data1 = [ [1.0, 2.0, 3.0, 4.0],\n",
    "          [1.0, 2.0, 3.0, 4.0],\n",
    "          [1.0, 2.0, 3.0, 4.0]\n",
    "        ]\n",
    "data2 = [ [5.0, 6.0, 7.0, 8.0],\n",
    "          [5.0, 6.0, 7.0, 8.0],\n",
    "          [5.0, 6.0, 7.0, 8.0]\n",
    "        ]\n",
    "\n",
    "encrypted_data1 = ts.ckks_vector(context, data1)\n",
    "encrypted_data2 = ts.ckks_vector(context, data2)\n",
    "\n",
    "# Step 3: Perform operations on encrypted data\n",
    "encrypted_sum = encrypted_data1 + encrypted_data2\n",
    "encrypted_product = encrypted_data1 * encrypted_data2\n",
    "\n",
    "# Step 4: Decrypt result\n",
    "sum_result = encrypted_sum.decrypt()\n",
    "product_result = encrypted_product.decrypt()\n",
    "\n",
    "print(\"Sum: \", sum_result)\n",
    "print(\"Product: \", product_result)"
   ]
  },
  {
   "cell_type": "code",
   "execution_count": 1,
   "id": "ff1ace30",
   "metadata": {},
   "outputs": [
    {
     "name": "stdout",
     "output_type": "stream",
     "text": [
      "[18.000000001094218]\n",
      "[56.00000752117612]\n",
      "[1022.0001370941033, 966.0001296222788, 1218.000163270301]\n"
     ]
    }
   ],
   "source": [
    "import tenseal as ts\n",
    "\n",
    "# Setup TenSEAL context\n",
    "context = ts.context(\n",
    "            ts.SCHEME_TYPE.CKKS,\n",
    "            poly_modulus_degree=8192,\n",
    "            coeff_mod_bit_sizes=[60, 40, 40, 60]\n",
    "          )\n",
    "context.generate_galois_keys()\n",
    "context.global_scale = 2**40\n",
    "\n",
    "v1 = [14]\n",
    "v2 = [4]\n",
    "\n",
    "# encrypted vectors\n",
    "enc_v1 = ts.ckks_vector(context, v1)\n",
    "enc_v2 = ts.ckks_vector(context, v2)\n",
    "\n",
    "result = enc_v1 + enc_v2\n",
    "res = result.decrypt() \n",
    "print(res)\n",
    "\n",
    "result = enc_v1.dot(enc_v2)\n",
    "res1 = result.decrypt() \n",
    "print(res1)\n",
    "\n",
    "matrix = [\n",
    "  [73,69,87],\n",
    "]\n",
    "result = enc_v1.matmul(matrix)\n",
    "mares = result.decrypt() \n",
    "print(mares)"
   ]
  },
  {
   "cell_type": "code",
   "execution_count": 2,
   "id": "d6234ab9",
   "metadata": {},
   "outputs": [
    {
     "ename": "TypeError",
     "evalue": "unsupported operand type(s) for /: '_tenseal_cpp.CKKSVector' and '_tenseal_cpp.CKKSVector'",
     "output_type": "error",
     "traceback": [
      "\u001b[0;31m---------------------------------------------------------------------------\u001b[0m",
      "\u001b[0;31mTypeError\u001b[0m                                 Traceback (most recent call last)",
      "Cell \u001b[0;32mIn[2], line 1\u001b[0m\n\u001b[0;32m----> 1\u001b[0m result \u001b[38;5;241m=\u001b[39m \u001b[43menc_v1\u001b[49m\u001b[43m \u001b[49m\u001b[38;5;241;43m/\u001b[39;49m\u001b[43m \u001b[49m\u001b[43menc_v2\u001b[49m\n",
      "\u001b[0;31mTypeError\u001b[0m: unsupported operand type(s) for /: '_tenseal_cpp.CKKSVector' and '_tenseal_cpp.CKKSVector'"
     ]
    }
   ],
   "source": [
    "result = enc_v1 / enc_v2"
   ]
  },
  {
   "cell_type": "code",
   "execution_count": 8,
   "id": "380b9c76",
   "metadata": {},
   "outputs": [
    {
     "name": "stdout",
     "output_type": "stream",
     "text": [
      "Sum:  [6.000000000650802, 8.000000001433328, 10.0000000008995, 12.000000000314097]\n",
      "Product:  [5.000000671234171, 12.000001615240716, 21.000002823083314, 32.000004292130704]\n",
      "Dot product:  [70.00000937472286]\n",
      "Matrix Multiplication :  [652.000087556169]\n"
     ]
    }
   ],
   "source": [
    "import tenseal as ts\n",
    "\n",
    "# Step 1: Create context\n",
    "context = ts.context(\n",
    "                     ts.SCHEME_TYPE.CKKS, \n",
    "                     poly_modulus_degree=8192, \n",
    "                     coeff_mod_bit_sizes=[60, 40, 40, 60]\n",
    "                    )\n",
    "\n",
    "context.generate_galois_keys()\n",
    "\n",
    "context.global_scale = 2**40\n",
    "\n",
    "# Step 2: Create and encrypt data\n",
    "data1 = [1.0, 2.0, 3.0, 4.0]\n",
    "\n",
    "data2 = [5.0, 6.0, 7.0, 8.0]\n",
    "\n",
    "encrypted_data1 = ts.ckks_vector(context, data1)\n",
    "\n",
    "encrypted_data2 = ts.ckks_vector(context, data2)\n",
    "\n",
    "# Step 3: Perform operations on encrypted data\n",
    "\n",
    "encrypted_sum = encrypted_data1 + encrypted_data2\n",
    "\n",
    "encrypted_product = encrypted_data1 * encrypted_data2\n",
    "\n",
    "encrypted_dot_product = encrypted_data1.dot(encrypted_data2)\n",
    "\n",
    "matrix_a =  [\n",
    "  [73],[69],[87],[45],\n",
    "]\n",
    "\n",
    "mat_product = encrypted_data1.matmul(matrix_a)\n",
    "\n",
    "# Step 4: Decrypt result\n",
    "\n",
    "sum_result = encrypted_sum.decrypt()\n",
    "\n",
    "product_result = encrypted_product.decrypt()\n",
    "\n",
    "dot_product_result = encrypted_dot_product.decrypt()\n",
    "\n",
    "mat_result = mat_product.decrypt()\n",
    "\n",
    "print(\"Sum: \", sum_result)\n",
    "\n",
    "print(\"Product: \", product_result)\n",
    "\n",
    "print(\"Dot product: \", dot_product_result)\n",
    "\n",
    "print(\"Matrix Multiplication : \", mat_result)\n",
    "\n",
    "\n"
   ]
  },
  {
   "cell_type": "code",
   "execution_count": null,
   "id": "91fc0ef5",
   "metadata": {},
   "outputs": [],
   "source": []
  }
 ],
 "metadata": {
  "kernelspec": {
   "display_name": "Python 3 (ipykernel)",
   "language": "python",
   "name": "python3"
  },
  "language_info": {
   "codemirror_mode": {
    "name": "ipython",
    "version": 3
   },
   "file_extension": ".py",
   "mimetype": "text/x-python",
   "name": "python",
   "nbconvert_exporter": "python",
   "pygments_lexer": "ipython3",
   "version": "3.8.10"
  }
 },
 "nbformat": 4,
 "nbformat_minor": 5
}
