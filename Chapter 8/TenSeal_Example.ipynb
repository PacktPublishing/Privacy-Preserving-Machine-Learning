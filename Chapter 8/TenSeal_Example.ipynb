{
 "cells": [
  {
   "cell_type": "code",
   "execution_count": 1,
   "id": "83c9ebb6",
   "metadata": {},
   "outputs": [
    {
     "name": "stdout",
     "output_type": "stream",
     "text": [
      "[18.00000000019341]\n",
      "[56.00000751043717]\n",
      "[1022.0001370766132, 966.0001295322452, 1218.0001634608157]\n"
     ]
    }
   ],
   "source": [
    "import tenseal as ts\n",
    "\n",
    "# Setup TenSEAL context\n",
    "context = ts.context(\n",
    "            ts.SCHEME_TYPE.CKKS,\n",
    "            poly_modulus_degree=8192,\n",
    "            coeff_mod_bit_sizes=[60, 40, 40, 60]\n",
    "          )\n",
    "context.generate_galois_keys()\n",
    "context.global_scale = 2**40\n",
    "\n",
    "v1 = [14]\n",
    "v2 = [4]\n",
    "\n",
    "# encrypted vectors\n",
    "enc_v1 = ts.ckks_vector(context, v1)\n",
    "enc_v2 = ts.ckks_vector(context, v2)\n",
    "\n",
    "result = enc_v1 + enc_v2\n",
    "res = result.decrypt() \n",
    "print(res)\n",
    "\n",
    "result = enc_v1.dot(enc_v2)\n",
    "res1 = result.decrypt() \n",
    "print(res1)\n",
    "\n",
    "matrix = [\n",
    "  [73,69,87],\n",
    "]\n",
    "result = enc_v1.matmul(matrix)\n",
    "mares = result.decrypt() \n",
    "print(mares)"
   ]
  },
  {
   "cell_type": "code",
   "execution_count": 2,
   "id": "18f06131",
   "metadata": {},
   "outputs": [
    {
     "name": "stdout",
     "output_type": "stream",
     "text": [
      "Sum:  [5.999999997685088, 7.999999999633038, 9.999999999974717, 12.00000000012505]\n",
      "Product:  [5.000000661331732, 12.000001606892537, 21.000002813460462, 32.000004292501885]\n"
     ]
    }
   ],
   "source": [
    "import tenseal as ts\n",
    "\n",
    "# Step 1: Create context\n",
    "context = ts.context(\n",
    "                     ts.SCHEME_TYPE.CKKS, \n",
    "                     poly_modulus_degree=8192, \n",
    "                     coeff_mod_bit_sizes=[60, 40, 40, 60]\n",
    "                    )\n",
    "\n",
    "context.generate_galois_keys()\n",
    "context.global_scale = 2**40\n",
    "\n",
    "# Step 2: Create and encrypt data\n",
    "data1 = [1.0, 2.0, 3.0, 4.0]\n",
    "data2 = [5.0, 6.0, 7.0, 8.0]\n",
    "\n",
    "encrypted_data1 = ts.ckks_vector(context, data1)\n",
    "encrypted_data2 = ts.ckks_vector(context, data2)\n",
    "\n",
    "# Step 3: Perform operations on encrypted data\n",
    "encrypted_sum = encrypted_data1 + encrypted_data2\n",
    "encrypted_product = encrypted_data1 * encrypted_data2\n",
    "\n",
    "# Step 4: Decrypt result\n",
    "sum_result = encrypted_sum.decrypt()\n",
    "product_result = encrypted_product.decrypt()\n",
    "\n",
    "print(\"Sum: \", sum_result)\n",
    "print(\"Product: \", product_result)"
   ]
  },
  {
   "cell_type": "code",
   "execution_count": 3,
   "id": "ff1ace30",
   "metadata": {},
   "outputs": [
    {
     "name": "stdout",
     "output_type": "stream",
     "text": [
      "[18.00000000061849]\n",
      "[56.00000751200231]\n",
      "[1022.0001371070327, 966.0001295367597, 1218.0001633317684]\n"
     ]
    }
   ],
   "source": [
    "import tenseal as ts\n",
    "\n",
    "# Setup TenSEAL context\n",
    "context = ts.context(\n",
    "            ts.SCHEME_TYPE.CKKS,\n",
    "            poly_modulus_degree=8192,\n",
    "            coeff_mod_bit_sizes=[60, 40, 40, 60]\n",
    "          )\n",
    "context.generate_galois_keys()\n",
    "context.global_scale = 2**40\n",
    "\n",
    "v1 = [14]\n",
    "v2 = [4]\n",
    "\n",
    "# encrypted vectors\n",
    "enc_v1 = ts.ckks_vector(context, v1)\n",
    "enc_v2 = ts.ckks_vector(context, v2)\n",
    "\n",
    "result = enc_v1 + enc_v2\n",
    "res = result.decrypt() \n",
    "print(res)\n",
    "\n",
    "result = enc_v1.dot(enc_v2)\n",
    "res1 = result.decrypt() \n",
    "print(res1)\n",
    "\n",
    "matrix = [\n",
    "  [73,69,87],\n",
    "]\n",
    "result = enc_v1.matmul(matrix)\n",
    "mares = result.decrypt() \n",
    "print(mares)"
   ]
  },
  {
   "cell_type": "code",
   "execution_count": 4,
   "id": "380b9c76",
   "metadata": {},
   "outputs": [
    {
     "name": "stdout",
     "output_type": "stream",
     "text": [
      "Sum:  [6.000000002930776, 7.999999999852792, 10.000000001190408, 12.000000001403416]\n",
      "Product:  [5.000000682423116, 12.00000160516684, 21.00000282770465, 32.00000430158888]\n",
      "Dot product:  [70.0000097228459]\n",
      "Matrix Multiplication :  [652.000087776919]\n"
     ]
    }
   ],
   "source": [
    "import tenseal as ts\n",
    "\n",
    "# Step 1: Create context\n",
    "context = ts.context(\n",
    "                     ts.SCHEME_TYPE.CKKS, \n",
    "                     poly_modulus_degree=8192, \n",
    "                     coeff_mod_bit_sizes=[60, 40, 40, 60]\n",
    "                    )\n",
    "\n",
    "context.generate_galois_keys()\n",
    "\n",
    "context.global_scale = 2**40\n",
    "\n",
    "# Step 2: Create and encrypt data\n",
    "data1 = [1.0, 2.0, 3.0, 4.0]\n",
    "\n",
    "data2 = [5.0, 6.0, 7.0, 8.0]\n",
    "\n",
    "encrypted_data1 = ts.ckks_vector(context, data1)\n",
    "\n",
    "encrypted_data2 = ts.ckks_vector(context, data2)\n",
    "\n",
    "# Step 3: Perform operations on encrypted data\n",
    "\n",
    "encrypted_sum = encrypted_data1 + encrypted_data2\n",
    "\n",
    "encrypted_product = encrypted_data1 * encrypted_data2\n",
    "\n",
    "encrypted_dot_product = encrypted_data1.dot(encrypted_data2)\n",
    "\n",
    "matrix_a =  [\n",
    "  [73],[69],[87],[45],\n",
    "]\n",
    "\n",
    "mat_product = encrypted_data1.matmul(matrix_a)\n",
    "\n",
    "# Step 4: Decrypt result\n",
    "\n",
    "sum_result = encrypted_sum.decrypt()\n",
    "\n",
    "product_result = encrypted_product.decrypt()\n",
    "\n",
    "dot_product_result = encrypted_dot_product.decrypt()\n",
    "\n",
    "mat_result = mat_product.decrypt()\n",
    "\n",
    "print(\"Sum: \", sum_result)\n",
    "\n",
    "print(\"Product: \", product_result)\n",
    "\n",
    "print(\"Dot product: \", dot_product_result)\n",
    "\n",
    "print(\"Matrix Multiplication : \", mat_result)\n",
    "\n",
    "\n"
   ]
  },
  {
   "cell_type": "code",
   "execution_count": null,
   "id": "91fc0ef5",
   "metadata": {},
   "outputs": [],
   "source": []
  }
 ],
 "metadata": {
  "kernelspec": {
   "display_name": "Python 3 (ipykernel)",
   "language": "python",
   "name": "python3"
  },
  "language_info": {
   "codemirror_mode": {
    "name": "ipython",
    "version": 3
   },
   "file_extension": ".py",
   "mimetype": "text/x-python",
   "name": "python",
   "nbconvert_exporter": "python",
   "pygments_lexer": "ipython3",
   "version": "3.8.10"
  }
 },
 "nbformat": 4,
 "nbformat_minor": 5
}
