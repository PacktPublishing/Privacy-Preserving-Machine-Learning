{
 "cells": [
  {
   "cell_type": "code",
   "execution_count": 2,
   "id": "9e410c7b",
   "metadata": {},
   "outputs": [
    {
     "name": "stdout",
     "output_type": "stream",
     "text": [
      "x = 94\n",
      "y = 25\n",
      "z = 1\n"
     ]
    }
   ],
   "source": [
    "from ortools.sat.python import cp_model\n",
    "\n",
    "def AgeFindSATprogram():\n",
    "    \n",
    "    # Creates the model.\n",
    "    model = cp_model.CpModel()\n",
    "\n",
    "    # Creates 3 variable \n",
    "    num_vals = 3\n",
    "    x = model.NewIntVar(1,110, 'x')\n",
    "    y = 25\n",
    "    z = model.NewIntVar(1,110, 'z')\n",
    "\n",
    "    # Creates the constraints.\n",
    "    model.Add(x+y+z==120)\n",
    "\n",
    "    # Creates a solver and solves the model.\n",
    "    solver = cp_model.CpSolver()\n",
    "    status = solver.Solve(model)\n",
    "\n",
    "    if status == cp_model.OPTIMAL or status == cp_model.FEASIBLE:\n",
    "        print('x = %i' % solver.Value(x))\n",
    "        print('y = %i' % solver.Value(y))\n",
    "        print('z = %i' % solver.Value(z))\n",
    "    else:\n",
    "        print('No solution found.')\n",
    "\n",
    "\n",
    "AgeFindSATprogram()\n"
   ]
  },
  {
   "cell_type": "code",
   "execution_count": null,
   "id": "106b5881",
   "metadata": {},
   "outputs": [],
   "source": []
  }
 ],
 "metadata": {
  "kernelspec": {
   "display_name": "Python 3 (ipykernel)",
   "language": "python",
   "name": "python3"
  },
  "language_info": {
   "codemirror_mode": {
    "name": "ipython",
    "version": 3
   },
   "file_extension": ".py",
   "mimetype": "text/x-python",
   "name": "python",
   "nbconvert_exporter": "python",
   "pygments_lexer": "ipython3",
   "version": "3.8.10"
  }
 },
 "nbformat": 4,
 "nbformat_minor": 5
}
