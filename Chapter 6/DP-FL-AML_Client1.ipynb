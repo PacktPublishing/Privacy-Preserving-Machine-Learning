{
 "cells": [
  {
   "cell_type": "code",
   "execution_count": null,
   "id": "f0a64430",
   "metadata": {},
   "outputs": [],
   "source": [
    "import pandas as pd\n",
    "import torch\n",
    "# /Users/arrao/Documents/Atchut/Book-PPML/Chapter6/simulated_transactions_csv3/transactions.csv \n",
    "\n",
    "url =\"/Users/arrao/Documents/Atchut/Book-PPML/Chapter7-FL/PS_20174392719_1491204439457_log.csv\"\n",
    "#url = \"/Users/arrao/Documents/Atchut/Book-PPML/Chapter6/simulated_transactions_csv/2023-07-08.csv\"\n",
    "df_actual = pd.read_csv(url, sep=\",\")\n",
    "df_actual"
   ]
  },
  {
   "cell_type": "code",
   "execution_count": null,
   "id": "f0bc1542",
   "metadata": {},
   "outputs": [],
   "source": [
    "df_transactions=df_actual.head(25000)"
   ]
  },
  {
   "cell_type": "code",
   "execution_count": null,
   "id": "0c4cd852",
   "metadata": {},
   "outputs": [],
   "source": [
    "from sklearn.model_selection import train_test_split\n",
    "from sklearn.model_selection import StratifiedShuffleSplit\n",
    "\n",
    "print(\"No of Fraud Transactions:\", df_transactions[\"isFraud\"].value_counts()[0])\n",
    "print(\"No of Non Fraud Transactions:\", df_transactions[\"isFraud\"].value_counts()[1])\n",
    "\n",
    "print('No Frauds', round(df_transactions['isFraud'].value_counts()[0]/len(df_transactions) * 100,2), '% of the dataset')\n",
    "print('Frauds', round(df_transactions['isFraud'].value_counts()[1]/len(df_transactions) * 100,2), '% of the dataset')\n"
   ]
  },
  {
   "cell_type": "code",
   "execution_count": null,
   "id": "03b35463",
   "metadata": {},
   "outputs": [],
   "source": [
    "df_transactions.dtypes"
   ]
  },
  {
   "cell_type": "code",
   "execution_count": null,
   "id": "5a589613",
   "metadata": {},
   "outputs": [],
   "source": [
    "from sklearn.preprocessing import LabelEncoder\n",
    "encoder = {}\n",
    "for i in df_transactions.select_dtypes('object').columns:\n",
    "    encoder[i] = LabelEncoder()\n",
    "    df_transactions[i] = encoder[i].fit_transform(df_transactions[i])"
   ]
  },
  {
   "cell_type": "code",
   "execution_count": null,
   "id": "4725e578",
   "metadata": {},
   "outputs": [],
   "source": [
    "X = df_transactions.drop('isFraud', axis=1)\n",
    "y = df_transactions['isFraud']"
   ]
  },
  {
   "cell_type": "code",
   "execution_count": null,
   "id": "01839e50",
   "metadata": {},
   "outputs": [],
   "source": [
    "from imblearn.over_sampling import SMOTE"
   ]
  },
  {
   "cell_type": "code",
   "execution_count": null,
   "id": "c41b899b",
   "metadata": {},
   "outputs": [],
   "source": [
    "over_sample = SMOTE(random_state=0)\n",
    "X,y = over_sample.fit_resample(X,y)"
   ]
  },
  {
   "cell_type": "code",
   "execution_count": null,
   "id": "62383dbe",
   "metadata": {},
   "outputs": [],
   "source": [
    "y.value_counts()"
   ]
  },
  {
   "cell_type": "code",
   "execution_count": null,
   "id": "5b38d4c2",
   "metadata": {},
   "outputs": [],
   "source": [
    "from sklearn.preprocessing import MinMaxScaler\n",
    "scaler = MinMaxScaler()\n",
    "X = scaler.fit_transform(X)"
   ]
  },
  {
   "cell_type": "code",
   "execution_count": null,
   "id": "239435b1",
   "metadata": {},
   "outputs": [],
   "source": [
    "X = df_transactions[['step', 'type', 'amount', 'nameOrig','oldbalanceOrg', 'newbalanceOrig','nameDest', 'oldbalanceDest', 'isFlaggedFraud']]\n",
    "y= df_transactions['isFraud']"
   ]
  },
  {
   "cell_type": "code",
   "execution_count": null,
   "id": "159733b5",
   "metadata": {},
   "outputs": [],
   "source": [
    "X_train, X_test, y_train, y_test = train_test_split(X, y, test_size=0.3, random_state=42)"
   ]
  },
  {
   "cell_type": "code",
   "execution_count": null,
   "id": "80f918c4",
   "metadata": {},
   "outputs": [],
   "source": [
    "# Turn the values into an array for feeding the classification algorithms.\n",
    "X_train = X_train.values\n",
    "X_test = X_test.values\n",
    "y_train = y_train.values\n",
    "y_test = y_test.values"
   ]
  },
  {
   "cell_type": "code",
   "execution_count": null,
   "id": "ff03b279",
   "metadata": {},
   "outputs": [],
   "source": [
    "y_train"
   ]
  },
  {
   "cell_type": "code",
   "execution_count": null,
   "id": "e78145ee",
   "metadata": {},
   "outputs": [],
   "source": [
    "y_test"
   ]
  },
  {
   "cell_type": "code",
   "execution_count": null,
   "id": "49cc1cb2",
   "metadata": {},
   "outputs": [],
   "source": [
    "print(X_test)"
   ]
  },
  {
   "cell_type": "code",
   "execution_count": null,
   "id": "a5919728",
   "metadata": {},
   "outputs": [],
   "source": [
    "from typing import Tuple, Union, List\n",
    "import numpy as np\n",
    "from sklearn.linear_model import LogisticRegression\n",
    "import openml\n",
    "\n",
    "XY = Tuple[np.ndarray, np.ndarray]\n",
    "Dataset = Tuple[XY, XY]\n",
    "LogRegParams = Union[XY, Tuple[np.ndarray]]\n",
    "XYList = List[XY]\n",
    "\n",
    "def get_model_parameters(model: LogisticRegression) -> LogRegParams:\n",
    "    \"\"\"Returns the paramters of a sklearn LogisticRegression model.\"\"\"\n",
    "    if model.fit_intercept:\n",
    "        params = [\n",
    "            model.coef_,\n",
    "            model.intercept_,\n",
    "        ]\n",
    "    else:\n",
    "        params = [\n",
    "            model.coef_,\n",
    "        ]\n",
    "    return params\n",
    "\n",
    "\n",
    "def set_model_params(\n",
    "    model: LogisticRegression, params: LogRegParams\n",
    ") -> LogisticRegression:\n",
    "    \"\"\"Sets the parameters of a sklean LogisticRegression model.\"\"\"\n",
    "    model.coef_ = params[0]\n",
    "    if model.fit_intercept:\n",
    "        model.intercept_ = params[1]\n",
    "    return model\n",
    "\n",
    "def shuffle(X: np.ndarray, y: np.ndarray) -> XY:\n",
    "    \"\"\"Shuffle X and y.\"\"\"\n",
    "    rng = np.random.default_rng()\n",
    "    idx = rng.permutation(len(X))\n",
    "    return X[idx], y[idx]\n",
    "\n",
    "\n",
    "def partition(X: np.ndarray, y: np.ndarray, num_partitions: int) -> XYList:\n",
    "    \"\"\"Split X and y into a number of partitions.\"\"\"\n",
    "    return list(\n",
    "        zip(np.array_split(X, num_partitions), np.array_split(y, num_partitions))\n",
    "    )\n",
    "\n",
    "def set_initial_params(model: LogisticRegression):\n",
    "    \"\"\"Sets initial parameters as zeros Required since model params are\n",
    "    uninitialized until model.fit is called.\n",
    "    But server asks for initial parameters from clients at launch. Refer\n",
    "    to sklearn.linear_model.LogisticRegression documentation for more\n",
    "    information.\n",
    "    \"\"\"\n",
    "    n_classes = 2  \n",
    "    n_features = 9  # Number of features in dataset\n",
    "    model.classes_ = np.array([i for i in range(n_classes)])\n",
    "\n",
    "    model.coef_ = np.zeros((n_classes, n_features))\n",
    "    if model.fit_intercept:\n",
    "        model.intercept_ = np.zeros((n_classes,))\n"
   ]
  },
  {
   "cell_type": "code",
   "execution_count": null,
   "id": "8bfb1985",
   "metadata": {},
   "outputs": [],
   "source": [
    "import warnings\n",
    "import flwr as fl\n",
    "import numpy as np\n",
    "\n",
    "from sklearn.linear_model import LogisticRegression\n",
    "from sklearn.metrics import log_loss"
   ]
  },
  {
   "cell_type": "code",
   "execution_count": null,
   "id": "aa0e0086",
   "metadata": {},
   "outputs": [],
   "source": [
    "partition_id = np.random.choice(10)\n",
    "(X_train, y_train) = partition(X_train, y_train, 10)[partition_id]"
   ]
  },
  {
   "cell_type": "code",
   "execution_count": null,
   "id": "f4d89197",
   "metadata": {},
   "outputs": [],
   "source": [
    "X_train"
   ]
  },
  {
   "cell_type": "code",
   "execution_count": null,
   "id": "f0a41756",
   "metadata": {},
   "outputs": [],
   "source": [
    "partition_id"
   ]
  },
  {
   "cell_type": "code",
   "execution_count": null,
   "id": "13492a30",
   "metadata": {},
   "outputs": [],
   "source": [
    "from sklearn.linear_model import LogisticRegression\n",
    "model = LogisticRegression(\n",
    "        penalty=\"l2\",\n",
    "        max_iter=1,  # local epoch\n",
    "        warm_start=True,  # prevent refreshing weights when fitting\n",
    "    )\n",
    "\n",
    "model.fit(X_train, y_train)"
   ]
  },
  {
   "cell_type": "code",
   "execution_count": null,
   "id": "cc80e3f2",
   "metadata": {},
   "outputs": [],
   "source": [
    "class AML_Detection_Client(fl.client.NumPyClient):\n",
    "        def get_parameters(self, config):  # type: ignore\n",
    "            return get_model_parameters(model)\n",
    "\n",
    "        def fit(self, parameters, config):  # type: ignore\n",
    "            set_model_params(model, parameters)\n",
    "            # Ignore convergence failure due to low local epochs\n",
    "            with warnings.catch_warnings():\n",
    "                model.fit(X_train, y_train)\n",
    "                warnings.simplefilter(\"ignore\")\n",
    "            print(f\"Training finished for round {config['server_round']}\")\n",
    "            return get_model_parameters(model), len(X_train), {}\n",
    "\n",
    "        def evaluate(self, parameters, config):  # type: ignore\n",
    "            set_model_params(model, parameters)\n",
    "            loss = log_loss(y_test, model.predict_proba(X_test))\n",
    "            accuracy = model.score(X_test, y_test)\n",
    "            print(loss,accuracy)\n",
    "            return loss, len(X_test), {\"accuracy\": accuracy}"
   ]
  },
  {
   "cell_type": "code",
   "execution_count": null,
   "id": "069cda6e",
   "metadata": {},
   "outputs": [],
   "source": [
    "fl.client.start_numpy_client(server_address=\"0.0.0.0:8080\", client=AML_Detection_Client())"
   ]
  },
  {
   "cell_type": "code",
   "execution_count": null,
   "id": "a5742414",
   "metadata": {},
   "outputs": [],
   "source": []
  }
 ],
 "metadata": {
  "kernelspec": {
   "display_name": "Python 3 (ipykernel)",
   "language": "python",
   "name": "python3"
  },
  "language_info": {
   "codemirror_mode": {
    "name": "ipython",
    "version": 3
   },
   "file_extension": ".py",
   "mimetype": "text/x-python",
   "name": "python",
   "nbconvert_exporter": "python",
   "pygments_lexer": "ipython3",
   "version": "3.8.10"
  }
 },
 "nbformat": 4,
 "nbformat_minor": 5
}
