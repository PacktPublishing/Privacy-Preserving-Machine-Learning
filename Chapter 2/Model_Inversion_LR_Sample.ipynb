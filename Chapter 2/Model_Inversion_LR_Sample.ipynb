{
 "cells": [
  {
   "cell_type": "code",
   "execution_count": 3,
   "id": "ddc90e5c",
   "metadata": {},
   "outputs": [
    {
     "name": "stdout",
     "output_type": "stream",
     "text": [
      "Inverted Input: [[5.64 5.64]]\n",
      "Inverted Input: [[9.99 9.99]]\n",
      "Inverted Input: [[4.5 4.5]]\n",
      "Inverted Input: [[0. 0.]]\n"
     ]
    }
   ],
   "source": [
    "from sklearn.linear_model import LogisticRegression\n",
    "import numpy as np\n",
    "\n",
    "# Create a sample dataset\n",
    "X = np.array([[1, 2], [3, 4], [5, 6], [7, 8]])  # Input features\n",
    "y = np.array([0, 0, 1, 1])  # Corresponding labels\n",
    "\n",
    "# Train a logistic regression model on the dataset\n",
    "model = LogisticRegression()\n",
    "model.fit(X, y)\n",
    "\n",
    "# Function to perform model inversion attack\n",
    "def model_inversion_attack(model, output):\n",
    "    # Generate a random input within a certain range\n",
    "    input_range = np.arange(0, 10, 0.01)\n",
    "    best_input = None\n",
    "    best_loss = float('inf')\n",
    "\n",
    "    # Find the input that minimizes the loss function\n",
    "    for i in input_range:\n",
    "        input_guess = np.array([[i, i]])\n",
    "        predicted_output = model.predict_proba(input_guess)\n",
    "        loss = abs(predicted_output[0][1] - output)\n",
    "        \n",
    "        if loss < best_loss:\n",
    "            best_input = input_guess\n",
    "            best_loss = loss\n",
    "    \n",
    "    return best_input\n",
    "\n",
    "# Perform model inversion attack on a specific output\n",
    "target_output = 0.8\n",
    "inverted_input = model_inversion_attack(model, target_output)\n",
    "print(\"Inverted Input:\", inverted_input)\n",
    "\n",
    "target_output = 1\n",
    "inverted_input = model_inversion_attack(model, target_output)\n",
    "print(\"Inverted Input:\", inverted_input)\n",
    "\n",
    "target_output = 0.5\n",
    "inverted_input = model_inversion_attack(model, target_output)\n",
    "print(\"Inverted Input:\", inverted_input)\n",
    "\n",
    "target_output = 0\n",
    "inverted_input = model_inversion_attack(model, target_output)\n",
    "print(\"Inverted Input:\", inverted_input)"
   ]
  },
  {
   "cell_type": "code",
   "execution_count": null,
   "id": "7009e874",
   "metadata": {},
   "outputs": [],
   "source": [
    "w"
   ]
  }
 ],
 "metadata": {
  "kernelspec": {
   "display_name": "Python 3 (ipykernel)",
   "language": "python",
   "name": "python3"
  },
  "language_info": {
   "codemirror_mode": {
    "name": "ipython",
    "version": 3
   },
   "file_extension": ".py",
   "mimetype": "text/x-python",
   "name": "python",
   "nbconvert_exporter": "python",
   "pygments_lexer": "ipython3",
   "version": "3.8.10"
  }
 },
 "nbformat": 4,
 "nbformat_minor": 5
}
