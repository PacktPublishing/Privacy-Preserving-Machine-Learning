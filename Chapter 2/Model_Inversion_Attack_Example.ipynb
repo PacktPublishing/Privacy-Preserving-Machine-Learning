{
 "cells": [
  {
   "cell_type": "code",
   "execution_count": 1,
   "id": "635acfca",
   "metadata": {},
   "outputs": [],
   "source": [
    "from pathlib import Path\n",
    "import requests\n",
    "import pickle\n",
    "import gzip\n",
    "\n",
    "DATA_PATH = Path(\"data\")\n",
    "PATH = DATA_PATH / \"mnist\"\n",
    "\n",
    "PATH.mkdir(parents=True, exist_ok=True)\n",
    "\n",
    "# 10.195.33.40 - Github\n",
    "URL = \"https://10.195.33.40/pytorch/tutorials/raw/main/_static/\"\n",
    "\n",
    "FILENAME = \"mnist.pkl.gz\"\n",
    "\n",
    "\n",
    "with gzip.open((PATH / FILENAME), \"rb\")  as f:\n",
    "    ((x_train, y_train), (x_valid, y_valid), _) = pickle.load(f, encoding=\"latin-1\")\n"
   ]
  },
  {
   "cell_type": "code",
   "execution_count": 2,
   "id": "cbc411ec",
   "metadata": {},
   "outputs": [
    {
     "name": "stdout",
     "output_type": "stream",
     "text": [
      "(50000, 784) 5\n"
     ]
    },
    {
     "data": {
      "image/png": "[encoded data removed]",
      "text/plain": [
       "<Figure size 640x480 with 1 Axes>"
      ]
     },
     "metadata": {},
     "output_type": "display_data"
    }
   ],
   "source": [
    "from matplotlib import pyplot\n",
    "import numpy as np\n",
    "\n",
    "pyplot.imshow(x_train[0].reshape((28, 28)), cmap=\"gray\")\n",
    "\n",
    "print(x_train.shape, y_train[0])\n",
    "\n"
   ]
  },
  {
   "cell_type": "code",
   "execution_count": 3,
   "id": "0b8b61fd",
   "metadata": {},
   "outputs": [
    {
     "name": "stdout",
     "output_type": "stream",
     "text": [
      "tensor([[0., 0., 0.,  ..., 0., 0., 0.],\n",
      "        [0., 0., 0.,  ..., 0., 0., 0.],\n",
      "        [0., 0., 0.,  ..., 0., 0., 0.],\n",
      "        ...,\n",
      "        [0., 0., 0.,  ..., 0., 0., 0.],\n",
      "        [0., 0., 0.,  ..., 0., 0., 0.],\n",
      "        [0., 0., 0.,  ..., 0., 0., 0.]]) tensor([5, 0, 4,  ..., 8, 4, 8])\n"
     ]
    }
   ],
   "source": [
    "import torch\n",
    "\n",
    "x_train, y_train, x_valid, y_valid = map(\n",
    "    torch.tensor, (x_train, y_train, x_valid, y_valid)\n",
    ")\n",
    "\n",
    "n, c = x_train.shape\n",
    "\n",
    "print(x_train, y_train)\n"
   ]
  },
  {
   "cell_type": "code",
   "execution_count": 4,
   "id": "f0c66147",
   "metadata": {},
   "outputs": [
    {
     "name": "stdout",
     "output_type": "stream",
     "text": [
      "torch.Size([50000, 784])\n"
     ]
    }
   ],
   "source": [
    "print(x_train.shape)"
   ]
  },
  {
   "cell_type": "code",
   "execution_count": 5,
   "id": "ebff35bf",
   "metadata": {},
   "outputs": [
    {
     "name": "stdout",
     "output_type": "stream",
     "text": [
      "tensor(0) tensor(9)\n"
     ]
    }
   ],
   "source": [
    "print(y_train.min(), y_train.max())"
   ]
  },
  {
   "cell_type": "code",
   "execution_count": 6,
   "id": "0773c1c7",
   "metadata": {},
   "outputs": [],
   "source": [
    "from torch import nn, optim\n",
    "\n",
    "class AuthorsNN(nn.Module):\n",
    "  def __init__(self):\n",
    "    super().__init__()\n",
    "    self.first_sec = nn.Sequential(\n",
    "                           nn.Linear(784, 450),\n",
    "                           nn.ReLU(),\n",
    "                         )\n",
    "    self.second_sec = nn.Sequential(\n",
    "                           nn.Linear(450, 450),\n",
    "                           nn.ReLU(),\n",
    "                           nn.Linear(450, 10),\n",
    "                           nn.Softmax(dim=-1),\n",
    "                         )\n",
    "\n",
    "  def forward(self, x):\n",
    "    return self.second_sec(self.first_sec(x))\n",
    "\n",
    "auth_nn = AuthorsNN()\n"
   ]
  },
  {
   "cell_type": "code",
   "execution_count": 7,
   "id": "66cf6e34",
   "metadata": {},
   "outputs": [
    {
     "data": {
      "text/plain": [
       "AuthorsNN(\n",
       "  (first_sec): Sequential(\n",
       "    (0): Linear(in_features=784, out_features=450, bias=True)\n",
       "    (1): ReLU()\n",
       "  )\n",
       "  (second_sec): Sequential(\n",
       "    (0): Linear(in_features=450, out_features=450, bias=True)\n",
       "    (1): ReLU()\n",
       "    (2): Linear(in_features=450, out_features=10, bias=True)\n",
       "    (3): Softmax(dim=-1)\n",
       "  )\n",
       ")"
      ]
     },
     "execution_count": 7,
     "metadata": {},
     "output_type": "execute_result"
    }
   ],
   "source": [
    "auth_nn"
   ]
  },
  {
   "cell_type": "code",
   "execution_count": 8,
   "id": "10b4ecb0",
   "metadata": {},
   "outputs": [
    {
     "data": {
      "text/plain": [
       "CrossEntropyLoss()"
      ]
     },
     "execution_count": 8,
     "metadata": {},
     "output_type": "execute_result"
    }
   ],
   "source": [
    "loss_func = nn.CrossEntropyLoss()   \n",
    "loss_func\n"
   ]
  },
  {
   "cell_type": "code",
   "execution_count": 9,
   "id": "a3dfe627",
   "metadata": {},
   "outputs": [
    {
     "data": {
      "text/plain": [
       "Adam (\n",
       "Parameter Group 0\n",
       "    amsgrad: False\n",
       "    betas: (0.9, 0.999)\n",
       "    capturable: False\n",
       "    differentiable: False\n",
       "    eps: 1e-08\n",
       "    foreach: None\n",
       "    fused: False\n",
       "    lr: 0.01\n",
       "    maximize: False\n",
       "    weight_decay: 0\n",
       ")"
      ]
     },
     "execution_count": 9,
     "metadata": {},
     "output_type": "execute_result"
    }
   ],
   "source": [
    "from torch import optim\n",
    "optimizer = optim.Adam(auth_nn.parameters(), lr = 0.01)   \n",
    "optimizer\n"
   ]
  },
  {
   "cell_type": "code",
   "execution_count": 10,
   "id": "820f9c71",
   "metadata": {},
   "outputs": [],
   "source": [
    "def train(num_epochs, ann):\n",
    "    \n",
    "    ann.train()\n",
    "               \n",
    "    for epoch in range(num_epochs):\n",
    "\n",
    "            output = ann(x_train)  \n",
    "            \n",
    "            loss = loss_func(output, y_train)\n",
    "            \n",
    "            # clear gradients for this training step   \n",
    "            optimizer.zero_grad()           \n",
    "            \n",
    "            # backpropagation, compute gradients \n",
    "            loss.backward()    \n",
    "            # apply gradients             \n",
    "            optimizer.step()                \n",
    "            \n",
    "            print(epoch, loss.item())\n",
    "        \n",
    "    pass\n"
   ]
  },
  {
   "cell_type": "code",
   "execution_count": 11,
   "id": "57aac1ab",
   "metadata": {},
   "outputs": [
    {
     "name": "stdout",
     "output_type": "stream",
     "text": [
      "0 2.3024163246154785\n",
      "1 2.2199506759643555\n",
      "2 2.0942471027374268\n",
      "3 2.111212730407715\n",
      "4 2.163724899291992\n",
      "5 2.162597179412842\n",
      "6 2.161884307861328\n",
      "7 2.1542115211486816\n",
      "8 2.1541249752044678\n",
      "9 2.154468536376953\n",
      "10 2.1553730964660645\n",
      "11 2.1535303592681885\n",
      "12 2.1524980068206787\n",
      "13 2.1506640911102295\n",
      "14 2.150341510772705\n",
      "15 2.1498641967773438\n",
      "16 2.150418758392334\n",
      "17 2.1494061946868896\n",
      "18 2.148333787918091\n",
      "19 2.148059129714966\n",
      "20 2.148944139480591\n",
      "21 2.1459858417510986\n",
      "22 2.145104169845581\n",
      "23 2.1469643115997314\n",
      "24 2.1611480712890625\n",
      "25 2.1623787879943848\n",
      "26 2.14812970161438\n",
      "27 2.1510374546051025\n",
      "28 2.1522912979125977\n",
      "29 2.151017904281616\n",
      "30 2.149554491043091\n",
      "31 2.148862838745117\n",
      "32 2.1491920948028564\n",
      "33 2.1492996215820312\n",
      "34 2.148433208465576\n",
      "35 2.1475563049316406\n",
      "36 2.147329807281494\n",
      "37 2.147181749343872\n",
      "38 2.146954298019409\n",
      "39 2.146125555038452\n",
      "40 2.145778179168701\n",
      "41 2.1451966762542725\n",
      "42 2.144024610519409\n",
      "43 2.1436994075775146\n",
      "44 2.1426970958709717\n",
      "45 2.1418497562408447\n",
      "46 2.140514612197876\n",
      "47 2.1392509937286377\n",
      "48 2.1371233463287354\n",
      "49 2.123251438140869\n",
      "50 2.059222936630249\n",
      "51 2.072192907333374\n",
      "52 2.05206036567688\n",
      "53 2.0538012981414795\n",
      "54 2.0523383617401123\n",
      "55 2.053659439086914\n",
      "56 2.0531442165374756\n",
      "57 2.0529305934906006\n",
      "58 2.0535809993743896\n",
      "59 2.0531246662139893\n",
      "60 2.052175998687744\n",
      "61 2.051541328430176\n",
      "62 2.0510923862457275\n",
      "63 2.0505897998809814\n",
      "64 2.04994535446167\n",
      "65 2.049372911453247\n",
      "66 2.048649311065674\n",
      "67 2.048151969909668\n",
      "68 2.047548294067383\n",
      "69 2.0470352172851562\n",
      "70 2.0463240146636963\n",
      "71 2.0457236766815186\n",
      "72 2.045178174972534\n",
      "73 2.044584035873413\n",
      "74 2.0440895557403564\n",
      "75 2.0437514781951904\n",
      "76 2.0433661937713623\n",
      "77 2.0425922870635986\n",
      "78 2.042055130004883\n",
      "79 2.0415282249450684\n",
      "80 2.040733814239502\n",
      "81 2.0400729179382324\n",
      "82 2.039720296859741\n",
      "83 2.0384464263916016\n",
      "84 2.0362324714660645\n",
      "85 2.038086175918579\n",
      "86 2.0352132320404053\n",
      "87 2.0338644981384277\n",
      "88 2.019975423812866\n",
      "89 1.9964790344238281\n",
      "90 2.0003371238708496\n",
      "91 1.9746686220169067\n",
      "92 1.9781405925750732\n",
      "93 1.9754976034164429\n",
      "94 1.959808588027954\n",
      "95 1.9565649032592773\n",
      "96 1.962021827697754\n",
      "97 1.9467473030090332\n",
      "98 1.9268856048583984\n",
      "99 1.8861042261123657\n"
     ]
    }
   ],
   "source": [
    "train(100,auth_nn)"
   ]
  },
  {
   "cell_type": "code",
   "execution_count": 12,
   "id": "d5451ae5",
   "metadata": {},
   "outputs": [],
   "source": [
    "class Adversary(nn.Module):\n",
    "  def __init__(self):\n",
    "    super().__init__()\n",
    "    self.layers= nn.Sequential(\n",
    "                      nn.Linear(450, 800),\n",
    "                      nn.ReLU(),\n",
    "                      nn.Linear(800, 784),\n",
    "                    )\n",
    " \n",
    "  def forward(self, x):\n",
    "    return self.layers(x)\n",
    "\n"
   ]
  },
  {
   "cell_type": "code",
   "execution_count": 13,
   "id": "1d88b557",
   "metadata": {},
   "outputs": [],
   "source": [
    "adversary = Adversary()\n",
    "optimiser = optim.Adam(adversary.parameters(), lr=1e-4)\n",
    "\n",
    "\n",
    "for i in range (0,1000):\n",
    "    optimiser.zero_grad()\n",
    "    #print(x_train[i])\n",
    "    target_outputs  = auth_nn.first_sec(x_valid[i])\n",
    "    adversary_outputs = adversary(target_outputs)\n",
    "    #print(adversary_outputs)\n",
    "    loss = ((x_valid[i] - adversary_outputs)**2).mean()\n",
    "    #print(loss.item())\n",
    "    loss.backward()\n",
    "    optimiser.step()\n"
   ]
  },
  {
   "cell_type": "code",
   "execution_count": 14,
   "id": "bd9f9977",
   "metadata": {},
   "outputs": [],
   "source": [
    "for i in range (1000,2000):\n",
    "    target_outputs = auth_nn.first_sec(x_train[i])\n",
    "    recreated_data = adversary(target_outputs)\n",
    "    #print(recreated_data)\n",
    "   \n"
   ]
  },
  {
   "cell_type": "code",
   "execution_count": 15,
   "id": "59da2cf3",
   "metadata": {},
   "outputs": [
    {
     "data": {
      "image/png": "[encoded data removed]",
      "text/plain": [
       "<Figure size 640x480 with 1 Axes>"
      ]
     },
     "metadata": {},
     "output_type": "display_data"
    }
   ],
   "source": [
    "with torch.no_grad():\n",
    "        pyplot.imshow(recreated_data.reshape((28, 28)), cmap=\"gray\")\n"
   ]
  },
  {
   "cell_type": "code",
   "execution_count": null,
   "id": "8f78d2ed",
   "metadata": {},
   "outputs": [],
   "source": []
  }
 ],
 "metadata": {
  "kernelspec": {
   "display_name": "Python 3 (ipykernel)",
   "language": "python",
   "name": "python3"
  },
  "language_info": {
   "codemirror_mode": {
    "name": "ipython",
    "version": 3
   },
   "file_extension": ".py",
   "mimetype": "text/x-python",
   "name": "python",
   "nbconvert_exporter": "python",
   "pygments_lexer": "ipython3",
   "version": "3.8.10"
  }
 },
 "nbformat": 4,
 "nbformat_minor": 5
}
