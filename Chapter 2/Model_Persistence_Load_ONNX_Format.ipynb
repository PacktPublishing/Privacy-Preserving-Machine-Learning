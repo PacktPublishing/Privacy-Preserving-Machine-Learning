{
 "cells": [
  {
   "cell_type": "code",
   "execution_count": 2,
   "id": "3fe6aff7",
   "metadata": {},
   "outputs": [
    {
     "data": {
      "text/plain": [
       "array([1])"
      ]
     },
     "execution_count": 2,
     "metadata": {},
     "output_type": "execute_result"
    }
   ],
   "source": [
    "from sklearn import tree\n",
    "X = [[10,1],[20,1],[30,1],[80,1],[75,0],[78,0]]\n",
    "\n",
    "Y = [1,1,1,0,0,0]\n",
    "\n",
    "clf = tree.DecisionTreeClassifier()\n",
    "\n",
    "clf = clf.fit(X, Y)\n",
    "\n",
    "clf.predict([[35,1]])\n"
   ]
  },
  {
   "cell_type": "markdown",
   "id": "7ee4da6e",
   "metadata": {},
   "source": [
    "# Persist the Model using ONNX Format"
   ]
  },
  {
   "cell_type": "code",
   "execution_count": 3,
   "id": "af1e84ce",
   "metadata": {},
   "outputs": [],
   "source": [
    "import numpy as np\n",
    "\n",
    "from sklearn.linear_model import LinearRegression\n",
    "\n",
    "from skl2onnx import convert_sklearn\n",
    "\n",
    "from skl2onnx.common.data_types import FloatTensorType\n",
    "\n",
    "initial_type = [('float_input', FloatTensorType([None, 2]))]\n",
    "\n",
    "onx = convert_sklearn(clf, initial_types=initial_type)\n",
    "\n",
    "with open(\"survive.onnx\", \"wb\") as f:\n",
    "    f.write(onx.SerializeToString())\n"
   ]
  },
  {
   "cell_type": "markdown",
   "id": "3b8ef0c5",
   "metadata": {},
   "source": [
    "# Load the model which is persisted and use for inference/prediction"
   ]
  },
  {
   "cell_type": "code",
   "execution_count": 9,
   "id": "59bd399b",
   "metadata": {},
   "outputs": [
    {
     "name": "stdout",
     "output_type": "stream",
     "text": [
      "[0]\n"
     ]
    }
   ],
   "source": [
    "import onnxruntime as rt\n",
    "import numpy as np\n",
    "\n",
    "sess = rt.InferenceSession(\"survive.onnx\")\n",
    "\n",
    "input_name = sess.get_inputs()[0].name\n",
    "\n",
    "# To test whether the patient will survive or not with 78 years age and doesn’t have prior cancer\n",
    "\n",
    "X_test = np.array([[78.0, 0.0]])\n",
    "\n",
    "pred_onx = sess.run(None, {input_name: X_test.astype(np.float32)})[0]\n",
    "\n",
    "print(pred_onx)\n"
   ]
  },
  {
   "cell_type": "code",
   "execution_count": null,
   "id": "6e886bc2",
   "metadata": {},
   "outputs": [],
   "source": []
  }
 ],
 "metadata": {
  "kernelspec": {
   "display_name": "Python 3 (ipykernel)",
   "language": "python",
   "name": "python3"
  },
  "language_info": {
   "codemirror_mode": {
    "name": "ipython",
    "version": 3
   },
   "file_extension": ".py",
   "mimetype": "text/x-python",
   "name": "python",
   "nbconvert_exporter": "python",
   "pygments_lexer": "ipython3",
   "version": "3.8.10"
  }
 },
 "nbformat": 4,
 "nbformat_minor": 5
}
