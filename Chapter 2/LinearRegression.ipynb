{
 "cells": [
  {
   "cell_type": "code",
   "execution_count": 1,
   "id": "b485b770",
   "metadata": {},
   "outputs": [
    {
     "data": {
      "text/plain": [
       "array([390.])"
      ]
     },
     "execution_count": 1,
     "metadata": {},
     "output_type": "execute_result"
    }
   ],
   "source": [
    "import numpy as np\n",
    "from sklearn.linear_model import LinearRegression\n",
    "\n",
    "# Prepare sample input data with two features (feature 1, feature 2\n",
    "\n",
    "X = np.array([[10, 10], [10, 20], [20, 20], [20, 30]])\n",
    "\n",
    "# Assume that target feature has some relationship with the input features with the formula y = 3 * x_1 + 5 * x_2 + 50\n",
    "\n",
    "y = np.dot(X, np.array([3, 5])) + 50\n",
    "\n",
    "# Run the model with the input data and output values\n",
    "reg = LinearRegression().fit(X, y)\n",
    "\n",
    "reg.score(X, y)\n",
    "reg.coef_\n",
    "reg.intercept_\n",
    "reg.predict(np.array([[30, 50]]))\n"
   ]
  },
  {
   "cell_type": "code",
   "execution_count": null,
   "id": "bfc84dda",
   "metadata": {},
   "outputs": [],
   "source": [
    "# Persist the model in python Joblib file\n",
    "# Retrieve the model weights and use it further prediction\n",
    "import joblib\n",
    "import numpy as np\n",
    "from sklearn.linear_model import LinearRegression\n",
    "\n",
    "X = np.array([[10, 10], [10, 20], [20, 20], [20, 30]])\n",
    "\n",
    "# Assume that target feature has some relationship with the input features with the formula y = 3 * x_1 + 5 * x2 + 50\n",
    "\n",
    "y = np.dot(X, np.array([3, 5])) + 50# Run the model with the input data and output values\n",
    "reg = LinearRegression().fit(X, y)\n",
    "\n",
    "# Persist the model in python Joblib file\n",
    "filename = ‘sample_model.sav'\n",
    "joblib.dump(reg, filename). # regression model which is used earlier \n",
    "# Share this file alone to others for deploying in to production and for inferencing/predictions \n"
   ]
  }
 ],
 "metadata": {
  "kernelspec": {
   "display_name": "Python 3 (ipykernel)",
   "language": "python",
   "name": "python3"
  },
  "language_info": {
   "codemirror_mode": {
    "name": "ipython",
    "version": 3
   },
   "file_extension": ".py",
   "mimetype": "text/x-python",
   "name": "python",
   "nbconvert_exporter": "python",
   "pygments_lexer": "ipython3",
   "version": "3.8.10"
  }
 },
 "nbformat": 4,
 "nbformat_minor": 5
}
