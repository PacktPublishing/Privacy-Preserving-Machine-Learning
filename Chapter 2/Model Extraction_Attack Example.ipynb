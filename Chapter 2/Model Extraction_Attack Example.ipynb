{
 "cells": [
  {
   "cell_type": "code",
   "execution_count": 1,
   "id": "82ab7770",
   "metadata": {},
   "outputs": [
    {
     "name": "stdout",
     "output_type": "stream",
     "text": [
      "[1 1]\n"
     ]
    }
   ],
   "source": [
    "import numpy as np\n",
    "from sklearn.linear_model import LogisticRegression\n",
    "\n",
    "# Create a sample dataset for demonstration\n",
    "X = np.array([[1, 1], [2, 2], [3, 3], [4, 4], [5, 5]])\n",
    "y = np.array([0, 0, 0, 1, 1])\n",
    "\n",
    "# Train a simple logistic regression model on the dataset\n",
    "model = LogisticRegression()\n",
    "model.fit(X, y)\n",
    "\n",
    "# Attacker's code to perform model extraction attack\n",
    "extracted_model = LogisticRegression()\n",
    "extracted_model.fit(X, y)\n",
    "\n",
    "# Extracted model can be further used for unauthorized purposes\n",
    "# such as making predictions on new data without access to the original model\n",
    "new_data = np.array([[6, 6], [7, 7]])\n",
    "predictions = extracted_model.predict(new_data)\n",
    "print(predictions)"
   ]
  },
  {
   "cell_type": "code",
   "execution_count": null,
   "id": "45c4c1fe",
   "metadata": {},
   "outputs": [],
   "source": []
  }
 ],
 "metadata": {
  "kernelspec": {
   "display_name": "Python 3 (ipykernel)",
   "language": "python",
   "name": "python3"
  },
  "language_info": {
   "codemirror_mode": {
    "name": "ipython",
    "version": 3
   },
   "file_extension": ".py",
   "mimetype": "text/x-python",
   "name": "python",
   "nbconvert_exporter": "python",
   "pygments_lexer": "ipython3",
   "version": "3.8.10"
  }
 },
 "nbformat": 4,
 "nbformat_minor": 5
}
