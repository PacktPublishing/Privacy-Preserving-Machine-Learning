{
 "cells": [
  {
   "cell_type": "code",
   "execution_count": 3,
   "id": "ced27b00",
   "metadata": {},
   "outputs": [
    {
     "data": {
      "text/plain": [
       "['sample_model.sav']"
      ]
     },
     "execution_count": 3,
     "metadata": {},
     "output_type": "execute_result"
    }
   ],
   "source": [
    "# Persist the model in python Joblib file\n",
    "# Retrieve the model weights and use it further prediction\n",
    "import joblib\n",
    "import numpy as np\n",
    "from sklearn.linear_model import LinearRegression\n",
    "\n",
    "X = np.array([[10, 10], [10, 20], [20, 20], [20, 30]])\n",
    "\n",
    "# Assume that target feature has some relationship with the input features with the formula y = 3 * x_1 + 5 * x2 + 50\n",
    "\n",
    "y = np.dot(X, np.array([3, 5])) + 50# Run the model with the input data and output values\n",
    "\n",
    "reg = LinearRegression().fit(X, y)\n",
    "\n",
    "# Persist the model in python Joblib file\n",
    "\n",
    "filename = \"sample_model.sav\"\n",
    "\n",
    "joblib.dump(reg, filename)\n",
    "\n",
    "# regression model which is used earlier \n",
    "\n",
    "# Share this file alone to others for deploying in to production and for inferencing/predictions \n"
   ]
  },
  {
   "cell_type": "code",
   "execution_count": null,
   "id": "bd368082",
   "metadata": {},
   "outputs": [],
   "source": []
  }
 ],
 "metadata": {
  "kernelspec": {
   "display_name": "Python 3 (ipykernel)",
   "language": "python",
   "name": "python3"
  },
  "language_info": {
   "codemirror_mode": {
    "name": "ipython",
    "version": 3
   },
   "file_extension": ".py",
   "mimetype": "text/x-python",
   "name": "python",
   "nbconvert_exporter": "python",
   "pygments_lexer": "ipython3",
   "version": "3.8.10"
  }
 },
 "nbformat": 4,
 "nbformat_minor": 5
}
