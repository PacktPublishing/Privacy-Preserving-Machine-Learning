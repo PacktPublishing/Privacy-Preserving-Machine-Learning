{
 "cells": [
  {
   "cell_type": "code",
   "execution_count": 2,
   "id": "9724e00f",
   "metadata": {},
   "outputs": [
    {
     "name": "stdout",
     "output_type": "stream",
     "text": [
      "[64, 26, 55, 14, 4, 74, 88, 30, 44, 48, 73, 87, 57, 96, 14, 44, 47, 64, 81, 19, 39, 43, 36, 83, 54, 56, 53, 69, 16, 76, 16, 50, 98, 52, 85, 81, 99, 19, 36, 40, 59, 75, 78, 16, 82, 27, 99, 3, 92, 18, 72, 63, 80, 74, 23, 31, 81, 72, 14, 74, 95, 77, 90, 96, 17, 98, 25, 87, 59, 80, 63, 82, 28, 55, 80, 63, 35, 43, 49, 43, 65, 80, 29, 26, 94, 77, 11, 48, 79, 16, 92, 46, 35, 16, 20, 26, 20, 7, 72, 59, 44, 66, 38, 3, 55, 25, 50, 91, 53, 58, 98, 23, 11, 63, 44, 75, 62, 24, 45, 26, 37, 88, 22, 33, 8, 58, 5, 48, 8, 53, 95, 48, 14, 77, 76, 97, 68, 46, 27, 18, 16, 97, 76, 6, 7, 22, 20, 82, 94, 28, 100, 80, 58, 74, 0, 13, 6, 47, 81, 63, 0, 47, 87, 99, 60, 46, 23, 39, 57, 30, 62, 93, 76, 64, 19, 56, 63, 40, 50, 75, 61, 36, 4, 63, 76, 34, 82, 79, 100, 45, 87, 49, 86, 48, 36, 10, 5, 18, 9, 98, 81, 1, 19, 84, 18, 29, 25, 2, 68, 77, 17, 67, 63, 89, 18, 47, 40, 59, 29, 16, 65, 69, 97, 99, 49, 65, 27, 48, 87, 22, 63, 31, 7, 97, 29, 61, 57, 85, 51, 64, 26, 63, 100, 40, 79, 73, 82, 4, 93, 98, 33, 97, 84, 77, 15, 93, 12, 37, 97, 9, 78, 87, 47, 83, 84, 13, 83, 71, 88, 23, 43, 9, 26, 58, 13, 52, 86, 45, 12, 58, 98, 93, 1, 12, 93, 37, 100, 25, 94, 57, 81, 92, 63, 66, 64, 96, 100, 3, 61, 62, 70, 85, 33, 33, 26, 72, 21, 75, 36, 87, 79, 85, 30, 97, 32, 30, 55, 60, 53, 1, 36, 4, 50, 68, 99, 19, 66, 87, 36, 91, 53, 23, 77, 21, 29, 17, 92, 19, 56, 22, 86, 31, 9, 48, 55, 11, 29, 53, 3, 68, 23, 9, 32, 85, 42, 51, 84, 43, 80, 50, 99, 50, 60, 92, 51, 80, 79, 7, 16, 91, 28, 1, 45, 9, 94, 68, 43, 60, 46, 96, 18, 97, 52, 83, 41, 43, 17, 71, 25, 21, 21, 84, 76, 69, 60, 99, 77, 83, 64, 24, 36, 72, 78, 39, 28, 24, 25, 94, 73, 92, 81, 87, 81, 95, 47, 92, 11, 68, 36, 73, 42, 24, 80, 55, 47, 97, 82, 51, 31, 1, 66, 41, 55, 10, 22, 3, 89, 86, 46, 7, 31, 57, 45, 93, 25, 26, 44, 58, 37, 55, 41, 91, 98, 21, 6, 21, 45, 83, 9, 49, 15, 98, 62, 24, 3, 47, 75, 25, 61, 25, 59, 98, 72, 5, 88, 92, 80, 57, 39, 63, 22, 37, 77, 34, 80, 75, 93, 41, 87, 59, 29, 10, 44, 24, 11, 71, 78, 26, 19, 31, 60, 21, 78, 88, 19, 92, 58, 46, 56, 7, 29, 78, 81, 62, 88, 13, 35, 98, 39, 72, 21, 77, 31, 55, 83, 62, 93, 57, 75, 39, 15, 4, 16, 18, 32, 16, 7, 58, 11, 20, 69, 10, 15, 96, 75, 79, 46, 2, 2, 38, 53, 70, 43, 96, 28, 2, 28, 30, 97, 49, 95, 98, 89, 70, 31, 34, 29, 27, 96, 69, 49, 59, 99, 18, 22, 6, 29, 93, 80, 76, 80, 36, 10, 15, 9, 65, 49, 58, 46, 12, 85, 29, 68, 87, 94, 58, 75, 35, 46, 14, 11, 31, 1, 41, 74, 6, 94, 55, 34, 6, 10, 43, 90, 4, 5, 68, 55, 62, 65, 41, 58, 62, 5, 47, 84, 70, 78, 35, 45, 1, 22, 83, 22, 72, 41, 82, 78, 43, 61, 38, 50, 36, 90, 3, 85, 90, 66, 47, 7, 52, 91, 85, 100, 20, 14, 22, 59, 52, 13, 37, 22, 77, 95, 66, 55, 77, 40, 62, 53, 30, 36, 53, 13, 25, 47, 7, 91, 71, 20, 57, 85, 58, 43, 89, 73, 23, 77, 67, 21, 31, 87, 7, 43, 11, 65, 17, 63, 5, 12, 65, 68, 49, 3, 33, 16, 35, 3, 11, 91, 77, 22, 24, 64, 64, 64, 92, 95, 4, 20, 7, 82, 52, 96, 19, 67, 7, 4, 64, 22, 100, 97, 99, 86, 51, 15, 94, 56, 28, 31, 30, 30, 40, 84, 83, 30, 82, 68, 75, 2, 69, 61, 39, 76, 98, 93, 30, 63, 65, 100, 43, 11, 15, 91, 49, 76, 64, 75, 72, 15, 38, 85, 60, 82, 45, 15, 27, 59, 26, 24, 50, 58, 29, 98, 6, 57, 9, 79, 79, 42, 25, 46, 85, 21, 43, 59, 69, 19, 95, 40, 90, 72, 76, 13, 88, 36, 19, 92, 59, 1, 9, 80, 51, 72, 40, 68, 79, 8, 31, 53, 52, 9, 97, 11, 47, 21, 3, 78, 27, 23, 63, 100, 55, 49, 53, 68, 79, 81, 91, 69, 0, 1, 86, 8, 68, 36, 12, 45, 36, 16, 72, 83, 12, 6, 49, 88, 36, 98, 90, 37, 26, 93, 56, 11, 65, 47, 55, 3, 99, 50, 66, 76, 21, 43, 79, 10, 65, 38, 39, 67, 6, 6, 47, 1, 5, 9, 31, 20, 76, 70, 13, 0, 30, 33, 78, 42, 34, 1, 10, 99, 90, 90, 3, 66, 62, 54, 21, 81, 81, 52, 43, 65, 29, 73, 14, 21, 73, 92, 65, 100, 19, 56, 15, 13, 82, 68, 80, 35, 68, 40, 71, 87, 86, 26, 95, 89, 32, 59, 38, 85, 27, 59, 42, 32, 66, 41, 14, 52, 9, 78, 69, 76, 83, 46, 4, 32, 95, 75, 64, 77, 63, 29, 80, 6, 14, 55, 7, 37, 50, 58, 39, 51, 90, 50, 5, 60, 83, 32, 70, 79, 14, 49, 87, 25, 95, 93, 82, 8, 52, 48, 45, 36, 26, 60, 40, 15, 43, 54, 77, 61, 42]\n",
      "Average likes per user (without differential privacy): 51.146\n"
     ]
    }
   ],
   "source": [
    "import random\n",
    "\n",
    "# Generate a list of simulated likes per user\n",
    "likes_per_user = [random.randint(0, 100) for _ in range(1000)]\n",
    "print(likes_per_user)\n",
    "\n",
    "# Calculate the average number of likes per user\n",
    "average_likes = sum(likes_per_user) / len(likes_per_user)\n",
    "\n",
    "print(\"Average likes per user (without differential privacy):\", average_likes)"
   ]
  },
  {
   "cell_type": "code",
   "execution_count": 4,
   "id": "1961f224",
   "metadata": {},
   "outputs": [
    {
     "name": "stdout",
     "output_type": "stream",
     "text": [
      "Average likes per user (without differential privacy): 51.252\n",
      "Average likes per user (with differential privacy): 41.61714462702061\n"
     ]
    }
   ],
   "source": [
    "import random\n",
    "import numpy as np\n",
    "\n",
    "# Generate a list of simulated likes per user\n",
    "likes_per_user = [random.randint(0, 100) for _ in range(1000)]\n",
    "\n",
    "average_likes = sum(likes_per_user) / len(likes_per_user)\n",
    "\n",
    "print(\"Average likes per user (without differential privacy):\", average_likes)\n",
    "\n",
    "# Set the sensitivity\n",
    "sensitivity = 1\n",
    "\n",
    "# Clip the likes per user to a specified range\n",
    "clipped_likes_per_user = np.clip(likes_per_user, 0, 100)\n",
    "\n",
    "# Calculate the average number of likes per user\n",
    "clipped_average_likes = np.mean(clipped_likes_per_user)\n",
    "\n",
    "# Define the privacy budget and epsilon value\n",
    "privacy_budget = 1.0\n",
    "epsilon = 0.1\n",
    "\n",
    "# Calculate the scale parameter for the Laplace distribution\n",
    "scale = sensitivity / (privacy_budget * epsilon)\n",
    "\n",
    "# Inject noise using the Laplace mechanism\n",
    "noisy_average_likes = clipped_average_likes + np.random.laplace(0, scale)\n",
    "\n",
    "print(\"Average likes per user (with differential privacy):\", noisy_average_likes)"
   ]
  },
  {
   "cell_type": "code",
   "execution_count": null,
   "id": "8b8bd162",
   "metadata": {},
   "outputs": [],
   "source": []
  }
 ],
 "metadata": {
  "kernelspec": {
   "display_name": "Python 3 (ipykernel)",
   "language": "python",
   "name": "python3"
  },
  "language_info": {
   "codemirror_mode": {
    "name": "ipython",
    "version": 3
   },
   "file_extension": ".py",
   "mimetype": "text/x-python",
   "name": "python",
   "nbconvert_exporter": "python",
   "pygments_lexer": "ipython3",
   "version": "3.8.10"
  }
 },
 "nbformat": 4,
 "nbformat_minor": 5
}
