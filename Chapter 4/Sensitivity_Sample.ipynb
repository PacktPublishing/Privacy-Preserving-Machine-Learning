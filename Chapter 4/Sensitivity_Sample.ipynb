{
 "cells": [
  {
   "cell_type": "code",
   "execution_count": 4,
   "id": "9e5d20fc",
   "metadata": {},
   "outputs": [
    {
     "name": "stdout",
     "output_type": "stream",
     "text": [
      "1\n",
      "7\n",
      "19\n",
      "37\n",
      "61\n",
      "91\n",
      "Total Sensitivity within the range 0 to 6: 216\n"
     ]
    }
   ],
   "source": [
    "def f(x):\n",
    "    return x ** 3\n",
    "\n",
    "def sensitivity(f, xa, xb):\n",
    "    sensitivity = abs(f(xa) - f(xb))\n",
    "    return sensitivity\n",
    "\n",
    "# Sensitivity calculation for the input range 0 to 6 and summing the sensitivities\n",
    "total_sensitivity = 0\n",
    "\n",
    "for x in range(6):\n",
    "    xa = x\n",
    "    xb = x + 1\n",
    "    sensitivity_value = sensitivity(f, xa, xb)\n",
    "    print(sensitivity_value)\n",
    "    total_sensitivity += sensitivity_value\n",
    "\n",
    "print(\"Total Sensitivity within the range 0 to 6:\", total_sensitivity)"
   ]
  },
  {
   "cell_type": "code",
   "execution_count": null,
   "id": "6cf5645e",
   "metadata": {},
   "outputs": [],
   "source": []
  }
 ],
 "metadata": {
  "kernelspec": {
   "display_name": "Python 3 (ipykernel)",
   "language": "python",
   "name": "python3"
  },
  "language_info": {
   "codemirror_mode": {
    "name": "ipython",
    "version": 3
   },
   "file_extension": ".py",
   "mimetype": "text/x-python",
   "name": "python",
   "nbconvert_exporter": "python",
   "pygments_lexer": "ipython3",
   "version": "3.8.10"
  }
 },
 "nbformat": 4,
 "nbformat_minor": 5
}
