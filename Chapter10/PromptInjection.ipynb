{
 "cells": [
  {
   "cell_type": "code",
   "execution_count": 2,
   "id": "82468426",
   "metadata": {},
   "outputs": [
    {
     "name": "stdout",
     "output_type": "stream",
     "text": [
      "Sorry,I don't have the data\n",
      "123-45-6789\n"
     ]
    }
   ],
   "source": [
    "class SimpleModel:\n",
    "    def __init__(self):\n",
    "        self.data={\n",
    "            'SSN':'123-45-6789',\n",
    "            'email':'example@example.com',\n",
    "            'password':'mypassword'\n",
    "        }\n",
    "    def generate_text(self,prompt):\n",
    "        return self.data.get(prompt,'Sorry,I don\\'t have the data')\n",
    "    \n",
    "    \n",
    "model=SimpleModel()\n",
    "\n",
    "## Normal Request\n",
    "\n",
    "print(model.generate_text('favorite_color'))\n",
    "\n",
    "\n",
    "## Malicious request , simulating an attempt to a prompt injection attack\n",
    "\n",
    "print(model.generate_text('SSN'))"
   ]
  },
  {
   "cell_type": "code",
   "execution_count": null,
   "id": "0700a717",
   "metadata": {},
   "outputs": [],
   "source": []
  }
 ],
 "metadata": {
  "kernelspec": {
   "display_name": "Python 3 (ipykernel)",
   "language": "python",
   "name": "python3"
  },
  "language_info": {
   "codemirror_mode": {
    "name": "ipython",
    "version": 3
   },
   "file_extension": ".py",
   "mimetype": "text/x-python",
   "name": "python",
   "nbconvert_exporter": "python",
   "pygments_lexer": "ipython3",
   "version": "3.8.10"
  }
 },
 "nbformat": 4,
 "nbformat_minor": 5
}
