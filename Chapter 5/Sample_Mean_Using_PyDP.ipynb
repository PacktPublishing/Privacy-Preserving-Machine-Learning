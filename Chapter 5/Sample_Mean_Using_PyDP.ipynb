{
 "cells": [
  {
   "cell_type": "markdown",
   "id": "6fd4f261",
   "metadata": {},
   "source": [
    "# Sample Program using PyDP Framework"
   ]
  },
  {
   "cell_type": "code",
   "execution_count": 4,
   "id": "0fcde6a9",
   "metadata": {},
   "outputs": [],
   "source": [
    "import pydp as dp\n",
    "import numpy as np"
   ]
  },
  {
   "cell_type": "code",
   "execution_count": 5,
   "id": "c09e8a86",
   "metadata": {},
   "outputs": [],
   "source": [
    "from pydp.algorithms.laplacian import BoundedMean\n"
   ]
  },
  {
   "cell_type": "code",
   "execution_count": 6,
   "id": "bc52506a",
   "metadata": {},
   "outputs": [],
   "source": [
    "x = BoundedMean(0.6)\n"
   ]
  },
  {
   "cell_type": "code",
   "execution_count": 7,
   "id": "3d261ace",
   "metadata": {},
   "outputs": [
    {
     "name": "stdout",
     "output_type": "stream",
     "text": [
      "<pydp.algorithms.laplacian._bounded_algorithms.BoundedMean object at 0x7fb2b898c9d0>\n"
     ]
    }
   ],
   "source": [
    "print(x)"
   ]
  },
  {
   "cell_type": "code",
   "execution_count": 8,
   "id": "ef1cead4",
   "metadata": {},
   "outputs": [
    {
     "name": "stdout",
     "output_type": "stream",
     "text": [
      "Data [1 2 3 4 5 6 7 8 9]\n",
      "Normal Mean 5.0\n",
      "Mean with differential privacy 4.9635609302386\n"
     ]
    }
   ],
   "source": [
    "data = np.arange(1,10,1)\n",
    "\n",
    "# privacy budget as 0.6, delta as 0 and lower and upper bounds as 1 and 10\n",
    "\n",
    "x = BoundedMean(0.6,0,1,10)\n",
    "\n",
    "privacy_mean = x.quick_result(data)\n",
    "\n",
    "mean = np.mean(data)\n",
    "\n",
    "print(\"Data\", data)\n",
    "\n",
    "print(\"Normal Mean\", mean)\n",
    "\n",
    "print(\"Mean with differential privacy\",privacy_mean )\n",
    "\n"
   ]
  },
  {
   "cell_type": "code",
   "execution_count": null,
   "id": "0761a651",
   "metadata": {},
   "outputs": [],
   "source": []
  }
 ],
 "metadata": {
  "kernelspec": {
   "display_name": "Python 3 (ipykernel)",
   "language": "python",
   "name": "python3"
  },
  "language_info": {
   "codemirror_mode": {
    "name": "ipython",
    "version": 3
   },
   "file_extension": ".py",
   "mimetype": "text/x-python",
   "name": "python",
   "nbconvert_exporter": "python",
   "pygments_lexer": "ipython3",
   "version": "3.8.10"
  }
 },
 "nbformat": 4,
 "nbformat_minor": 5
}
