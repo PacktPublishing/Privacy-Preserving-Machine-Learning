{
 "cells": [
  {
   "cell_type": "markdown",
   "id": "0b32737b",
   "metadata": {},
   "source": [
    "# Fraud Detection model with Differential Privacy using Opacus Framework"
   ]
  },
  {
   "cell_type": "code",
   "execution_count": 1,
   "id": "5aaa0fdf",
   "metadata": {},
   "outputs": [
    {
     "data": {
      "text/html": [
       "<div>\n",
       "<style scoped>\n",
       "    .dataframe tbody tr th:only-of-type {\n",
       "        vertical-align: middle;\n",
       "    }\n",
       "\n",
       "    .dataframe tbody tr th {\n",
       "        vertical-align: top;\n",
       "    }\n",
       "\n",
       "    .dataframe thead th {\n",
       "        text-align: right;\n",
       "    }\n",
       "</style>\n",
       "<table border=\"1\" class=\"dataframe\">\n",
       "  <thead>\n",
       "    <tr style=\"text-align: right;\">\n",
       "      <th></th>\n",
       "      <th>Unnamed: 0</th>\n",
       "      <th>TRANSACTION_ID</th>\n",
       "      <th>TX_DATETIME</th>\n",
       "      <th>CUSTOMER_ID</th>\n",
       "      <th>TERMINAL_ID</th>\n",
       "      <th>TX_AMOUNT</th>\n",
       "      <th>TX_FRAUD</th>\n",
       "      <th>TX_FRAUD.1</th>\n",
       "    </tr>\n",
       "  </thead>\n",
       "  <tbody>\n",
       "    <tr>\n",
       "      <th>0</th>\n",
       "      <td>0</td>\n",
       "      <td>0</td>\n",
       "      <td>2023-02-01 00:43:37</td>\n",
       "      <td>901</td>\n",
       "      <td>8047</td>\n",
       "      <td>82</td>\n",
       "      <td>1</td>\n",
       "      <td>1</td>\n",
       "    </tr>\n",
       "    <tr>\n",
       "      <th>1</th>\n",
       "      <td>1</td>\n",
       "      <td>1</td>\n",
       "      <td>2023-02-01 01:20:13</td>\n",
       "      <td>2611</td>\n",
       "      <td>7777</td>\n",
       "      <td>15</td>\n",
       "      <td>0</td>\n",
       "      <td>0</td>\n",
       "    </tr>\n",
       "    <tr>\n",
       "      <th>2</th>\n",
       "      <td>2</td>\n",
       "      <td>2</td>\n",
       "      <td>2023-02-01 01:22:52</td>\n",
       "      <td>4212</td>\n",
       "      <td>3336</td>\n",
       "      <td>53</td>\n",
       "      <td>0</td>\n",
       "      <td>0</td>\n",
       "    </tr>\n",
       "    <tr>\n",
       "      <th>3</th>\n",
       "      <td>3</td>\n",
       "      <td>3</td>\n",
       "      <td>2023-02-01 01:26:40</td>\n",
       "      <td>1293</td>\n",
       "      <td>7432</td>\n",
       "      <td>59</td>\n",
       "      <td>0</td>\n",
       "      <td>0</td>\n",
       "    </tr>\n",
       "    <tr>\n",
       "      <th>4</th>\n",
       "      <td>4</td>\n",
       "      <td>4</td>\n",
       "      <td>2023-02-01 01:52:23</td>\n",
       "      <td>2499</td>\n",
       "      <td>1024</td>\n",
       "      <td>25</td>\n",
       "      <td>0</td>\n",
       "      <td>0</td>\n",
       "    </tr>\n",
       "  </tbody>\n",
       "</table>\n",
       "</div>"
      ],
      "text/plain": [
       "   Unnamed: 0  TRANSACTION_ID          TX_DATETIME  CUSTOMER_ID  TERMINAL_ID  \\\n",
       "0           0               0  2023-02-01 00:43:37          901         8047   \n",
       "1           1               1  2023-02-01 01:20:13         2611         7777   \n",
       "2           2               2  2023-02-01 01:22:52         4212         3336   \n",
       "3           3               3  2023-02-01 01:26:40         1293         7432   \n",
       "4           4               4  2023-02-01 01:52:23         2499         1024   \n",
       "\n",
       "   TX_AMOUNT  TX_FRAUD  TX_FRAUD.1  \n",
       "0         82         1           1  \n",
       "1         15         0           0  \n",
       "2         53         0           0  \n",
       "3         59         0           0  \n",
       "4         25         0           0  "
      ]
     },
     "execution_count": 1,
     "metadata": {},
     "output_type": "execute_result"
    }
   ],
   "source": [
    "import pandas as pd\n",
    "\n",
    "url =\"fraud_transactions.csv\"\n",
    "\n",
    "df_actual = pd.read_csv(url, sep=\",\")\n",
    "df_actual.head()"
   ]
  },
  {
   "cell_type": "code",
   "execution_count": 2,
   "id": "1c55ba98",
   "metadata": {},
   "outputs": [
    {
     "data": {
      "text/html": [
       "<div>\n",
       "<style scoped>\n",
       "    .dataframe tbody tr th:only-of-type {\n",
       "        vertical-align: middle;\n",
       "    }\n",
       "\n",
       "    .dataframe tbody tr th {\n",
       "        vertical-align: top;\n",
       "    }\n",
       "\n",
       "    .dataframe thead th {\n",
       "        text-align: right;\n",
       "    }\n",
       "</style>\n",
       "<table border=\"1\" class=\"dataframe\">\n",
       "  <thead>\n",
       "    <tr style=\"text-align: right;\">\n",
       "      <th></th>\n",
       "      <th>CUSTOMER_ID</th>\n",
       "      <th>TERMINAL_ID</th>\n",
       "      <th>TX_AMOUNT</th>\n",
       "      <th>TX_FRAUD</th>\n",
       "    </tr>\n",
       "  </thead>\n",
       "  <tbody>\n",
       "    <tr>\n",
       "      <th>0</th>\n",
       "      <td>901</td>\n",
       "      <td>8047</td>\n",
       "      <td>82</td>\n",
       "      <td>1</td>\n",
       "    </tr>\n",
       "    <tr>\n",
       "      <th>1</th>\n",
       "      <td>2611</td>\n",
       "      <td>7777</td>\n",
       "      <td>15</td>\n",
       "      <td>0</td>\n",
       "    </tr>\n",
       "    <tr>\n",
       "      <th>2</th>\n",
       "      <td>4212</td>\n",
       "      <td>3336</td>\n",
       "      <td>53</td>\n",
       "      <td>0</td>\n",
       "    </tr>\n",
       "    <tr>\n",
       "      <th>3</th>\n",
       "      <td>1293</td>\n",
       "      <td>7432</td>\n",
       "      <td>59</td>\n",
       "      <td>0</td>\n",
       "    </tr>\n",
       "    <tr>\n",
       "      <th>4</th>\n",
       "      <td>2499</td>\n",
       "      <td>1024</td>\n",
       "      <td>25</td>\n",
       "      <td>0</td>\n",
       "    </tr>\n",
       "    <tr>\n",
       "      <th>...</th>\n",
       "      <td>...</td>\n",
       "      <td>...</td>\n",
       "      <td>...</td>\n",
       "      <td>...</td>\n",
       "    </tr>\n",
       "    <tr>\n",
       "      <th>49995</th>\n",
       "      <td>1541</td>\n",
       "      <td>3469</td>\n",
       "      <td>66</td>\n",
       "      <td>0</td>\n",
       "    </tr>\n",
       "    <tr>\n",
       "      <th>49996</th>\n",
       "      <td>489</td>\n",
       "      <td>3854</td>\n",
       "      <td>89</td>\n",
       "      <td>1</td>\n",
       "    </tr>\n",
       "    <tr>\n",
       "      <th>49997</th>\n",
       "      <td>4125</td>\n",
       "      <td>7519</td>\n",
       "      <td>12</td>\n",
       "      <td>0</td>\n",
       "    </tr>\n",
       "    <tr>\n",
       "      <th>49998</th>\n",
       "      <td>3360</td>\n",
       "      <td>5215</td>\n",
       "      <td>86</td>\n",
       "      <td>1</td>\n",
       "    </tr>\n",
       "    <tr>\n",
       "      <th>49999</th>\n",
       "      <td>951</td>\n",
       "      <td>9602</td>\n",
       "      <td>31</td>\n",
       "      <td>0</td>\n",
       "    </tr>\n",
       "  </tbody>\n",
       "</table>\n",
       "<p>50000 rows × 4 columns</p>\n",
       "</div>"
      ],
      "text/plain": [
       "       CUSTOMER_ID  TERMINAL_ID  TX_AMOUNT  TX_FRAUD\n",
       "0              901         8047         82         1\n",
       "1             2611         7777         15         0\n",
       "2             4212         3336         53         0\n",
       "3             1293         7432         59         0\n",
       "4             2499         1024         25         0\n",
       "...            ...          ...        ...       ...\n",
       "49995         1541         3469         66         0\n",
       "49996          489         3854         89         1\n",
       "49997         4125         7519         12         0\n",
       "49998         3360         5215         86         1\n",
       "49999          951         9602         31         0\n",
       "\n",
       "[50000 rows x 4 columns]"
      ]
     },
     "execution_count": 2,
     "metadata": {},
     "output_type": "execute_result"
    }
   ],
   "source": [
    "df_transactions = df_actual[['CUSTOMER_ID','TERMINAL_ID','TX_AMOUNT','TX_FRAUD']]\n",
    "#df_transactions=df_transactions.head(10)\n",
    "df_transactions=df_transactions.head(50000)\n",
    "df_transactions"
   ]
  },
  {
   "cell_type": "code",
   "execution_count": 3,
   "id": "098fe5f6",
   "metadata": {},
   "outputs": [
    {
     "name": "stdout",
     "output_type": "stream",
     "text": [
      "No of Fraud Transactions: 37870\n",
      "No of Non Fraud Transactions: 12130\n",
      "No Frauds 75.74 % of the dataset\n",
      "Frauds 24.26 % of the dataset\n"
     ]
    }
   ],
   "source": [
    "from sklearn.model_selection import train_test_split\n",
    "from sklearn.model_selection import StratifiedShuffleSplit\n",
    "\n",
    "print(\"No of Fraud Transactions:\", df_transactions['TX_FRAUD'].value_counts()[0])\n",
    "print(\"No of Non Fraud Transactions:\", df_transactions['TX_FRAUD'].value_counts()[1])\n",
    "\n",
    "print('No Frauds', round(df_transactions['TX_FRAUD'].value_counts()[0]/len(df_transactions) * 100,2), '% of the dataset')\n",
    "print('Frauds', round(df_transactions['TX_FRAUD'].value_counts()[1]/len(df_transactions) * 100,2), '% of the dataset')\n",
    "\n",
    "\n",
    "\n",
    "X = df_transactions.drop('TX_FRAUD', axis=1)\n",
    "y = df_transactions['TX_FRAUD']\n",
    "\n"
   ]
  },
  {
   "cell_type": "code",
   "execution_count": 4,
   "id": "5f7e2630",
   "metadata": {},
   "outputs": [],
   "source": [
    "X_train, X_test, y_train, y_test = train_test_split(X, y, test_size=0.3, random_state=42)\n",
    "\n"
   ]
  },
  {
   "cell_type": "code",
   "execution_count": 5,
   "id": "33672d71",
   "metadata": {},
   "outputs": [
    {
     "name": "stdout",
     "output_type": "stream",
     "text": [
      "tensor([[0.4648, 0.7065, 0.4202],\n",
      "        [0.9944, 0.6119, 0.7367],\n",
      "        [0.8882, 0.4868, 0.5254],\n",
      "        [0.2498, 0.8801, 0.7946],\n",
      "        [0.0160, 0.7540, 0.7839]])\n"
     ]
    }
   ],
   "source": [
    "import torch\n",
    "x = torch.rand(5, 3)\n",
    "print(x)"
   ]
  },
  {
   "cell_type": "code",
   "execution_count": 6,
   "id": "752dea0a",
   "metadata": {},
   "outputs": [],
   "source": [
    "x_train = torch.FloatTensor(X_train.values)\n",
    "x_test = torch.FloatTensor(X_test.values)\n",
    "y_train = torch.FloatTensor(y_train.values)\n",
    "y_test = torch.FloatTensor(y_test.values)"
   ]
  },
  {
   "cell_type": "code",
   "execution_count": 7,
   "id": "ffcd50d4",
   "metadata": {},
   "outputs": [
    {
     "name": "stdout",
     "output_type": "stream",
     "text": [
      "Selected device is cpu\n"
     ]
    }
   ],
   "source": [
    "if torch.cuda.is_available():\n",
    "    DEVICE = \"cuda\" \n",
    "else:\n",
    "    DEVICE = \"cpu\"\n",
    "print(\"Selected device is\",DEVICE)"
   ]
  },
  {
   "cell_type": "code",
   "execution_count": 8,
   "id": "993ff6eb",
   "metadata": {},
   "outputs": [],
   "source": [
    "class FraudDataset(torch.utils.data.Dataset):\n",
    "    \n",
    "    def __init__(self, x, y):\n",
    "        'Initialization'\n",
    "        self.x = x\n",
    "        self.y = y\n",
    "\n",
    "    def __len__(self):\n",
    "        'Returns the total number of samples'\n",
    "        return len(self.x)\n",
    "\n",
    "    def __getitem__(self, index):\n",
    "        'Generates one sample of data'\n",
    "        # Select sample index\n",
    "        if self.y is not None:\n",
    "            return self.x[index].to(DEVICE), self.y[index].to(DEVICE)\n",
    "        else:\n",
    "            return self.x[index].to(DEVICE)"
   ]
  },
  {
   "cell_type": "code",
   "execution_count": 9,
   "id": "6d96a153",
   "metadata": {},
   "outputs": [],
   "source": [
    "train_loader_params = {'batch_size': 64,\n",
    "          'shuffle': True,\n",
    "          'num_workers': 0}\n",
    "test_loader_params = {'batch_size': 64,\n",
    "          'num_workers': 0}\n",
    "\n",
    "# Generators\n",
    "\n",
    "training_set = FraudDataset(x_train, y_train)\n",
    "\n",
    "testing_set = FraudDataset(x_test, y_test)\n",
    "\n",
    "\n",
    "train_loader = torch.utils.data.DataLoader(training_set, **train_loader_params)\n",
    "test_loader = torch.utils.data.DataLoader(testing_set, **test_loader_params)"
   ]
  },
  {
   "cell_type": "code",
   "execution_count": 10,
   "id": "7f26a744",
   "metadata": {},
   "outputs": [],
   "source": [
    "class SimpleFraudMLP(torch.nn.Module):\n",
    "    \n",
    "    def __init__(self):\n",
    "        \n",
    "        super().__init__()\n",
    "        self.first_sec = torch.nn.Sequential(\n",
    "                           torch.nn.Linear(3, 450),\n",
    "                           torch.nn.ReLU(),\n",
    "                         )\n",
    "        self.second_sec = torch.nn.Sequential(\n",
    "                           torch.nn.Linear(450, 450),\n",
    "                           torch.nn.ReLU(),\n",
    "                           torch.nn.Linear(450, 1),\n",
    "                           torch.nn.Sigmoid(),\n",
    "                         )\n",
    "        \n",
    "    def forward(self, x):\n",
    "        return self.second_sec(self.first_sec(x))\n"
   ]
  },
  {
   "cell_type": "code",
   "execution_count": 11,
   "id": "8d2617a7",
   "metadata": {},
   "outputs": [],
   "source": [
    "fraud_nn_model = SimpleFraudMLP().to(DEVICE)"
   ]
  },
  {
   "cell_type": "code",
   "execution_count": 12,
   "id": "65160590",
   "metadata": {},
   "outputs": [
    {
     "data": {
      "text/plain": [
       "[]"
      ]
     },
     "execution_count": 12,
     "metadata": {},
     "output_type": "execute_result"
    }
   ],
   "source": [
    "import warnings\n",
    "warnings.simplefilter(\"ignore\")\n",
    "\n",
    "MAX_GRAD_NORM = 1.2\n",
    "EPSILON = 90.0\n",
    "DELTA = 1e-5\n",
    "EPOCHS = 20\n",
    "\n",
    "LR = 1e-3\n",
    "\n",
    "from opacus.validators import ModuleValidator\n",
    "errors = ModuleValidator.validate(fraud_nn_model, strict=False)\n",
    "errors[-5:]\n"
   ]
  },
  {
   "cell_type": "code",
   "execution_count": 13,
   "id": "61379569",
   "metadata": {},
   "outputs": [
    {
     "data": {
      "text/plain": [
       "BCELoss()"
      ]
     },
     "execution_count": 13,
     "metadata": {},
     "output_type": "execute_result"
    }
   ],
   "source": [
    "from torch import nn, optim\n",
    "#loss_func = nn.CrossEntropyLoss()   \n",
    "loss_func = torch.nn.BCELoss().to(DEVICE)\n",
    "loss_func\n"
   ]
  },
  {
   "cell_type": "code",
   "execution_count": 14,
   "id": "f202b35e",
   "metadata": {},
   "outputs": [
    {
     "data": {
      "text/plain": [
       "SGD (\n",
       "Parameter Group 0\n",
       "    dampening: 0\n",
       "    differentiable: False\n",
       "    foreach: None\n",
       "    lr: 0.07\n",
       "    maximize: False\n",
       "    momentum: 0\n",
       "    nesterov: False\n",
       "    weight_decay: 0\n",
       ")"
      ]
     },
     "execution_count": 14,
     "metadata": {},
     "output_type": "execute_result"
    }
   ],
   "source": [
    "#optimizer = optim.Adam(fraud_nn_model.parameters(), lr = 0.01)  \n",
    "optimizer = torch.optim.SGD(fraud_nn_model.parameters(), lr = 0.07)\n",
    "optimizer\n"
   ]
  },
  {
   "cell_type": "code",
   "execution_count": 15,
   "id": "875d0174",
   "metadata": {},
   "outputs": [
    {
     "data": {
      "text/plain": [
       "SimpleFraudMLP(\n",
       "  (first_sec): Sequential(\n",
       "    (0): Linear(in_features=3, out_features=450, bias=True)\n",
       "    (1): ReLU()\n",
       "  )\n",
       "  (second_sec): Sequential(\n",
       "    (0): Linear(in_features=450, out_features=450, bias=True)\n",
       "    (1): ReLU()\n",
       "    (2): Linear(in_features=450, out_features=1, bias=True)\n",
       "    (3): Sigmoid()\n",
       "  )\n",
       ")"
      ]
     },
     "execution_count": 15,
     "metadata": {},
     "output_type": "execute_result"
    }
   ],
   "source": [
    "fraud_nn_model.eval()"
   ]
  },
  {
   "cell_type": "code",
   "execution_count": 16,
   "id": "dc69fba3",
   "metadata": {},
   "outputs": [
    {
     "name": "stdout",
     "output_type": "stream",
     "text": [
      "Using sigma=0.2883148193359375 and C=1.2\n"
     ]
    }
   ],
   "source": [
    "from opacus import PrivacyEngine\n",
    "\n",
    "fraud_nn_model.train()\n",
    "\n",
    "privacy_engine = PrivacyEngine()\n",
    "\n",
    "\n",
    "model, optimizer, train_loader = privacy_engine.make_private_with_epsilon(\n",
    "    module=fraud_nn_model,\n",
    "    optimizer=optimizer,\n",
    "    data_loader=train_loader,\n",
    "    epochs=EPOCHS,\n",
    "    target_epsilon=EPSILON,\n",
    "    target_delta=DELTA,\n",
    "    max_grad_norm=MAX_GRAD_NORM,\n",
    ")\n",
    "print(f\"Using sigma={optimizer.noise_multiplier} and C={MAX_GRAD_NORM}\")\n"
   ]
  },
  {
   "cell_type": "code",
   "execution_count": 17,
   "id": "247ebd38",
   "metadata": {},
   "outputs": [
    {
     "name": "stdout",
     "output_type": "stream",
     "text": [
      "ε epsilon27.552710036487476     : delta:1e-05\n",
      "Epoch 0: train loss: 23.35688462161495\n",
      "ε epsilon33.98911164791893     : delta:1e-05\n",
      "Epoch 1: train loss: 22.910238819540744\n",
      "ε epsilon38.786904746786384     : delta:1e-05\n",
      "Epoch 2: train loss: 22.516301270594763\n",
      "ε epsilon42.819749628256126     : delta:1e-05\n",
      "Epoch 3: train loss: 23.105902637816435\n",
      "ε epsilon46.852594509725854     : delta:1e-05\n",
      "Epoch 4: train loss: 23.107947564866034\n",
      "ε epsilon50.8854393911956     : delta:1e-05\n",
      "Epoch 5: train loss: 22.70367295040291\n",
      "ε epsilon54.91828427266533     : delta:1e-05\n",
      "Epoch 6: train loss: 23.265120337606565\n",
      "ε epsilon57.62100410282992     : delta:1e-05\n",
      "Epoch 7: train loss: 22.029040902362663\n",
      "ε epsilon60.31918791574003     : delta:1e-05\n",
      "Epoch 8: train loss: 22.633963522135232\n",
      "ε epsilon63.01737172865014     : delta:1e-05\n",
      "Epoch 9: train loss: 22.68892878108748\n"
     ]
    }
   ],
   "source": [
    "import numpy as np\n",
    "import time\n",
    "\n",
    "n_epochs = 10\n",
    "#Setting the model in training mode\n",
    "fraud_nn_model.train()\n",
    "\n",
    "#Training loop\n",
    "start_time=time.time()\n",
    "epochs_train_losses = []\n",
    "epochs_test_losses = []\n",
    "\n",
    "for epoch in range(n_epochs):\n",
    "    train_loss=[]\n",
    "    train_loss1=0\n",
    "    for x_batch, y_batch in train_loader:\n",
    "        \n",
    "        fraud_nn_model.train()\n",
    "        \n",
    "        y_pred = fraud_nn_model(x_batch)\n",
    "       \n",
    "        loss = loss_func(y_pred.squeeze(), y_batch)\n",
    "        \n",
    "        optimizer.zero_grad()\n",
    "        \n",
    "        loss.backward()\n",
    "        \n",
    "        optimizer.step()\n",
    "       \n",
    "        train_loss.append(loss.item())\n",
    "        \n",
    "        train_loss1 += loss.item()*x_batch.size(0)\n",
    "    \n",
    "    \n",
    "    epsilon = privacy_engine.get_epsilon(DELTA)\n",
    "    print('ε epsilon{}     : delta:{}'.format(epsilon, DELTA))\n",
    "    \n",
    "   \n",
    "    epochs_train_losses.append(np.mean(train_loss))\n",
    "    print('Epoch {}: train loss: {}'.format(epoch, np.mean(train_loss)))\n",
    "    \n",
    "    "
   ]
  },
  {
   "cell_type": "code",
   "execution_count": null,
   "id": "ae36bbda",
   "metadata": {},
   "outputs": [],
   "source": []
  },
  {
   "cell_type": "code",
   "execution_count": null,
   "id": "ba17378c",
   "metadata": {},
   "outputs": [],
   "source": []
  },
  {
   "cell_type": "code",
   "execution_count": null,
   "id": "e003fc58",
   "metadata": {},
   "outputs": [],
   "source": []
  },
  {
   "cell_type": "code",
   "execution_count": null,
   "id": "3034428a",
   "metadata": {},
   "outputs": [],
   "source": []
  },
  {
   "cell_type": "code",
   "execution_count": null,
   "id": "3cab8dc2",
   "metadata": {},
   "outputs": [],
   "source": []
  },
  {
   "cell_type": "code",
   "execution_count": null,
   "id": "26b8e3ed",
   "metadata": {},
   "outputs": [],
   "source": []
  }
 ],
 "metadata": {
  "kernelspec": {
   "display_name": "Python 3 (ipykernel)",
   "language": "python",
   "name": "python3"
  },
  "language_info": {
   "codemirror_mode": {
    "name": "ipython",
    "version": 3
   },
   "file_extension": ".py",
   "mimetype": "text/x-python",
   "name": "python",
   "nbconvert_exporter": "python",
   "pygments_lexer": "ipython3",
   "version": "3.8.10"
  }
 },
 "nbformat": 4,
 "nbformat_minor": 5
}
