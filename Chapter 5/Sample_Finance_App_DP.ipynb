{
 "cells": [
  {
   "cell_type": "code",
   "execution_count": 1,
   "id": "b7ecee5b",
   "metadata": {},
   "outputs": [],
   "source": [
    "import pydp as dp  # by convention our package is to be imported as dp (for Differential Privacy!)\n",
    "from pydp.algorithms.laplacian import BoundedSum, BoundedMean, Count, Max\n",
    "import pandas as pd\n",
    "import statistics  # for calculating mean without applying differential privacy"
   ]
  },
  {
   "cell_type": "code",
   "execution_count": 2,
   "id": "5a8a84f0",
   "metadata": {},
   "outputs": [
    {
     "data": {
      "text/html": [
       "<div>\n",
       "<style scoped>\n",
       "    .dataframe tbody tr th:only-of-type {\n",
       "        vertical-align: middle;\n",
       "    }\n",
       "\n",
       "    .dataframe tbody tr th {\n",
       "        vertical-align: top;\n",
       "    }\n",
       "\n",
       "    .dataframe thead th {\n",
       "        text-align: right;\n",
       "    }\n",
       "</style>\n",
       "<table border=\"1\" class=\"dataframe\">\n",
       "  <thead>\n",
       "    <tr style=\"text-align: right;\">\n",
       "      <th></th>\n",
       "      <th>TRANSACTION_ID</th>\n",
       "      <th>TX_DATETIME</th>\n",
       "      <th>CUSTOMER_ID</th>\n",
       "      <th>TERMINAL_ID</th>\n",
       "      <th>TX_AMOUNT</th>\n",
       "    </tr>\n",
       "  </thead>\n",
       "  <tbody>\n",
       "    <tr>\n",
       "      <th>0</th>\n",
       "      <td>0</td>\n",
       "      <td>2023-02-01 00:43:37</td>\n",
       "      <td>901</td>\n",
       "      <td>8047</td>\n",
       "      <td>82</td>\n",
       "    </tr>\n",
       "    <tr>\n",
       "      <th>1</th>\n",
       "      <td>1</td>\n",
       "      <td>2023-02-01 01:20:13</td>\n",
       "      <td>2611</td>\n",
       "      <td>7777</td>\n",
       "      <td>15</td>\n",
       "    </tr>\n",
       "    <tr>\n",
       "      <th>2</th>\n",
       "      <td>2</td>\n",
       "      <td>2023-02-01 01:22:52</td>\n",
       "      <td>4212</td>\n",
       "      <td>3336</td>\n",
       "      <td>53</td>\n",
       "    </tr>\n",
       "    <tr>\n",
       "      <th>3</th>\n",
       "      <td>3</td>\n",
       "      <td>2023-02-01 01:26:40</td>\n",
       "      <td>1293</td>\n",
       "      <td>7432</td>\n",
       "      <td>59</td>\n",
       "    </tr>\n",
       "    <tr>\n",
       "      <th>4</th>\n",
       "      <td>4</td>\n",
       "      <td>2023-02-01 01:52:23</td>\n",
       "      <td>2499</td>\n",
       "      <td>1024</td>\n",
       "      <td>25</td>\n",
       "    </tr>\n",
       "  </tbody>\n",
       "</table>\n",
       "</div>"
      ],
      "text/plain": [
       "   TRANSACTION_ID          TX_DATETIME  CUSTOMER_ID  TERMINAL_ID  TX_AMOUNT\n",
       "0               0  2023-02-01 00:43:37          901         8047         82\n",
       "1               1  2023-02-01 01:20:13         2611         7777         15\n",
       "2               2  2023-02-01 01:22:52         4212         3336         53\n",
       "3               3  2023-02-01 01:26:40         1293         7432         59\n",
       "4               4  2023-02-01 01:52:23         2499         1024         25"
      ]
     },
     "execution_count": 2,
     "metadata": {},
     "output_type": "execute_result"
    }
   ],
   "source": [
    "url = \"transactions.csv\"\n",
    "df_actual = pd.read_csv(url, sep=\",\")\n",
    "\n",
    "df = df_actual[['TRANSACTION_ID', 'TX_DATETIME','CUSTOMER_ID','TERMINAL_ID','TX_AMOUNT']]\n",
    "\n",
    "df.head()"
   ]
  },
  {
   "cell_type": "code",
   "execution_count": 3,
   "id": "1d5173e5",
   "metadata": {},
   "outputs": [
    {
     "data": {
      "text/plain": [
       "56.22097378277154"
      ]
     },
     "execution_count": 3,
     "metadata": {},
     "output_type": "execute_result"
    }
   ],
   "source": [
    "def mean_tx_amount(tid) -> float:\n",
    "    dft = df[df[\"TERMINAL_ID\"] == tid] \n",
    "    return statistics.mean(list(dft[\"TX_AMOUNT\"]))\n",
    "\n",
    "mean_tx_amount(1)"
   ]
  },
  {
   "cell_type": "code",
   "execution_count": 4,
   "id": "3cebf5ca",
   "metadata": {},
   "outputs": [
    {
     "data": {
      "text/plain": [
       "220.98103940917645"
      ]
     },
     "execution_count": 4,
     "metadata": {},
     "output_type": "execute_result"
    }
   ],
   "source": [
    "# calculates mean applying differential privacy\n",
    "def private_mean_tx_amount(privacy_budget: float, tid) -> float:\n",
    "    x = BoundedMean(privacy_budget,1,1,300)\n",
    "    dft = df[df[\"TERMINAL_ID\"] == id] \n",
    "    return x.quick_result(list(dft[\"TX_AMOUNT\"]))\n",
    "\n",
    "private_mean_tx_amount(0.6,1)"
   ]
  },
  {
   "cell_type": "code",
   "execution_count": 5,
   "id": "c948534c",
   "metadata": {},
   "outputs": [
    {
     "data": {
      "text/html": [
       "<div>\n",
       "<style scoped>\n",
       "    .dataframe tbody tr th:only-of-type {\n",
       "        vertical-align: middle;\n",
       "    }\n",
       "\n",
       "    .dataframe tbody tr th {\n",
       "        vertical-align: top;\n",
       "    }\n",
       "\n",
       "    .dataframe thead th {\n",
       "        text-align: right;\n",
       "    }\n",
       "</style>\n",
       "<table border=\"1\" class=\"dataframe\">\n",
       "  <thead>\n",
       "    <tr style=\"text-align: right;\">\n",
       "      <th></th>\n",
       "      <th>Terminal Id</th>\n",
       "      <th>Mean</th>\n",
       "      <th>privacy_mean</th>\n",
       "    </tr>\n",
       "  </thead>\n",
       "  <tbody>\n",
       "    <tr>\n",
       "      <th>0</th>\n",
       "      <td>1</td>\n",
       "      <td>56.220974</td>\n",
       "      <td>96.594534</td>\n",
       "    </tr>\n",
       "    <tr>\n",
       "      <th>1</th>\n",
       "      <td>2</td>\n",
       "      <td>52.366505</td>\n",
       "      <td>300.000000</td>\n",
       "    </tr>\n",
       "    <tr>\n",
       "      <th>2</th>\n",
       "      <td>3</td>\n",
       "      <td>40.870763</td>\n",
       "      <td>1.000000</td>\n",
       "    </tr>\n",
       "    <tr>\n",
       "      <th>3</th>\n",
       "      <td>4</td>\n",
       "      <td>52.102000</td>\n",
       "      <td>300.000000</td>\n",
       "    </tr>\n",
       "    <tr>\n",
       "      <th>4</th>\n",
       "      <td>5</td>\n",
       "      <td>47.911175</td>\n",
       "      <td>118.168421</td>\n",
       "    </tr>\n",
       "    <tr>\n",
       "      <th>5</th>\n",
       "      <td>6</td>\n",
       "      <td>52.302128</td>\n",
       "      <td>1.000000</td>\n",
       "    </tr>\n",
       "    <tr>\n",
       "      <th>6</th>\n",
       "      <td>7</td>\n",
       "      <td>51.335979</td>\n",
       "      <td>186.967339</td>\n",
       "    </tr>\n",
       "    <tr>\n",
       "      <th>7</th>\n",
       "      <td>8</td>\n",
       "      <td>50.100806</td>\n",
       "      <td>163.890127</td>\n",
       "    </tr>\n",
       "    <tr>\n",
       "      <th>8</th>\n",
       "      <td>9</td>\n",
       "      <td>52.631893</td>\n",
       "      <td>1.000000</td>\n",
       "    </tr>\n",
       "    <tr>\n",
       "      <th>9</th>\n",
       "      <td>10</td>\n",
       "      <td>48.978903</td>\n",
       "      <td>1.000000</td>\n",
       "    </tr>\n",
       "  </tbody>\n",
       "</table>\n",
       "</div>"
      ],
      "text/plain": [
       "   Terminal Id       Mean  privacy_mean\n",
       "0            1  56.220974     96.594534\n",
       "1            2  52.366505    300.000000\n",
       "2            3  40.870763      1.000000\n",
       "3            4  52.102000    300.000000\n",
       "4            5  47.911175    118.168421\n",
       "5            6  52.302128      1.000000\n",
       "6            7  51.335979    186.967339\n",
       "7            8  50.100806    163.890127\n",
       "8            9  52.631893      1.000000\n",
       "9           10  48.978903      1.000000"
      ]
     },
     "execution_count": 5,
     "metadata": {},
     "output_type": "execute_result"
    }
   ],
   "source": [
    "terminal_mean_vs_privacy_means=[]\n",
    "for i in range (1, 100):\n",
    "    mean = mean_tx_amount(i)\n",
    "    privacy_mean = private_mean_tx_amount(0.9,i)\n",
    "    terminal_mean_vs_privacy_means.append([i, mean,privacy_mean])\n",
    "        \n",
    "\n",
    "terminal_mean_vs_privacy_means_df = pd.DataFrame(terminal_mean_vs_privacy_means, columns=['Terminal Id','Mean','privacy_mean'])\n",
    "terminal_mean_vs_privacy_means_df.head(10)"
   ]
  },
  {
   "cell_type": "code",
   "execution_count": null,
   "id": "9b3eb783",
   "metadata": {},
   "outputs": [],
   "source": []
  },
  {
   "cell_type": "code",
   "execution_count": 9,
   "id": "cc6ca5b0",
   "metadata": {},
   "outputs": [
    {
     "data": {
      "text/plain": [
       "232"
      ]
     },
     "execution_count": 9,
     "metadata": {},
     "output_type": "execute_result"
    }
   ],
   "source": [
    "def count_tx_amount_above(limit: float,tid) -> int:\n",
    "    dft = df[df[\"TERMINAL_ID\"] == tid] \n",
    "    return dft[dft.TX_AMOUNT > limit].count()[0]\n",
    "\n",
    "count_tx_amount_above(25.0,1)"
   ]
  },
  {
   "cell_type": "code",
   "execution_count": 14,
   "id": "a06ecbf3",
   "metadata": {},
   "outputs": [
    {
     "data": {
      "text/plain": [
       "257"
      ]
     },
     "execution_count": 14,
     "metadata": {},
     "output_type": "execute_result"
    }
   ],
   "source": [
    "def private_tx_amount_above(privacy_budget: float, limit: float,tid:int) -> float:\n",
    "    dft = df[df[\"TERMINAL_ID\"] == tid] \n",
    "    x = Count(privacy_budget, dtype=\"float\")\n",
    "    return x.quick_result(list(dft[dft.TX_AMOUNT > limit][\"TX_AMOUNT\"]))\n",
    "\n",
    "private_tx_amount_above(0.1,25.0,1)"
   ]
  },
  {
   "cell_type": "code",
   "execution_count": 15,
   "id": "c1f98467",
   "metadata": {},
   "outputs": [
    {
     "data": {
      "text/html": [
       "<div>\n",
       "<style scoped>\n",
       "    .dataframe tbody tr th:only-of-type {\n",
       "        vertical-align: middle;\n",
       "    }\n",
       "\n",
       "    .dataframe tbody tr th {\n",
       "        vertical-align: top;\n",
       "    }\n",
       "\n",
       "    .dataframe thead th {\n",
       "        text-align: right;\n",
       "    }\n",
       "</style>\n",
       "<table border=\"1\" class=\"dataframe\">\n",
       "  <thead>\n",
       "    <tr style=\"text-align: right;\">\n",
       "      <th></th>\n",
       "      <th>Terminal Id</th>\n",
       "      <th>Count</th>\n",
       "      <th>privacy_count</th>\n",
       "    </tr>\n",
       "  </thead>\n",
       "  <tbody>\n",
       "    <tr>\n",
       "      <th>0</th>\n",
       "      <td>1</td>\n",
       "      <td>232</td>\n",
       "      <td>224</td>\n",
       "    </tr>\n",
       "    <tr>\n",
       "      <th>1</th>\n",
       "      <td>2</td>\n",
       "      <td>285</td>\n",
       "      <td>274</td>\n",
       "    </tr>\n",
       "    <tr>\n",
       "      <th>2</th>\n",
       "      <td>3</td>\n",
       "      <td>381</td>\n",
       "      <td>368</td>\n",
       "    </tr>\n",
       "    <tr>\n",
       "      <th>3</th>\n",
       "      <td>4</td>\n",
       "      <td>338</td>\n",
       "      <td>315</td>\n",
       "    </tr>\n",
       "    <tr>\n",
       "      <th>4</th>\n",
       "      <td>5</td>\n",
       "      <td>279</td>\n",
       "      <td>278</td>\n",
       "    </tr>\n",
       "    <tr>\n",
       "      <th>5</th>\n",
       "      <td>6</td>\n",
       "      <td>337</td>\n",
       "      <td>329</td>\n",
       "    </tr>\n",
       "    <tr>\n",
       "      <th>6</th>\n",
       "      <td>7</td>\n",
       "      <td>267</td>\n",
       "      <td>270</td>\n",
       "    </tr>\n",
       "    <tr>\n",
       "      <th>7</th>\n",
       "      <td>8</td>\n",
       "      <td>318</td>\n",
       "      <td>323</td>\n",
       "    </tr>\n",
       "    <tr>\n",
       "      <th>8</th>\n",
       "      <td>9</td>\n",
       "      <td>514</td>\n",
       "      <td>502</td>\n",
       "    </tr>\n",
       "    <tr>\n",
       "      <th>9</th>\n",
       "      <td>10</td>\n",
       "      <td>370</td>\n",
       "      <td>364</td>\n",
       "    </tr>\n",
       "  </tbody>\n",
       "</table>\n",
       "</div>"
      ],
      "text/plain": [
       "   Terminal Id  Count  privacy_count\n",
       "0            1    232            224\n",
       "1            2    285            274\n",
       "2            3    381            368\n",
       "3            4    338            315\n",
       "4            5    279            278\n",
       "5            6    337            329\n",
       "6            7    267            270\n",
       "7            8    318            323\n",
       "8            9    514            502\n",
       "9           10    370            364"
      ]
     },
     "execution_count": 15,
     "metadata": {},
     "output_type": "execute_result"
    }
   ],
   "source": [
    "terminal_amount_vs_privacy_amont=[]\n",
    "for i in range (1, 100):\n",
    "    count = count_tx_amount_above(25.0,i)\n",
    "    privacy_count = private_tx_amount_above(0.1,25.0,i)\n",
    "    terminal_amount_vs_privacy_amont.append([i, count,privacy_count])\n",
    "        \n",
    "\n",
    "terminal_amount_vs_privacy_amont_df = pd.DataFrame(terminal_amount_vs_privacy_amont, columns=['Terminal Id','Count','privacy_count'])\n",
    "terminal_amount_vs_privacy_amont_df.head(10)\n",
    "\n",
    "#print(\"Above 100:\\t\" + str(count_tx_amount_above(40)))\n",
    "#print(\"private tx_amount above:\\t\" + str(private_tx_amount_above(0.5, 40.0)))"
   ]
  },
  {
   "cell_type": "code",
   "execution_count": 16,
   "id": "9e996738",
   "metadata": {},
   "outputs": [
    {
     "data": {
      "text/plain": [
       "87"
      ]
     },
     "execution_count": 16,
     "metadata": {},
     "output_type": "execute_result"
    }
   ],
   "source": [
    "def max_tx_amount(tid:int) -> int:\n",
    "    dft = df[df[\"TERMINAL_ID\"] == tid] \n",
    "    return dft.max()[\"TX_AMOUNT\"]\n",
    "\n",
    "max_tx_amount(1)"
   ]
  },
  {
   "cell_type": "code",
   "execution_count": 18,
   "id": "06ad1995",
   "metadata": {},
   "outputs": [
    {
     "data": {
      "text/plain": [
       "167.51941105013407"
      ]
     },
     "execution_count": 18,
     "metadata": {},
     "output_type": "execute_result"
    }
   ],
   "source": [
    "def private_max_tx_amount(privacy_budget: float,tid:int) -> int:\n",
    "    dft = df[df[\"TERMINAL_ID\"] == tid] \n",
    "    x = Max(epsilon = privacy_budget, lower_bound = 100.0, upper_bound = 50000.0, dtype=\"float\")\n",
    "    return x.quick_result(list(dft[\"TX_AMOUNT\"]))\n",
    "\n",
    "private_max_tx_amount(0.5,1)"
   ]
  },
  {
   "cell_type": "code",
   "execution_count": 19,
   "id": "9fa2c57b",
   "metadata": {},
   "outputs": [
    {
     "data": {
      "text/plain": [
       "15011"
      ]
     },
     "execution_count": 19,
     "metadata": {},
     "output_type": "execute_result"
    }
   ],
   "source": [
    "def sum_tx_amount(tid:int) -> float:\n",
    "    dft = df[df[\"TERMINAL_ID\"] == tid] \n",
    "    return dft.sum()[\"TX_AMOUNT\"]\n",
    "sum_tx_amount(1)"
   ]
  },
  {
   "cell_type": "code",
   "execution_count": 75,
   "id": "443b8882",
   "metadata": {},
   "outputs": [
    {
     "data": {
      "text/plain": [
       "27759.46144104004"
      ]
     },
     "execution_count": 75,
     "metadata": {},
     "output_type": "execute_result"
    }
   ],
   "source": [
    "def private_sum_tx_amount(privacy_budget: float, tid:int) -> float:\n",
    "    dft = df[df[\"TERMINAL_ID\"] == tid] \n",
    "    x = BoundedSum(epsilon = privacy_budget, delta = 0, lower_bound= 100.0, upper_bound = 50000.0, dtype=\"float\")\n",
    "    return x.quick_result(list(dft[\"TX_AMOUNT\"]))\n",
    "\n",
    "private_sum_tx_amount(0.6,1)"
   ]
  },
  {
   "cell_type": "code",
   "execution_count": 92,
   "id": "149727a8",
   "metadata": {},
   "outputs": [
    {
     "name": "stdout",
     "output_type": "stream",
     "text": [
      "Sum:\t62\n",
      "Private Sum:\t59321.32064503431\n"
     ]
    }
   ],
   "source": [
    "print(\"Sum:\\t\" + str(sum_tx_amount(2)))\n",
    "print(\"Private Sum:\\t\" + str(private_sum_tx_amount(0.9,2)))"
   ]
  },
  {
   "cell_type": "code",
   "execution_count": null,
   "id": "d000c7b0",
   "metadata": {},
   "outputs": [],
   "source": []
  },
  {
   "cell_type": "code",
   "execution_count": 93,
   "id": "c2430f87",
   "metadata": {},
   "outputs": [],
   "source": [
    "###. Membership inference Attack - Example\n",
    "\n",
    "url = \"2023-07-08.csv\"\n",
    "df = pd.read_csv(url, sep=\",\")"
   ]
  },
  {
   "cell_type": "code",
   "execution_count": 102,
   "id": "47417797",
   "metadata": {},
   "outputs": [],
   "source": [
    "redact_dataset = df.copy()\n",
    "redact_dataset = redact_dataset[1:]     "
   ]
  },
  {
   "cell_type": "code",
   "execution_count": 103,
   "id": "b21e5a2b",
   "metadata": {},
   "outputs": [
    {
     "data": {
      "text/html": [
       "<div>\n",
       "<style scoped>\n",
       "    .dataframe tbody tr th:only-of-type {\n",
       "        vertical-align: middle;\n",
       "    }\n",
       "\n",
       "    .dataframe tbody tr th {\n",
       "        vertical-align: top;\n",
       "    }\n",
       "\n",
       "    .dataframe thead th {\n",
       "        text-align: right;\n",
       "    }\n",
       "</style>\n",
       "<table border=\"1\" class=\"dataframe\">\n",
       "  <thead>\n",
       "    <tr style=\"text-align: right;\">\n",
       "      <th></th>\n",
       "      <th>Unnamed: 0</th>\n",
       "      <th>TRANSACTION_ID</th>\n",
       "      <th>TX_DATETIME</th>\n",
       "      <th>CUSTOMER_ID</th>\n",
       "      <th>TERMINAL_ID</th>\n",
       "      <th>TX_AMOUNT</th>\n",
       "      <th>TX_TIME_SECONDS</th>\n",
       "      <th>TX_TIME_DAYS</th>\n",
       "    </tr>\n",
       "  </thead>\n",
       "  <tbody>\n",
       "    <tr>\n",
       "      <th>0</th>\n",
       "      <td>3909703</td>\n",
       "      <td>3909703</td>\n",
       "      <td>2023-07-08 00:16:41</td>\n",
       "      <td>2482</td>\n",
       "      <td>833</td>\n",
       "      <td>13</td>\n",
       "      <td>13565801</td>\n",
       "      <td>157</td>\n",
       "    </tr>\n",
       "    <tr>\n",
       "      <th>1</th>\n",
       "      <td>3909704</td>\n",
       "      <td>3909704</td>\n",
       "      <td>2023-07-08 01:14:55</td>\n",
       "      <td>1622</td>\n",
       "      <td>8781</td>\n",
       "      <td>90</td>\n",
       "      <td>13569295</td>\n",
       "      <td>157</td>\n",
       "    </tr>\n",
       "    <tr>\n",
       "      <th>2</th>\n",
       "      <td>3909705</td>\n",
       "      <td>3909705</td>\n",
       "      <td>2023-07-08 01:27:59</td>\n",
       "      <td>2507</td>\n",
       "      <td>4365</td>\n",
       "      <td>65</td>\n",
       "      <td>13570079</td>\n",
       "      <td>157</td>\n",
       "    </tr>\n",
       "    <tr>\n",
       "      <th>3</th>\n",
       "      <td>3909706</td>\n",
       "      <td>3909706</td>\n",
       "      <td>2023-07-08 01:37:14</td>\n",
       "      <td>2253</td>\n",
       "      <td>8773</td>\n",
       "      <td>97</td>\n",
       "      <td>13570634</td>\n",
       "      <td>157</td>\n",
       "    </tr>\n",
       "    <tr>\n",
       "      <th>4</th>\n",
       "      <td>3909707</td>\n",
       "      <td>3909707</td>\n",
       "      <td>2023-07-08 01:42:52</td>\n",
       "      <td>4866</td>\n",
       "      <td>7578</td>\n",
       "      <td>41</td>\n",
       "      <td>13570972</td>\n",
       "      <td>157</td>\n",
       "    </tr>\n",
       "  </tbody>\n",
       "</table>\n",
       "</div>"
      ],
      "text/plain": [
       "   Unnamed: 0  TRANSACTION_ID          TX_DATETIME  CUSTOMER_ID  TERMINAL_ID  \\\n",
       "0     3909703         3909703  2023-07-08 00:16:41         2482          833   \n",
       "1     3909704         3909704  2023-07-08 01:14:55         1622         8781   \n",
       "2     3909705         3909705  2023-07-08 01:27:59         2507         4365   \n",
       "3     3909706         3909706  2023-07-08 01:37:14         2253         8773   \n",
       "4     3909707         3909707  2023-07-08 01:42:52         4866         7578   \n",
       "\n",
       "   TX_AMOUNT  TX_TIME_SECONDS  TX_TIME_DAYS  \n",
       "0         13         13565801           157  \n",
       "1         90         13569295           157  \n",
       "2         65         13570079           157  \n",
       "3         97         13570634           157  \n",
       "4         41         13570972           157  "
      ]
     },
     "execution_count": 103,
     "metadata": {},
     "output_type": "execute_result"
    }
   ],
   "source": [
    "df.head()"
   ]
  },
  {
   "cell_type": "code",
   "execution_count": 104,
   "id": "31749d07",
   "metadata": {},
   "outputs": [
    {
     "data": {
      "text/html": [
       "<div>\n",
       "<style scoped>\n",
       "    .dataframe tbody tr th:only-of-type {\n",
       "        vertical-align: middle;\n",
       "    }\n",
       "\n",
       "    .dataframe tbody tr th {\n",
       "        vertical-align: top;\n",
       "    }\n",
       "\n",
       "    .dataframe thead th {\n",
       "        text-align: right;\n",
       "    }\n",
       "</style>\n",
       "<table border=\"1\" class=\"dataframe\">\n",
       "  <thead>\n",
       "    <tr style=\"text-align: right;\">\n",
       "      <th></th>\n",
       "      <th>Unnamed: 0</th>\n",
       "      <th>TRANSACTION_ID</th>\n",
       "      <th>TX_DATETIME</th>\n",
       "      <th>CUSTOMER_ID</th>\n",
       "      <th>TERMINAL_ID</th>\n",
       "      <th>TX_AMOUNT</th>\n",
       "      <th>TX_TIME_SECONDS</th>\n",
       "      <th>TX_TIME_DAYS</th>\n",
       "    </tr>\n",
       "  </thead>\n",
       "  <tbody>\n",
       "    <tr>\n",
       "      <th>1</th>\n",
       "      <td>3909704</td>\n",
       "      <td>3909704</td>\n",
       "      <td>2023-07-08 01:14:55</td>\n",
       "      <td>1622</td>\n",
       "      <td>8781</td>\n",
       "      <td>90</td>\n",
       "      <td>13569295</td>\n",
       "      <td>157</td>\n",
       "    </tr>\n",
       "    <tr>\n",
       "      <th>2</th>\n",
       "      <td>3909705</td>\n",
       "      <td>3909705</td>\n",
       "      <td>2023-07-08 01:27:59</td>\n",
       "      <td>2507</td>\n",
       "      <td>4365</td>\n",
       "      <td>65</td>\n",
       "      <td>13570079</td>\n",
       "      <td>157</td>\n",
       "    </tr>\n",
       "    <tr>\n",
       "      <th>3</th>\n",
       "      <td>3909706</td>\n",
       "      <td>3909706</td>\n",
       "      <td>2023-07-08 01:37:14</td>\n",
       "      <td>2253</td>\n",
       "      <td>8773</td>\n",
       "      <td>97</td>\n",
       "      <td>13570634</td>\n",
       "      <td>157</td>\n",
       "    </tr>\n",
       "    <tr>\n",
       "      <th>4</th>\n",
       "      <td>3909707</td>\n",
       "      <td>3909707</td>\n",
       "      <td>2023-07-08 01:42:52</td>\n",
       "      <td>4866</td>\n",
       "      <td>7578</td>\n",
       "      <td>41</td>\n",
       "      <td>13570972</td>\n",
       "      <td>157</td>\n",
       "    </tr>\n",
       "    <tr>\n",
       "      <th>5</th>\n",
       "      <td>3909708</td>\n",
       "      <td>3909708</td>\n",
       "      <td>2023-07-08 01:53:29</td>\n",
       "      <td>1584</td>\n",
       "      <td>7270</td>\n",
       "      <td>83</td>\n",
       "      <td>13571609</td>\n",
       "      <td>157</td>\n",
       "    </tr>\n",
       "  </tbody>\n",
       "</table>\n",
       "</div>"
      ],
      "text/plain": [
       "   Unnamed: 0  TRANSACTION_ID          TX_DATETIME  CUSTOMER_ID  TERMINAL_ID  \\\n",
       "1     3909704         3909704  2023-07-08 01:14:55         1622         8781   \n",
       "2     3909705         3909705  2023-07-08 01:27:59         2507         4365   \n",
       "3     3909706         3909706  2023-07-08 01:37:14         2253         8773   \n",
       "4     3909707         3909707  2023-07-08 01:42:52         4866         7578   \n",
       "5     3909708         3909708  2023-07-08 01:53:29         1584         7270   \n",
       "\n",
       "   TX_AMOUNT  TX_TIME_SECONDS  TX_TIME_DAYS  \n",
       "1         90         13569295           157  \n",
       "2         65         13570079           157  \n",
       "3         97         13570634           157  \n",
       "4         41         13570972           157  \n",
       "5         83         13571609           157  "
      ]
     },
     "execution_count": 104,
     "metadata": {},
     "output_type": "execute_result"
    }
   ],
   "source": [
    "redact_dataset.head()"
   ]
  },
  {
   "cell_type": "code",
   "execution_count": 105,
   "id": "11628d94",
   "metadata": {},
   "outputs": [
    {
     "data": {
      "text/plain": [
       "13"
      ]
     },
     "execution_count": 105,
     "metadata": {},
     "output_type": "execute_result"
    }
   ],
   "source": [
    "sum_original_dataset = sum(df[\"TX_AMOUNT\"].to_list())\n",
    "sum_redact_dataset = sum(redact_dataset[\"TX_AMOUNT\"].to_list())\n",
    "tx_amount_3909703 = sum_original_dataset - sum_redact_dataset\n",
    "tx_amount_3909703"
   ]
  },
  {
   "cell_type": "code",
   "execution_count": 106,
   "id": "0ab765a1",
   "metadata": {},
   "outputs": [],
   "source": [
    "df.iloc[0, 5]\n",
    "assert tx_amount_3909703 == df.iloc[0, 5]"
   ]
  },
  {
   "cell_type": "code",
   "execution_count": 107,
   "id": "418785eb",
   "metadata": {},
   "outputs": [],
   "source": [
    "dp_sum_original_dataset = BoundedSum(\n",
    "    epsilon=1, lower_bound=1.0, upper_bound=500.0, dtype=\"float\"\n",
    ")\n",
    "     "
   ]
  },
  {
   "cell_type": "code",
   "execution_count": 108,
   "id": "17daaaa9",
   "metadata": {},
   "outputs": [],
   "source": [
    "dp_sum_original_dataset.reset()\n",
    "dp_sum_original_dataset.add_entries(\n",
    "    df[\"TX_AMOUNT\"].to_list()\n",
    ")  "
   ]
  },
  {
   "cell_type": "code",
   "execution_count": 109,
   "id": "811c1abd",
   "metadata": {},
   "outputs": [
    {
     "name": "stdout",
     "output_type": "stream",
     "text": [
      "1265685.96\n"
     ]
    }
   ],
   "source": [
    "dp_sum_og = round(dp_sum_original_dataset.result(), 2)\n",
    "print(dp_sum_og)"
   ]
  },
  {
   "cell_type": "code",
   "execution_count": 110,
   "id": "649940ab",
   "metadata": {},
   "outputs": [],
   "source": [
    "dp_redact_dataset = BoundedSum(epsilon=1, lower_bound=1.0, upper_bound=500.0, dtype=\"float\")\n",
    "dp_redact_dataset.add_entries(redact_dataset[\"TX_AMOUNT\"].to_list())"
   ]
  },
  {
   "cell_type": "code",
   "execution_count": 111,
   "id": "874f4ea4",
   "metadata": {},
   "outputs": [
    {
     "data": {
      "text/plain": [
       "160"
      ]
     },
     "execution_count": 111,
     "metadata": {},
     "output_type": "execute_result"
    }
   ],
   "source": [
    "dp_redact_dataset.memory_used()"
   ]
  },
  {
   "cell_type": "code",
   "execution_count": 112,
   "id": "992e7aff",
   "metadata": {},
   "outputs": [
    {
     "name": "stdout",
     "output_type": "stream",
     "text": [
      "1265276.4\n"
     ]
    }
   ],
   "source": [
    "dp_sum_redact = round(dp_redact_dataset.result(), 2)\n",
    "print(dp_sum_redact)"
   ]
  },
  {
   "cell_type": "code",
   "execution_count": 113,
   "id": "bf9503a4",
   "metadata": {},
   "outputs": [
    {
     "data": {
      "text/plain": [
       "409.56"
      ]
     },
     "execution_count": 113,
     "metadata": {},
     "output_type": "execute_result"
    }
   ],
   "source": [
    "round(dp_sum_og - dp_sum_redact, 2)"
   ]
  },
  {
   "cell_type": "code",
   "execution_count": 55,
   "id": "45c68422",
   "metadata": {},
   "outputs": [
    {
     "name": "stdout",
     "output_type": "stream",
     "text": [
      "Difference in sum using DP: -736.35\n",
      "Actual Value: 13\n"
     ]
    }
   ],
   "source": [
    "print(\"Difference in sum using DP: {}\".format(round(dp_sum_og - dp_sum_redact, 2)))\n",
    "print(\"Actual Value: {}\".format(tx_amount_3909703))\n",
    "assert round(dp_sum_og - dp_sum_redact, 2) != tx_amount_3909703"
   ]
  },
  {
   "cell_type": "code",
   "execution_count": 56,
   "id": "b2e8dba9",
   "metadata": {},
   "outputs": [
    {
     "name": "stdout",
     "output_type": "stream",
     "text": [
      "Sum of sales_value in the orignal Dataset: 1266138\n",
      "Sum of sales_value in the orignal Dataset using DP: 1265437.28\n"
     ]
    }
   ],
   "source": [
    "print(\"Sum of sales_value in the orignal Dataset: {}\".format(sum_original_dataset))\n",
    "print(\"Sum of sales_value in the orignal Dataset using DP: {}\".format(dp_sum_og))\n",
    "assert dp_sum_og != sum_original_dataset"
   ]
  },
  {
   "cell_type": "code",
   "execution_count": 57,
   "id": "4fd4fcdf",
   "metadata": {},
   "outputs": [
    {
     "name": "stdout",
     "output_type": "stream",
     "text": [
      "Sum of sales_value in the redacted Dataset: 1266125\n",
      "Sum of sales_value in the redacted Dataset using DP: 1266173.63\n"
     ]
    }
   ],
   "source": [
    "print(\"Sum of sales_value in the redacted Dataset: {}\".format(sum_redact_dataset))\n",
    "print(\"Sum of sales_value in the redacted Dataset using DP: {}\".format(dp_sum_redact))\n",
    "assert dp_sum_redact != sum_redact_dataset"
   ]
  },
  {
   "cell_type": "code",
   "execution_count": 58,
   "id": "e801ac53",
   "metadata": {},
   "outputs": [],
   "source": [
    "partial_dp_obj = BoundedSum(epsilon=1, lower_bound=5, upper_bound=250, dtype=\"float\")\n",
    "     "
   ]
  },
  {
   "cell_type": "code",
   "execution_count": 59,
   "id": "c491ecc1",
   "metadata": {},
   "outputs": [],
   "source": [
    "#### Querying on partial data"
   ]
  },
  {
   "cell_type": "code",
   "execution_count": 60,
   "id": "964604d3",
   "metadata": {},
   "outputs": [],
   "source": [
    "partial_dp_obj = BoundedSum(epsilon=1, lower_bound=5, upper_bound=250, dtype=\"float\")"
   ]
  },
  {
   "cell_type": "code",
   "execution_count": 61,
   "id": "a07fc5a1",
   "metadata": {},
   "outputs": [
    {
     "data": {
      "text/html": [
       "<div>\n",
       "<style scoped>\n",
       "    .dataframe tbody tr th:only-of-type {\n",
       "        vertical-align: middle;\n",
       "    }\n",
       "\n",
       "    .dataframe tbody tr th {\n",
       "        vertical-align: top;\n",
       "    }\n",
       "\n",
       "    .dataframe thead th {\n",
       "        text-align: right;\n",
       "    }\n",
       "</style>\n",
       "<table border=\"1\" class=\"dataframe\">\n",
       "  <thead>\n",
       "    <tr style=\"text-align: right;\">\n",
       "      <th></th>\n",
       "      <th>Unnamed: 0</th>\n",
       "      <th>TRANSACTION_ID</th>\n",
       "      <th>TX_DATETIME</th>\n",
       "      <th>CUSTOMER_ID</th>\n",
       "      <th>TERMINAL_ID</th>\n",
       "      <th>TX_AMOUNT</th>\n",
       "      <th>TX_TIME_SECONDS</th>\n",
       "      <th>TX_TIME_DAYS</th>\n",
       "    </tr>\n",
       "  </thead>\n",
       "  <tbody>\n",
       "    <tr>\n",
       "      <th>0</th>\n",
       "      <td>3909703</td>\n",
       "      <td>3909703</td>\n",
       "      <td>2023-07-08 00:16:41</td>\n",
       "      <td>2482</td>\n",
       "      <td>833</td>\n",
       "      <td>13</td>\n",
       "      <td>13565801</td>\n",
       "      <td>157</td>\n",
       "    </tr>\n",
       "    <tr>\n",
       "      <th>1</th>\n",
       "      <td>3909704</td>\n",
       "      <td>3909704</td>\n",
       "      <td>2023-07-08 01:14:55</td>\n",
       "      <td>1622</td>\n",
       "      <td>8781</td>\n",
       "      <td>90</td>\n",
       "      <td>13569295</td>\n",
       "      <td>157</td>\n",
       "    </tr>\n",
       "    <tr>\n",
       "      <th>2</th>\n",
       "      <td>3909705</td>\n",
       "      <td>3909705</td>\n",
       "      <td>2023-07-08 01:27:59</td>\n",
       "      <td>2507</td>\n",
       "      <td>4365</td>\n",
       "      <td>65</td>\n",
       "      <td>13570079</td>\n",
       "      <td>157</td>\n",
       "    </tr>\n",
       "    <tr>\n",
       "      <th>3</th>\n",
       "      <td>3909706</td>\n",
       "      <td>3909706</td>\n",
       "      <td>2023-07-08 01:37:14</td>\n",
       "      <td>2253</td>\n",
       "      <td>8773</td>\n",
       "      <td>97</td>\n",
       "      <td>13570634</td>\n",
       "      <td>157</td>\n",
       "    </tr>\n",
       "    <tr>\n",
       "      <th>4</th>\n",
       "      <td>3909707</td>\n",
       "      <td>3909707</td>\n",
       "      <td>2023-07-08 01:42:52</td>\n",
       "      <td>4866</td>\n",
       "      <td>7578</td>\n",
       "      <td>41</td>\n",
       "      <td>13570972</td>\n",
       "      <td>157</td>\n",
       "    </tr>\n",
       "    <tr>\n",
       "      <th>...</th>\n",
       "      <td>...</td>\n",
       "      <td>...</td>\n",
       "      <td>...</td>\n",
       "      <td>...</td>\n",
       "      <td>...</td>\n",
       "      <td>...</td>\n",
       "      <td>...</td>\n",
       "      <td>...</td>\n",
       "    </tr>\n",
       "    <tr>\n",
       "      <th>24898</th>\n",
       "      <td>3934601</td>\n",
       "      <td>3934601</td>\n",
       "      <td>2023-07-08 22:23:41</td>\n",
       "      <td>1629</td>\n",
       "      <td>7424</td>\n",
       "      <td>84</td>\n",
       "      <td>13645421</td>\n",
       "      <td>157</td>\n",
       "    </tr>\n",
       "    <tr>\n",
       "      <th>24899</th>\n",
       "      <td>3934602</td>\n",
       "      <td>3934602</td>\n",
       "      <td>2023-07-08 22:28:29</td>\n",
       "      <td>3911</td>\n",
       "      <td>3970</td>\n",
       "      <td>33</td>\n",
       "      <td>13645709</td>\n",
       "      <td>157</td>\n",
       "    </tr>\n",
       "    <tr>\n",
       "      <th>24900</th>\n",
       "      <td>3934603</td>\n",
       "      <td>3934603</td>\n",
       "      <td>2023-07-08 22:36:58</td>\n",
       "      <td>4823</td>\n",
       "      <td>7011</td>\n",
       "      <td>94</td>\n",
       "      <td>13646218</td>\n",
       "      <td>157</td>\n",
       "    </tr>\n",
       "    <tr>\n",
       "      <th>24901</th>\n",
       "      <td>3934604</td>\n",
       "      <td>3934604</td>\n",
       "      <td>2023-07-08 22:40:40</td>\n",
       "      <td>1004</td>\n",
       "      <td>2173</td>\n",
       "      <td>32</td>\n",
       "      <td>13646440</td>\n",
       "      <td>157</td>\n",
       "    </tr>\n",
       "    <tr>\n",
       "      <th>24902</th>\n",
       "      <td>3934605</td>\n",
       "      <td>3934605</td>\n",
       "      <td>2023-07-08 23:18:08</td>\n",
       "      <td>2524</td>\n",
       "      <td>9711</td>\n",
       "      <td>41</td>\n",
       "      <td>13648688</td>\n",
       "      <td>157</td>\n",
       "    </tr>\n",
       "  </tbody>\n",
       "</table>\n",
       "<p>24903 rows × 8 columns</p>\n",
       "</div>"
      ],
      "text/plain": [
       "       Unnamed: 0  TRANSACTION_ID          TX_DATETIME  CUSTOMER_ID  \\\n",
       "0         3909703         3909703  2023-07-08 00:16:41         2482   \n",
       "1         3909704         3909704  2023-07-08 01:14:55         1622   \n",
       "2         3909705         3909705  2023-07-08 01:27:59         2507   \n",
       "3         3909706         3909706  2023-07-08 01:37:14         2253   \n",
       "4         3909707         3909707  2023-07-08 01:42:52         4866   \n",
       "...           ...             ...                  ...          ...   \n",
       "24898     3934601         3934601  2023-07-08 22:23:41         1629   \n",
       "24899     3934602         3934602  2023-07-08 22:28:29         3911   \n",
       "24900     3934603         3934603  2023-07-08 22:36:58         4823   \n",
       "24901     3934604         3934604  2023-07-08 22:40:40         1004   \n",
       "24902     3934605         3934605  2023-07-08 23:18:08         2524   \n",
       "\n",
       "       TERMINAL_ID  TX_AMOUNT  TX_TIME_SECONDS  TX_TIME_DAYS  \n",
       "0              833         13         13565801           157  \n",
       "1             8781         90         13569295           157  \n",
       "2             4365         65         13570079           157  \n",
       "3             8773         97         13570634           157  \n",
       "4             7578         41         13570972           157  \n",
       "...            ...        ...              ...           ...  \n",
       "24898         7424         84         13645421           157  \n",
       "24899         3970         33         13645709           157  \n",
       "24900         7011         94         13646218           157  \n",
       "24901         2173         32         13646440           157  \n",
       "24902         9711         41         13648688           157  \n",
       "\n",
       "[24903 rows x 8 columns]"
      ]
     },
     "execution_count": 61,
     "metadata": {},
     "output_type": "execute_result"
    }
   ],
   "source": [
    "df"
   ]
  },
  {
   "cell_type": "code",
   "execution_count": 62,
   "id": "49d00287",
   "metadata": {},
   "outputs": [
    {
     "name": "stdout",
     "output_type": "stream",
     "text": [
      "(12451, 8) (12451, 8)\n"
     ]
    }
   ],
   "source": [
    "new_df_1 = df[0:12451]\n",
    "new_df_2 = df[12452:]\n",
    "print(new_df_1.shape, new_df_2.shape)"
   ]
  },
  {
   "cell_type": "code",
   "execution_count": 63,
   "id": "c5cf0d68",
   "metadata": {},
   "outputs": [
    {
     "data": {
      "text/html": [
       "<div>\n",
       "<style scoped>\n",
       "    .dataframe tbody tr th:only-of-type {\n",
       "        vertical-align: middle;\n",
       "    }\n",
       "\n",
       "    .dataframe tbody tr th {\n",
       "        vertical-align: top;\n",
       "    }\n",
       "\n",
       "    .dataframe thead th {\n",
       "        text-align: right;\n",
       "    }\n",
       "</style>\n",
       "<table border=\"1\" class=\"dataframe\">\n",
       "  <thead>\n",
       "    <tr style=\"text-align: right;\">\n",
       "      <th></th>\n",
       "      <th>Unnamed: 0</th>\n",
       "      <th>TRANSACTION_ID</th>\n",
       "      <th>TX_DATETIME</th>\n",
       "      <th>CUSTOMER_ID</th>\n",
       "      <th>TERMINAL_ID</th>\n",
       "      <th>TX_AMOUNT</th>\n",
       "      <th>TX_TIME_SECONDS</th>\n",
       "      <th>TX_TIME_DAYS</th>\n",
       "    </tr>\n",
       "  </thead>\n",
       "  <tbody>\n",
       "    <tr>\n",
       "      <th>0</th>\n",
       "      <td>3909703</td>\n",
       "      <td>3909703</td>\n",
       "      <td>2023-07-08 00:16:41</td>\n",
       "      <td>2482</td>\n",
       "      <td>833</td>\n",
       "      <td>13</td>\n",
       "      <td>13565801</td>\n",
       "      <td>157</td>\n",
       "    </tr>\n",
       "    <tr>\n",
       "      <th>1</th>\n",
       "      <td>3909704</td>\n",
       "      <td>3909704</td>\n",
       "      <td>2023-07-08 01:14:55</td>\n",
       "      <td>1622</td>\n",
       "      <td>8781</td>\n",
       "      <td>90</td>\n",
       "      <td>13569295</td>\n",
       "      <td>157</td>\n",
       "    </tr>\n",
       "    <tr>\n",
       "      <th>2</th>\n",
       "      <td>3909705</td>\n",
       "      <td>3909705</td>\n",
       "      <td>2023-07-08 01:27:59</td>\n",
       "      <td>2507</td>\n",
       "      <td>4365</td>\n",
       "      <td>65</td>\n",
       "      <td>13570079</td>\n",
       "      <td>157</td>\n",
       "    </tr>\n",
       "    <tr>\n",
       "      <th>3</th>\n",
       "      <td>3909706</td>\n",
       "      <td>3909706</td>\n",
       "      <td>2023-07-08 01:37:14</td>\n",
       "      <td>2253</td>\n",
       "      <td>8773</td>\n",
       "      <td>97</td>\n",
       "      <td>13570634</td>\n",
       "      <td>157</td>\n",
       "    </tr>\n",
       "    <tr>\n",
       "      <th>4</th>\n",
       "      <td>3909707</td>\n",
       "      <td>3909707</td>\n",
       "      <td>2023-07-08 01:42:52</td>\n",
       "      <td>4866</td>\n",
       "      <td>7578</td>\n",
       "      <td>41</td>\n",
       "      <td>13570972</td>\n",
       "      <td>157</td>\n",
       "    </tr>\n",
       "  </tbody>\n",
       "</table>\n",
       "</div>"
      ],
      "text/plain": [
       "   Unnamed: 0  TRANSACTION_ID          TX_DATETIME  CUSTOMER_ID  TERMINAL_ID  \\\n",
       "0     3909703         3909703  2023-07-08 00:16:41         2482          833   \n",
       "1     3909704         3909704  2023-07-08 01:14:55         1622         8781   \n",
       "2     3909705         3909705  2023-07-08 01:27:59         2507         4365   \n",
       "3     3909706         3909706  2023-07-08 01:37:14         2253         8773   \n",
       "4     3909707         3909707  2023-07-08 01:42:52         4866         7578   \n",
       "\n",
       "   TX_AMOUNT  TX_TIME_SECONDS  TX_TIME_DAYS  \n",
       "0         13         13565801           157  \n",
       "1         90         13569295           157  \n",
       "2         65         13570079           157  \n",
       "3         97         13570634           157  \n",
       "4         41         13570972           157  "
      ]
     },
     "execution_count": 63,
     "metadata": {},
     "output_type": "execute_result"
    }
   ],
   "source": [
    "new_df_1.head()"
   ]
  },
  {
   "cell_type": "code",
   "execution_count": 64,
   "id": "0094e706",
   "metadata": {},
   "outputs": [
    {
     "data": {
      "text/html": [
       "<div>\n",
       "<style scoped>\n",
       "    .dataframe tbody tr th:only-of-type {\n",
       "        vertical-align: middle;\n",
       "    }\n",
       "\n",
       "    .dataframe tbody tr th {\n",
       "        vertical-align: top;\n",
       "    }\n",
       "\n",
       "    .dataframe thead th {\n",
       "        text-align: right;\n",
       "    }\n",
       "</style>\n",
       "<table border=\"1\" class=\"dataframe\">\n",
       "  <thead>\n",
       "    <tr style=\"text-align: right;\">\n",
       "      <th></th>\n",
       "      <th>Unnamed: 0</th>\n",
       "      <th>TRANSACTION_ID</th>\n",
       "      <th>TX_DATETIME</th>\n",
       "      <th>CUSTOMER_ID</th>\n",
       "      <th>TERMINAL_ID</th>\n",
       "      <th>TX_AMOUNT</th>\n",
       "      <th>TX_TIME_SECONDS</th>\n",
       "      <th>TX_TIME_DAYS</th>\n",
       "    </tr>\n",
       "  </thead>\n",
       "  <tbody>\n",
       "    <tr>\n",
       "      <th>12452</th>\n",
       "      <td>3922155</td>\n",
       "      <td>3922155</td>\n",
       "      <td>2023-07-08 12:00:50</td>\n",
       "      <td>1942</td>\n",
       "      <td>9916</td>\n",
       "      <td>56</td>\n",
       "      <td>13608050</td>\n",
       "      <td>157</td>\n",
       "    </tr>\n",
       "    <tr>\n",
       "      <th>12453</th>\n",
       "      <td>3922156</td>\n",
       "      <td>3922156</td>\n",
       "      <td>2023-07-08 12:00:50</td>\n",
       "      <td>4334</td>\n",
       "      <td>8027</td>\n",
       "      <td>9</td>\n",
       "      <td>13608050</td>\n",
       "      <td>157</td>\n",
       "    </tr>\n",
       "    <tr>\n",
       "      <th>12454</th>\n",
       "      <td>3922157</td>\n",
       "      <td>3922157</td>\n",
       "      <td>2023-07-08 12:00:53</td>\n",
       "      <td>2923</td>\n",
       "      <td>7734</td>\n",
       "      <td>12</td>\n",
       "      <td>13608053</td>\n",
       "      <td>157</td>\n",
       "    </tr>\n",
       "    <tr>\n",
       "      <th>12455</th>\n",
       "      <td>3922158</td>\n",
       "      <td>3922158</td>\n",
       "      <td>2023-07-08 12:00:55</td>\n",
       "      <td>2674</td>\n",
       "      <td>4593</td>\n",
       "      <td>65</td>\n",
       "      <td>13608055</td>\n",
       "      <td>157</td>\n",
       "    </tr>\n",
       "    <tr>\n",
       "      <th>12456</th>\n",
       "      <td>3922159</td>\n",
       "      <td>3922159</td>\n",
       "      <td>2023-07-08 12:00:56</td>\n",
       "      <td>1002</td>\n",
       "      <td>4058</td>\n",
       "      <td>7</td>\n",
       "      <td>13608056</td>\n",
       "      <td>157</td>\n",
       "    </tr>\n",
       "  </tbody>\n",
       "</table>\n",
       "</div>"
      ],
      "text/plain": [
       "       Unnamed: 0  TRANSACTION_ID          TX_DATETIME  CUSTOMER_ID  \\\n",
       "12452     3922155         3922155  2023-07-08 12:00:50         1942   \n",
       "12453     3922156         3922156  2023-07-08 12:00:50         4334   \n",
       "12454     3922157         3922157  2023-07-08 12:00:53         2923   \n",
       "12455     3922158         3922158  2023-07-08 12:00:55         2674   \n",
       "12456     3922159         3922159  2023-07-08 12:00:56         1002   \n",
       "\n",
       "       TERMINAL_ID  TX_AMOUNT  TX_TIME_SECONDS  TX_TIME_DAYS  \n",
       "12452         9916         56         13608050           157  \n",
       "12453         8027          9         13608050           157  \n",
       "12454         7734         12         13608053           157  \n",
       "12455         4593         65         13608055           157  \n",
       "12456         4058          7         13608056           157  "
      ]
     },
     "execution_count": 64,
     "metadata": {},
     "output_type": "execute_result"
    }
   ],
   "source": [
    "new_df_2.head()"
   ]
  },
  {
   "cell_type": "code",
   "execution_count": 65,
   "id": "0c66b393",
   "metadata": {},
   "outputs": [],
   "source": [
    "partial_dp_obj.add_entries(\n",
    "    new_df_1[\"TX_AMOUNT\"].to_list()\n",
    ")  "
   ]
  },
  {
   "cell_type": "code",
   "execution_count": 66,
   "id": "0d32e2ae",
   "metadata": {},
   "outputs": [
    {
     "data": {
      "text/plain": [
       "1.0"
      ]
     },
     "execution_count": 66,
     "metadata": {},
     "output_type": "execute_result"
    }
   ],
   "source": [
    "partial_dp_obj.privacy_budget_left()"
   ]
  },
  {
   "cell_type": "code",
   "execution_count": 67,
   "id": "470b63f9",
   "metadata": {},
   "outputs": [
    {
     "name": "stdout",
     "output_type": "stream",
     "text": [
      "637338.39\n"
     ]
    }
   ],
   "source": [
    "partial_sum_dp = round(\n",
    "    partial_dp_obj.result(privacy_budget=0.3), 2\n",
    ")  # using only 30% of available privacy budget\n",
    "print(partial_sum_dp)"
   ]
  },
  {
   "cell_type": "code",
   "execution_count": 68,
   "id": "2bd3a58a",
   "metadata": {},
   "outputs": [
    {
     "name": "stdout",
     "output_type": "stream",
     "text": [
      "637049\n"
     ]
    }
   ],
   "source": [
    "actual_partial_sum = round(sum(new_df_1[\"TX_AMOUNT\"].to_list()), 2)\n",
    "print(actual_partial_sum)"
   ]
  },
  {
   "cell_type": "code",
   "execution_count": 69,
   "id": "a00e3073",
   "metadata": {},
   "outputs": [
    {
     "name": "stdout",
     "output_type": "stream",
     "text": [
      "Difference in sum for first 3000 records which used only 30% privacy budget= 289.39\n"
     ]
    }
   ],
   "source": [
    "print(\n",
    "    \"Difference in sum for first 3000 records which used only 30% privacy budget= {}\".format(\n",
    "        round(abs(actual_partial_sum - partial_sum_dp), 2)\n",
    "    )\n",
    ")"
   ]
  },
  {
   "cell_type": "code",
   "execution_count": 70,
   "id": "93061096",
   "metadata": {},
   "outputs": [
    {
     "data": {
      "text/plain": [
       "0.7"
      ]
     },
     "execution_count": 70,
     "metadata": {},
     "output_type": "execute_result"
    }
   ],
   "source": [
    "partial_dp_obj.privacy_budget_left()"
   ]
  },
  {
   "cell_type": "code",
   "execution_count": 71,
   "id": "4648418e",
   "metadata": {},
   "outputs": [
    {
     "name": "stdout",
     "output_type": "stream",
     "text": [
      "1266407.83\n"
     ]
    }
   ],
   "source": [
    "partial_dp_obj.add_entries(\n",
    "    new_df_2[\"TX_AMOUNT\"].to_list()\n",
    ")  # adding the remaining 2000 records to the list\n",
    "partial_total_sum = round(partial_dp_obj.result(), 2)\n",
    "print(partial_total_sum)"
   ]
  },
  {
   "cell_type": "code",
   "execution_count": 72,
   "id": "1361d655",
   "metadata": {},
   "outputs": [
    {
     "data": {
      "text/plain": [
       "0.0"
      ]
     },
     "execution_count": 72,
     "metadata": {},
     "output_type": "execute_result"
    }
   ],
   "source": [
    "partial_dp_obj.privacy_budget_left()  # we have used up all the budget available to us\n",
    "     "
   ]
  },
  {
   "cell_type": "code",
   "execution_count": 73,
   "id": "4231de52",
   "metadata": {},
   "outputs": [],
   "source": [
    "def sum_og_dataset(budget):\n",
    "    \"\"\"\n",
    "    Sample Function to calculate BoundedSum on the whole dataset with budget as specified\n",
    "    \"\"\"\n",
    "    dp_sum_original_dataset.reset()\n",
    "    dp_sum_original_dataset.add_entries(df[\"TX_AMOUNT\"].to_list())\n",
    "    return round(dp_sum_original_dataset.result(budget), 2)"
   ]
  },
  {
   "cell_type": "code",
   "execution_count": 74,
   "id": "2df00002",
   "metadata": {},
   "outputs": [
    {
     "name": "stdout",
     "output_type": "stream",
     "text": [
      "Actual Sum: 1266138\n",
      "Sum from the previous run with privacy budget 1.0: 1265437.28\n",
      "Sum when using privacy_budget as 0.7 on the whole dataset together: 1266013.37\n",
      "Sum from this run with privacy budget 0.7 on split dataset: 1266407.83\n"
     ]
    }
   ],
   "source": [
    "print(\"Actual Sum: {}\".format(sum_original_dataset))\n",
    "print(\"Sum from the previous run with privacy budget 1.0: {}\".format(dp_sum_og))\n",
    "print(\n",
    "    \"Sum when using privacy_budget as 0.7 on the whole dataset together: {}\".format(\n",
    "        sum_og_dataset(budget=0.7)\n",
    "    )\n",
    ")\n",
    "print(\n",
    "    \"Sum from this run with privacy budget 0.7 on split dataset: {}\".format(\n",
    "        partial_total_sum\n",
    "    )\n",
    ")\n",
    "     "
   ]
  },
  {
   "cell_type": "code",
   "execution_count": null,
   "id": "3e3d3c0d",
   "metadata": {},
   "outputs": [],
   "source": []
  },
  {
   "cell_type": "code",
   "execution_count": null,
   "id": "9c8bf52a",
   "metadata": {},
   "outputs": [],
   "source": []
  }
 ],
 "metadata": {
  "kernelspec": {
   "display_name": "Python 3 (ipykernel)",
   "language": "python",
   "name": "python3"
  },
  "language_info": {
   "codemirror_mode": {
    "name": "ipython",
    "version": 3
   },
   "file_extension": ".py",
   "mimetype": "text/x-python",
   "name": "python",
   "nbconvert_exporter": "python",
   "pygments_lexer": "ipython3",
   "version": "3.8.10"
  }
 },
 "nbformat": 4,
 "nbformat_minor": 5
}
