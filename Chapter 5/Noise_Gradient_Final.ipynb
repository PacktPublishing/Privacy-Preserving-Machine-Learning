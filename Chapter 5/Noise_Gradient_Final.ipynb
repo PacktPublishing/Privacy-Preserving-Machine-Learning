{
 "cells": [
  {
   "cell_type": "code",
   "execution_count": 1,
   "id": "70326750",
   "metadata": {},
   "outputs": [],
   "source": [
    "# Classifier Libraries\n",
    "from sklearn.linear_model import LogisticRegression\n",
    "from sklearn.model_selection import train_test_split\n",
    "\n"
   ]
  },
  {
   "cell_type": "code",
   "execution_count": 2,
   "id": "5aaa0fdf",
   "metadata": {},
   "outputs": [
    {
     "data": {
      "text/html": [
       "<div>\n",
       "<style scoped>\n",
       "    .dataframe tbody tr th:only-of-type {\n",
       "        vertical-align: middle;\n",
       "    }\n",
       "\n",
       "    .dataframe tbody tr th {\n",
       "        vertical-align: top;\n",
       "    }\n",
       "\n",
       "    .dataframe thead th {\n",
       "        text-align: right;\n",
       "    }\n",
       "</style>\n",
       "<table border=\"1\" class=\"dataframe\">\n",
       "  <thead>\n",
       "    <tr style=\"text-align: right;\">\n",
       "      <th></th>\n",
       "      <th>Unnamed: 0</th>\n",
       "      <th>TRANSACTION_ID</th>\n",
       "      <th>TX_DATETIME</th>\n",
       "      <th>CUSTOMER_ID</th>\n",
       "      <th>TERMINAL_ID</th>\n",
       "      <th>TX_AMOUNT</th>\n",
       "      <th>TX_FRAUD</th>\n",
       "    </tr>\n",
       "  </thead>\n",
       "  <tbody>\n",
       "    <tr>\n",
       "      <th>0</th>\n",
       "      <td>0</td>\n",
       "      <td>0</td>\n",
       "      <td>2023-02-01 00:43:37</td>\n",
       "      <td>901</td>\n",
       "      <td>8047</td>\n",
       "      <td>82</td>\n",
       "      <td>1</td>\n",
       "    </tr>\n",
       "    <tr>\n",
       "      <th>1</th>\n",
       "      <td>1</td>\n",
       "      <td>1</td>\n",
       "      <td>2023-02-01 01:20:13</td>\n",
       "      <td>2611</td>\n",
       "      <td>7777</td>\n",
       "      <td>15</td>\n",
       "      <td>0</td>\n",
       "    </tr>\n",
       "    <tr>\n",
       "      <th>2</th>\n",
       "      <td>2</td>\n",
       "      <td>2</td>\n",
       "      <td>2023-02-01 01:22:52</td>\n",
       "      <td>4212</td>\n",
       "      <td>3336</td>\n",
       "      <td>53</td>\n",
       "      <td>0</td>\n",
       "    </tr>\n",
       "    <tr>\n",
       "      <th>3</th>\n",
       "      <td>3</td>\n",
       "      <td>3</td>\n",
       "      <td>2023-02-01 01:26:40</td>\n",
       "      <td>1293</td>\n",
       "      <td>7432</td>\n",
       "      <td>59</td>\n",
       "      <td>0</td>\n",
       "    </tr>\n",
       "    <tr>\n",
       "      <th>4</th>\n",
       "      <td>4</td>\n",
       "      <td>4</td>\n",
       "      <td>2023-02-01 01:52:23</td>\n",
       "      <td>2499</td>\n",
       "      <td>1024</td>\n",
       "      <td>25</td>\n",
       "      <td>0</td>\n",
       "    </tr>\n",
       "  </tbody>\n",
       "</table>\n",
       "</div>"
      ],
      "text/plain": [
       "   Unnamed: 0  TRANSACTION_ID          TX_DATETIME  CUSTOMER_ID  TERMINAL_ID  \\\n",
       "0           0               0  2023-02-01 00:43:37          901         8047   \n",
       "1           1               1  2023-02-01 01:20:13         2611         7777   \n",
       "2           2               2  2023-02-01 01:22:52         4212         3336   \n",
       "3           3               3  2023-02-01 01:26:40         1293         7432   \n",
       "4           4               4  2023-02-01 01:52:23         2499         1024   \n",
       "\n",
       "   TX_AMOUNT  TX_FRAUD  \n",
       "0         82         1  \n",
       "1         15         0  \n",
       "2         53         0  \n",
       "3         59         0  \n",
       "4         25         0  "
      ]
     },
     "execution_count": 2,
     "metadata": {},
     "output_type": "execute_result"
    }
   ],
   "source": [
    "import pandas as pd\n",
    "\n",
    "url =\"fraud_transactions.csv\"\n",
    "\n",
    "df_actual = pd.read_csv(url, sep=\",\")\n",
    "df_actual.head()"
   ]
  },
  {
   "cell_type": "code",
   "execution_count": 3,
   "id": "1c55ba98",
   "metadata": {},
   "outputs": [
    {
     "data": {
      "text/html": [
       "<div>\n",
       "<style scoped>\n",
       "    .dataframe tbody tr th:only-of-type {\n",
       "        vertical-align: middle;\n",
       "    }\n",
       "\n",
       "    .dataframe tbody tr th {\n",
       "        vertical-align: top;\n",
       "    }\n",
       "\n",
       "    .dataframe thead th {\n",
       "        text-align: right;\n",
       "    }\n",
       "</style>\n",
       "<table border=\"1\" class=\"dataframe\">\n",
       "  <thead>\n",
       "    <tr style=\"text-align: right;\">\n",
       "      <th></th>\n",
       "      <th>CUSTOMER_ID</th>\n",
       "      <th>TERMINAL_ID</th>\n",
       "      <th>TX_AMOUNT</th>\n",
       "      <th>TX_FRAUD</th>\n",
       "    </tr>\n",
       "  </thead>\n",
       "  <tbody>\n",
       "    <tr>\n",
       "      <th>0</th>\n",
       "      <td>901</td>\n",
       "      <td>8047</td>\n",
       "      <td>82</td>\n",
       "      <td>1</td>\n",
       "    </tr>\n",
       "    <tr>\n",
       "      <th>1</th>\n",
       "      <td>2611</td>\n",
       "      <td>7777</td>\n",
       "      <td>15</td>\n",
       "      <td>0</td>\n",
       "    </tr>\n",
       "    <tr>\n",
       "      <th>2</th>\n",
       "      <td>4212</td>\n",
       "      <td>3336</td>\n",
       "      <td>53</td>\n",
       "      <td>0</td>\n",
       "    </tr>\n",
       "    <tr>\n",
       "      <th>3</th>\n",
       "      <td>1293</td>\n",
       "      <td>7432</td>\n",
       "      <td>59</td>\n",
       "      <td>0</td>\n",
       "    </tr>\n",
       "    <tr>\n",
       "      <th>4</th>\n",
       "      <td>2499</td>\n",
       "      <td>1024</td>\n",
       "      <td>25</td>\n",
       "      <td>0</td>\n",
       "    </tr>\n",
       "    <tr>\n",
       "      <th>...</th>\n",
       "      <td>...</td>\n",
       "      <td>...</td>\n",
       "      <td>...</td>\n",
       "      <td>...</td>\n",
       "    </tr>\n",
       "    <tr>\n",
       "      <th>4557161</th>\n",
       "      <td>1465</td>\n",
       "      <td>7455</td>\n",
       "      <td>92</td>\n",
       "      <td>1</td>\n",
       "    </tr>\n",
       "    <tr>\n",
       "      <th>4557162</th>\n",
       "      <td>4009</td>\n",
       "      <td>3429</td>\n",
       "      <td>36</td>\n",
       "      <td>0</td>\n",
       "    </tr>\n",
       "    <tr>\n",
       "      <th>4557163</th>\n",
       "      <td>1336</td>\n",
       "      <td>3116</td>\n",
       "      <td>50</td>\n",
       "      <td>0</td>\n",
       "    </tr>\n",
       "    <tr>\n",
       "      <th>4557164</th>\n",
       "      <td>1611</td>\n",
       "      <td>3314</td>\n",
       "      <td>81</td>\n",
       "      <td>1</td>\n",
       "    </tr>\n",
       "    <tr>\n",
       "      <th>4557165</th>\n",
       "      <td>4367</td>\n",
       "      <td>2968</td>\n",
       "      <td>21</td>\n",
       "      <td>0</td>\n",
       "    </tr>\n",
       "  </tbody>\n",
       "</table>\n",
       "<p>4557166 rows × 4 columns</p>\n",
       "</div>"
      ],
      "text/plain": [
       "         CUSTOMER_ID  TERMINAL_ID  TX_AMOUNT  TX_FRAUD\n",
       "0                901         8047         82         1\n",
       "1               2611         7777         15         0\n",
       "2               4212         3336         53         0\n",
       "3               1293         7432         59         0\n",
       "4               2499         1024         25         0\n",
       "...              ...          ...        ...       ...\n",
       "4557161         1465         7455         92         1\n",
       "4557162         4009         3429         36         0\n",
       "4557163         1336         3116         50         0\n",
       "4557164         1611         3314         81         1\n",
       "4557165         4367         2968         21         0\n",
       "\n",
       "[4557166 rows x 4 columns]"
      ]
     },
     "execution_count": 3,
     "metadata": {},
     "output_type": "execute_result"
    }
   ],
   "source": [
    "df_transactions = df_actual[['CUSTOMER_ID','TERMINAL_ID','TX_AMOUNT','TX_FRAUD']]\n",
    "#df_transactions=df_transactions.head(10)\n",
    "df_transactions"
   ]
  },
  {
   "cell_type": "code",
   "execution_count": 4,
   "id": "098fe5f6",
   "metadata": {},
   "outputs": [
    {
     "name": "stdout",
     "output_type": "stream",
     "text": [
      "No Frauds 75.71 % of the dataset\n",
      "Frauds 24.29 % of the dataset\n"
     ]
    }
   ],
   "source": [
    "from sklearn.model_selection import train_test_split\n",
    "from sklearn.model_selection import StratifiedShuffleSplit\n",
    "\n",
    "print('No Frauds', round(df_transactions['TX_FRAUD'].value_counts()[0]/len(df_transactions) * 100,2), '% of the dataset')\n",
    "print('Frauds', round(df_transactions['TX_FRAUD'].value_counts()[1]/len(df_transactions) * 100,2), '% of the dataset')\n",
    "\n",
    "X = df_transactions.drop('TX_FRAUD', axis=1)\n",
    "y = df_transactions['TX_FRAUD']\n",
    "\n"
   ]
  },
  {
   "cell_type": "code",
   "execution_count": 5,
   "id": "5f7e2630",
   "metadata": {},
   "outputs": [],
   "source": [
    "X_train, X_test, y_train, y_test = train_test_split(X, y, test_size=0.3, random_state=42)\n",
    "\n",
    "# Turn the values into an array for feeding the classification algorithms.\n",
    "X_train = X_train.values\n",
    "X_test = X_test.values\n",
    "y_train = y_train.values\n",
    "y_test = y_test.values"
   ]
  },
  {
   "cell_type": "code",
   "execution_count": 6,
   "id": "9192d93e",
   "metadata": {},
   "outputs": [],
   "source": [
    "from sklearn.model_selection import cross_val_score\n",
    "\n",
    "logreg = LogisticRegression(random_state=0)"
   ]
  },
  {
   "cell_type": "code",
   "execution_count": 7,
   "id": "f7bae4ae",
   "metadata": {},
   "outputs": [
    {
     "name": "stdout",
     "output_type": "stream",
     "text": [
      "Logistic Regression Cross Validation Score:  100.0%\n"
     ]
    }
   ],
   "source": [
    "logreg.fit(X_train, y_train)\n",
    "training_score = cross_val_score(logreg, X_train, y_train, cv=2)\n",
    "print('Logistic Regression Cross Validation Score: ', round(training_score.mean() * 100, 2).astype(str) + '%')\n"
   ]
  },
  {
   "cell_type": "code",
   "execution_count": 8,
   "id": "33df0a5a",
   "metadata": {},
   "outputs": [
    {
     "data": {
      "text/plain": [
       "1.0"
      ]
     },
     "execution_count": 8,
     "metadata": {},
     "output_type": "execute_result"
    }
   ],
   "source": [
    "import numpy as np\n",
    "np.sum(logreg.predict(X_test) == y_test)/X_test.shape[0]"
   ]
  },
  {
   "cell_type": "code",
   "execution_count": 9,
   "id": "5765b2b6",
   "metadata": {},
   "outputs": [
    {
     "data": {
      "text/plain": [
       "(-1168.308115256604,\n",
       " array([-2.47724513e-05,  3.17749573e-06,  1.54748556e+01]))"
      ]
     },
     "execution_count": 9,
     "metadata": {},
     "output_type": "execute_result"
    }
   ],
   "source": [
    "logreg.intercept_[0], logreg.coef_[0]"
   ]
  },
  {
   "cell_type": "code",
   "execution_count": 10,
   "id": "352ca9c5",
   "metadata": {},
   "outputs": [],
   "source": [
    "\n",
    "\n",
    "data=[79,3115,78]\n",
    "weights = [-2.47724513e-05,  3.17749573e-06,  1.54748556e+01]\n",
    "intercept = -1168.308115256604 \n",
    "\n"
   ]
  },
  {
   "cell_type": "code",
   "execution_count": 11,
   "id": "27eb619b",
   "metadata": {},
   "outputs": [
    {
     "name": "stdout",
     "output_type": "stream",
     "text": [
      "[-2.47724513e-05, 3.17749573e-06, 15.4748556]\n"
     ]
    },
    {
     "data": {
      "text/plain": [
       "1.0"
      ]
     },
     "execution_count": 11,
     "metadata": {},
     "output_type": "execute_result"
    }
   ],
   "source": [
    "def predict(data,coefficients,intercept):\n",
    "    print(coefficients)\n",
    "    yhat = intercept\n",
    "    for i in range(len(data)):\n",
    "        yhat += coefficients[i] * data[i]\n",
    "    return 1.0 / (1.0 + np.exp(-yhat))\n",
    "\n",
    "yhat = predict(data,weights,intercept)\n",
    "yhat"
   ]
  },
  {
   "cell_type": "code",
   "execution_count": 12,
   "id": "f190cb72",
   "metadata": {},
   "outputs": [
    {
     "data": {
      "text/plain": [
       "array([[4548, 8796,   17],\n",
       "       [1141,   95,   52],\n",
       "       [4740, 6652,   51],\n",
       "       [3583, 5609,   70],\n",
       "       [2329, 8399,    4],\n",
       "       [3011, 2707,   70],\n",
       "       [ 365, 7609,   43],\n",
       "       [2749, 6011,   19],\n",
       "       [3871, 1806,   83],\n",
       "       [3521,  721,   95]])"
      ]
     },
     "execution_count": 12,
     "metadata": {},
     "output_type": "execute_result"
    }
   ],
   "source": [
    "X_train[:10]"
   ]
  },
  {
   "cell_type": "code",
   "execution_count": 13,
   "id": "4bb43a3e",
   "metadata": {},
   "outputs": [
    {
     "data": {
      "text/plain": [
       "array([0, 0, 0, 0, 0, 0, 0, 0, 1, 1])"
      ]
     },
     "execution_count": 13,
     "metadata": {},
     "output_type": "execute_result"
    }
   ],
   "source": [
    "y_train[:10]"
   ]
  },
  {
   "cell_type": "code",
   "execution_count": 45,
   "id": "72434243",
   "metadata": {},
   "outputs": [],
   "source": [
    "def predict(data,coefficients,intercept):\n",
    "    yhat = intercept\n",
    "    for i in range(len(data)):\n",
    "        yhat += coefficients[i] * data[i]\n",
    "    return 1.0 / (1.0 + np.exp(-yhat))"
   ]
  },
  {
   "cell_type": "code",
   "execution_count": 46,
   "id": "4612e05f",
   "metadata": {},
   "outputs": [],
   "source": [
    "def final_gradients(gradients):\n",
    "    length_grads=len(grads)\n",
    "    avg_grads=[0,0,0]\n",
    "    for i in range(0,length_grads):\n",
    "        avg_grads[0]+=grads[i][0]\n",
    "        avg_grads[1]+=grads[i][1]\n",
    "        avg_grads[2]+=grads[i][2]\n",
    "    avg_grads=[i/length_grads for i in avg_grads]\n",
    "    \n",
    "    return avg_grads\n",
    "     "
   ]
  },
  {
   "cell_type": "code",
   "execution_count": 47,
   "id": "13fb51b3",
   "metadata": {},
   "outputs": [],
   "source": [
    "def sgd(train,y_train,l_rate, n_epoch):\n",
    "    coef = [0,0,0]\n",
    "    final_grads = [0,0,0]\n",
    "    intercept = 0\n",
    "    for epoch in range(n_epoch):\n",
    "        predictions=[]\n",
    "        gradients=[]\n",
    "        sum_error = 0.0\n",
    "        for i in range(len(train)):\n",
    "            yhat = predict(train[i], coef,intercept)  \n",
    "            predictions.append(yhat)\n",
    "            error = y_train[i] - yhat\n",
    "            sum_error += error**2\n",
    "            intercept= intercept + l_rate * error * yhat * (1.0 - yhat)  ## intercept\n",
    "            temp=train[i]\n",
    "            for j in range(3):\n",
    "                coef[j] = coef[j] + l_rate * error * yhat * (1.0 - yhat) * temp[j]  \n",
    "            gradients.append(coef)\n",
    "        final_grads = final_gradients(gradients)\n",
    "        print('>epoch=%d, lrate=%.3f, error=%.3f, intercept=%.3f '% (epoch, l_rate, sum_error,intercept))\n",
    "    return final_grads"
   ]
  },
  {
   "cell_type": "code",
   "execution_count": 48,
   "id": "694aebdd",
   "metadata": {},
   "outputs": [
    {
     "name": "stdout",
     "output_type": "stream",
     "text": [
      ">epoch=0, lrate=0.240, error=2.250, intercept=-0.030 \n",
      ">epoch=1, lrate=0.240, error=2.000, intercept=-0.030 \n",
      ">epoch=2, lrate=0.240, error=2.000, intercept=-0.030 \n",
      ">epoch=3, lrate=0.240, error=2.000, intercept=-0.030 \n",
      "[-136.44000000000003, -263.88000000000005, -0.5099999999999999]\n"
     ]
    },
    {
     "name": "stderr",
     "output_type": "stream",
     "text": [
      "/var/folders/61/3x6_zr2n5nd67km655rj4nd4r4gmsb/T/ipykernel_5464/613806144.py:5: RuntimeWarning: overflow encountered in exp\n",
      "  return 1.0 / (1.0 + np.exp(-yhat))\n"
     ]
    }
   ],
   "source": [
    "l_rate = 0.24\n",
    "n_epoch = 4\n",
    "coef = sgd(X_train[:10],y_train[:10],l_rate, n_epoch)\n",
    "print(coef)"
   ]
  },
  {
   "cell_type": "code",
   "execution_count": 93,
   "id": "53730a0a",
   "metadata": {},
   "outputs": [
    {
     "name": "stdout",
     "output_type": "stream",
     "text": [
      "[[2.29645183 4.44142267 0.00858392]]\n"
     ]
    }
   ],
   "source": [
    "def clip(v, b):\n",
    "    norm = np.linalg.norm(v, ord=2)\n",
    "\n",
    "    if norm > b:\n",
    "        return b * (v / norm)\n",
    "    else:\n",
    "        return v\n",
    "\n",
    "print( clip([[4548, 8796,   17]],5.0) )\n"
   ]
  },
  {
   "cell_type": "code",
   "execution_count": 94,
   "id": "717bf942",
   "metadata": {},
   "outputs": [
    {
     "data": {
      "text/plain": [
       "array([[1.35772596e+00, 2.62589215e+00, 5.07505304e-03],\n",
       "       [3.40625619e-01, 2.83605905e-02, 1.55236917e-02],\n",
       "       [1.41504420e+00, 1.98583840e+00, 1.52251591e-02],\n",
       "       [1.06964206e+00, 1.67446897e+00, 2.08972772e-02],\n",
       "       [6.95282267e-01, 2.50737474e+00, 1.19413013e-03]])"
      ]
     },
     "execution_count": 94,
     "metadata": {},
     "output_type": "execute_result"
    }
   ],
   "source": [
    "clip(X_train[:5], 5)"
   ]
  },
  {
   "cell_type": "code",
   "execution_count": 84,
   "id": "176c265b",
   "metadata": {},
   "outputs": [],
   "source": [
    "def dp_final_gradients(gradients):\n",
    "    length_grads=len(grads)\n",
    "    \n",
    "    sensitivity = 1\n",
    "    epsilon= 0.8\n",
    "    noise = np.random.laplace(loc=0, scale=sensitivity/epsilon)\n",
    "    \n",
    "    noise_lenth = length_grads + noise\n",
    "    \n",
    "    avg_grads=[0,0,0]\n",
    "    \n",
    "    for i in range(0,length_grads):\n",
    "        avg_grads[0]+=grads[i][0]\n",
    "        avg_grads[1]+=grads[i][1]\n",
    "        avg_grads[2]+=grads[i][2]\n",
    "        \n",
    "    avg_grads=[i/noise_lenth for i in avg_grads]\n",
    "    \n",
    "    return avg_grads\n",
    "     "
   ]
  },
  {
   "cell_type": "code",
   "execution_count": 85,
   "id": "3148e5a8",
   "metadata": {},
   "outputs": [],
   "source": [
    "def dp_sgd(train,y_train,l_rate, n_epoch):\n",
    "    train = clip(train, 5)\n",
    "    coef = [0,0,0]\n",
    "    final_grads = [0,0,0]\n",
    "    intercept = 0\n",
    "    for epoch in range(n_epoch):\n",
    "        predictions=[]\n",
    "        gradients=[]\n",
    "        sum_error = 0.0\n",
    "        for i in range(len(train)):\n",
    "            yhat = predict(train[i], coef,intercept)  \n",
    "            predictions.append(yhat)\n",
    "            error = y_train[i] - yhat\n",
    "            sum_error += error**2\n",
    "            intercept= intercept + l_rate * error * yhat * (1.0 - yhat)  ## intercept\n",
    "            temp=train[i]\n",
    "            for j in range(3):\n",
    "                coef[j] = coef[j] + l_rate * error * yhat * (1.0 - yhat) * temp[j]  \n",
    "            gradients.append(coef)\n",
    "        final_grads = dp_final_gradients(gradients)\n",
    "        print('>epoch=%d, lrate=%.3f, error=%.3f, intercept=%.3f '% (epoch, l_rate, sum_error,intercept))\n",
    "    return final_grads"
   ]
  },
  {
   "cell_type": "code",
   "execution_count": null,
   "id": "5eda1167",
   "metadata": {},
   "outputs": [],
   "source": []
  },
  {
   "cell_type": "code",
   "execution_count": 88,
   "id": "5cae569b",
   "metadata": {},
   "outputs": [
    {
     "name": "stdout",
     "output_type": "stream",
     "text": [
      "Gradients using Normal SGD \n",
      ">epoch=0, lrate=0.240, error=2.250, intercept=-0.030 \n",
      ">epoch=1, lrate=0.240, error=2.000, intercept=-0.030 \n",
      ">epoch=2, lrate=0.240, error=2.000, intercept=-0.030 \n",
      ">epoch=3, lrate=0.240, error=2.000, intercept=-0.030 \n",
      "Gradients using Differntially Private SGD \n",
      ">epoch=0, lrate=0.240, error=2.146, intercept=-0.127 \n",
      ">epoch=1, lrate=0.240, error=1.654, intercept=-0.193 \n",
      ">epoch=2, lrate=0.240, error=1.478, intercept=-0.229 \n",
      ">epoch=3, lrate=0.240, error=1.396, intercept=-0.249 \n",
      "[-115.01700212848986, -222.44713076565455, -0.42992283117509383]\n"
     ]
    },
    {
     "name": "stderr",
     "output_type": "stream",
     "text": [
      "/var/folders/61/3x6_zr2n5nd67km655rj4nd4r4gmsb/T/ipykernel_5464/613806144.py:5: RuntimeWarning: overflow encountered in exp\n",
      "  return 1.0 / (1.0 + np.exp(-yhat))\n"
     ]
    }
   ],
   "source": [
    "l_rate = 0.24\n",
    "n_epoch = 4\n",
    "\n",
    "print(\"Gradients using Normal SGD \")\n",
    "coef = sgd(X_train[:10],y_train[:10],l_rate, n_epoch)\n",
    "\n",
    "print(\"Gradients using Differntially Private SGD \")\n",
    "coef = dp_sgd(X_train[:10],y_train[:10],l_rate, n_epoch)\n",
    "print(coef)"
   ]
  },
  {
   "cell_type": "code",
   "execution_count": null,
   "id": "21a316db",
   "metadata": {},
   "outputs": [],
   "source": []
  }
 ],
 "metadata": {
  "kernelspec": {
   "display_name": "Python 3 (ipykernel)",
   "language": "python",
   "name": "python3"
  },
  "language_info": {
   "codemirror_mode": {
    "name": "ipython",
    "version": 3
   },
   "file_extension": ".py",
   "mimetype": "text/x-python",
   "name": "python",
   "nbconvert_exporter": "python",
   "pygments_lexer": "ipython3",
   "version": "3.8.10"
  }
 },
 "nbformat": 4,
 "nbformat_minor": 5
}
