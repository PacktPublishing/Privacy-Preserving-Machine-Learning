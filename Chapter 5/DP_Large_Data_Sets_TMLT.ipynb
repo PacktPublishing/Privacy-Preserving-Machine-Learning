{
 "cells": [
  {
   "cell_type": "code",
   "execution_count": 65,
   "metadata": {
    "colab": {
     "base_uri": "https://localhost:8080/"
    },
    "id": "rUzVXE0n6q_T",
    "outputId": "7013a389-eac0-4150-861e-85159ba2f598"
   },
   "outputs": [
    {
     "name": "stdout",
     "output_type": "stream",
     "text": [
      "Looking in indexes: https://pypi.org/simple, https://us-python.pkg.dev/colab-wheels/public/simple/\n",
      "Requirement already satisfied: tmlt-analytics in /usr/local/lib/python3.10/dist-packages (0.7.2)\n",
      "Requirement already satisfied: pandas<2.0.0,>=1.2.0 in /usr/local/lib/python3.10/dist-packages (from tmlt-analytics) (1.5.3)\n",
      "Requirement already satisfied: pyspark[sql]<=3.3.1,>=3.0.0 in /usr/local/lib/python3.10/dist-packages (from tmlt-analytics) (3.3.1)\n",
      "Requirement already satisfied: sympy<1.10,>=1.8 in /usr/local/lib/python3.10/dist-packages (from tmlt-analytics) (1.9)\n",
      "Requirement already satisfied: tmlt.core<0.11.0,>=0.10.1 in /usr/local/lib/python3.10/dist-packages (from tmlt-analytics) (0.10.1)\n",
      "Requirement already satisfied: typeguard<2.13.0,>=2.12.1 in /usr/local/lib/python3.10/dist-packages (from tmlt-analytics) (2.12.1)\n",
      "Requirement already satisfied: typing-extensions<4.0.0,>=3.10.0 in /usr/local/lib/python3.10/dist-packages (from tmlt-analytics) (3.10.0.2)\n",
      "Requirement already satisfied: python-dateutil>=2.8.1 in /usr/local/lib/python3.10/dist-packages (from pandas<2.0.0,>=1.2.0->tmlt-analytics) (2.8.2)\n",
      "Requirement already satisfied: pytz>=2020.1 in /usr/local/lib/python3.10/dist-packages (from pandas<2.0.0,>=1.2.0->tmlt-analytics) (2022.7.1)\n",
      "Requirement already satisfied: numpy>=1.21.0 in /usr/local/lib/python3.10/dist-packages (from pandas<2.0.0,>=1.2.0->tmlt-analytics) (1.21.6)\n",
      "Requirement already satisfied: py4j==0.10.9.5 in /usr/local/lib/python3.10/dist-packages (from pyspark[sql]<=3.3.1,>=3.0.0->tmlt-analytics) (0.10.9.5)\n",
      "Requirement already satisfied: pyarrow>=1.0.0 in /usr/local/lib/python3.10/dist-packages (from pyspark[sql]<=3.3.1,>=3.0.0->tmlt-analytics) (6.0.1)\n",
      "Requirement already satisfied: mpmath>=0.19 in /usr/local/lib/python3.10/dist-packages (from sympy<1.10,>=1.8->tmlt-analytics) (1.3.0)\n",
      "Requirement already satisfied: pytest<8.0.0,>=7.3.1 in /usr/local/lib/python3.10/dist-packages (from tmlt.core<0.11.0,>=0.10.1->tmlt-analytics) (7.3.2)\n",
      "Requirement already satisfied: randomgen<2.0.0,>=1.19.0 in /usr/local/lib/python3.10/dist-packages (from tmlt.core<0.11.0,>=0.10.1->tmlt-analytics) (1.23.1)\n",
      "Requirement already satisfied: scipy<=1.7.3,>=1.4.1 in /usr/local/lib/python3.10/dist-packages (from tmlt.core<0.11.0,>=0.10.1->tmlt-analytics) (1.7.3)\n",
      "Requirement already satisfied: iniconfig in /usr/local/lib/python3.10/dist-packages (from pytest<8.0.0,>=7.3.1->tmlt.core<0.11.0,>=0.10.1->tmlt-analytics) (2.0.0)\n",
      "Requirement already satisfied: packaging in /usr/local/lib/python3.10/dist-packages (from pytest<8.0.0,>=7.3.1->tmlt.core<0.11.0,>=0.10.1->tmlt-analytics) (23.1)\n",
      "Requirement already satisfied: pluggy<2.0,>=0.12 in /usr/local/lib/python3.10/dist-packages (from pytest<8.0.0,>=7.3.1->tmlt.core<0.11.0,>=0.10.1->tmlt-analytics) (1.0.0)\n",
      "Requirement already satisfied: exceptiongroup>=1.0.0rc8 in /usr/local/lib/python3.10/dist-packages (from pytest<8.0.0,>=7.3.1->tmlt.core<0.11.0,>=0.10.1->tmlt-analytics) (1.1.1)\n",
      "Requirement already satisfied: tomli>=1.0.0 in /usr/local/lib/python3.10/dist-packages (from pytest<8.0.0,>=7.3.1->tmlt.core<0.11.0,>=0.10.1->tmlt-analytics) (2.0.1)\n",
      "Requirement already satisfied: six>=1.5 in /usr/local/lib/python3.10/dist-packages (from python-dateutil>=2.8.1->pandas<2.0.0,>=1.2.0->tmlt-analytics) (1.16.0)\n"
     ]
    }
   ],
   "source": [
    "!pip3 install tmlt-analytics"
   ]
  },
  {
   "cell_type": "code",
   "execution_count": 99,
   "metadata": {
    "id": "oZI3WGFZ63G5"
   },
   "outputs": [],
   "source": [
    "import os\n",
    "from pyspark import SparkFiles\n",
    "from pyspark.sql import SparkSession\n",
    "from tmlt.analytics.privacy_budget import PureDPBudget\n",
    "from tmlt.analytics.protected_change import AddOneRow\n",
    "from tmlt.analytics.query_builder import QueryBuilder\n",
    "from tmlt.analytics.session import Session"
   ]
  },
  {
   "cell_type": "code",
   "execution_count": 105,
   "metadata": {
    "id": "DwzJiXCO66lx"
   },
   "outputs": [],
   "source": [
    "\n",
    "spark = SparkSession.builder.getOrCreate()\n",
    "spark.stop()\n",
    "spark = SparkSession.builder.getOrCreate()"
   ]
  },
  {
   "cell_type": "markdown",
   "metadata": {
    "id": "tDIzaZRb8b4r"
   },
   "source": []
  },
  {
   "cell_type": "code",
   "execution_count": 106,
   "metadata": {
    "id": "zxKdLqj5AV47"
   },
   "outputs": [],
   "source": [
    "spark.sparkContext.addFile(\n",
    "\"/downloads/transactions.csv\")\n",
    "trans_df = spark.read.csv(\n",
    "    SparkFiles.get(\"/downloads/transactions.csv\"), header=True, inferSchema=True\n",
    ")\n"
   ]
  },
  {
   "cell_type": "code",
   "execution_count": 107,
   "metadata": {
    "colab": {
     "base_uri": "https://localhost:8080/"
    },
    "id": "VxLhNT87AkUU",
    "outputId": "79b42c65-d985-4d3c-a139-efefd5c615b5"
   },
   "outputs": [
    {
     "data": {
      "text/plain": [
       "[Row(_c0=0, TRANSACTION_ID=0, TX_DATETIME=datetime.datetime(2023, 2, 1, 0, 43, 37), CUSTOMER_ID=901, TERMINAL_ID=8047, TX_AMOUNT=82, TX_TIME_SECONDS=2617, TX_TIME_DAYS=0),\n",
       " Row(_c0=1, TRANSACTION_ID=1, TX_DATETIME=datetime.datetime(2023, 2, 1, 1, 20, 13), CUSTOMER_ID=2611, TERMINAL_ID=7777, TX_AMOUNT=15, TX_TIME_SECONDS=4813, TX_TIME_DAYS=0),\n",
       " Row(_c0=2, TRANSACTION_ID=2, TX_DATETIME=datetime.datetime(2023, 2, 1, 1, 22, 52), CUSTOMER_ID=4212, TERMINAL_ID=3336, TX_AMOUNT=53, TX_TIME_SECONDS=4972, TX_TIME_DAYS=0),\n",
       " Row(_c0=3, TRANSACTION_ID=3, TX_DATETIME=datetime.datetime(2023, 2, 1, 1, 26, 40), CUSTOMER_ID=1293, TERMINAL_ID=7432, TX_AMOUNT=59, TX_TIME_SECONDS=5200, TX_TIME_DAYS=0),\n",
       " Row(_c0=4, TRANSACTION_ID=4, TX_DATETIME=datetime.datetime(2023, 2, 1, 1, 52, 23), CUSTOMER_ID=2499, TERMINAL_ID=1024, TX_AMOUNT=25, TX_TIME_SECONDS=6743, TX_TIME_DAYS=0)]"
      ]
     },
     "execution_count": 107,
     "metadata": {},
     "output_type": "execute_result"
    }
   ],
   "source": [
    "trans_df.head(5)"
   ]
  },
  {
   "cell_type": "code",
   "execution_count": 108,
   "metadata": {
    "id": "hMcegWAGByoN"
   },
   "outputs": [],
   "source": [
    "session = Session.from_dataframe(\n",
    "    privacy_budget=PureDPBudget(3.5),\n",
    "    source_id=\"transactions\",\n",
    "    dataframe=trans_df,\n",
    "    protected_change=AddOneRow(),\n",
    ")"
   ]
  },
  {
   "cell_type": "code",
   "execution_count": 109,
   "metadata": {
    "id": "T49ivpTSB5mw"
   },
   "outputs": [],
   "source": [
    "count_query = QueryBuilder(\"transactions\").count()"
   ]
  },
  {
   "cell_type": "code",
   "execution_count": 110,
   "metadata": {
    "colab": {
     "base_uri": "https://localhost:8080/"
    },
    "id": "9HwqyeAfCErO",
    "outputId": "d4e0d495-c548-4844-9de8-5a10903be91a"
   },
   "outputs": [
    {
     "name": "stderr",
     "output_type": "stream",
     "text": [
      "/usr/local/lib/python3.10/dist-packages/pyspark/sql/pandas/functions.py:394: UserWarning: In Python 3.6+ and Spark 3.0+, it is preferred to specify type hints for pandas UDF instead of specifying pandas UDF type which will be deprecated in the future releases. See SPARK-28264 for more details.\n",
      "  warnings.warn(\n"
     ]
    },
    {
     "name": "stdout",
     "output_type": "stream",
     "text": [
      "+-------+\n",
      "|  count|\n",
      "+-------+\n",
      "|4557168|\n",
      "+-------+\n",
      "\n"
     ]
    }
   ],
   "source": [
    "total_count = session.evaluate(\n",
    "    count_query,\n",
    "    privacy_budget=PureDPBudget(1)\n",
    ")\n",
    "total_count.show()"
   ]
  },
  {
   "cell_type": "code",
   "execution_count": 111,
   "metadata": {
    "colab": {
     "base_uri": "https://localhost:8080/"
    },
    "id": "jI9N67w9CeiS",
    "outputId": "3ed814d8-4be5-4780-aa5a-5abf7b1ec3fe"
   },
   "outputs": [
    {
     "name": "stdout",
     "output_type": "stream",
     "text": [
      "4557166\n"
     ]
    }
   ],
   "source": [
    "total_count = trans_df.count()\n",
    "print(total_count)"
   ]
  },
  {
   "cell_type": "code",
   "execution_count": 112,
   "metadata": {
    "colab": {
     "base_uri": "https://localhost:8080/"
    },
    "id": "JqMO5etxC-n6",
    "outputId": "b07a1468-9bf2-4772-a15e-1de463d7de3f"
   },
   "outputs": [
    {
     "name": "stdout",
     "output_type": "stream",
     "text": [
      "The session has a remaining privacy budget of PureDPBudget(epsilon=2.5).\n",
      "The following private tables are available:\n",
      "Table 'transactions' (no constraints):\n",
      "\tColumns:\n",
      "\t\t- '_c0'              INTEGER\n",
      "\t\t- 'TRANSACTION_ID'   INTEGER\n",
      "\t\t- 'TX_DATETIME'      TIMESTAMP\n",
      "\t\t- 'CUSTOMER_ID'      INTEGER\n",
      "\t\t- 'TERMINAL_ID'      INTEGER\n",
      "\t\t- 'TX_AMOUNT'        INTEGER\n",
      "\t\t- 'TX_TIME_SECONDS'  INTEGER\n",
      "\t\t- 'TX_TIME_DAYS'     INTEGER\n"
     ]
    }
   ],
   "source": [
    "session.describe()"
   ]
  },
  {
   "cell_type": "code",
   "execution_count": 113,
   "metadata": {
    "colab": {
     "base_uri": "https://localhost:8080/"
    },
    "id": "yNwtF507DGiv",
    "outputId": "ff6f2d5c-b203-49f6-c778-4ad05a91c4f1"
   },
   "outputs": [
    {
     "name": "stdout",
     "output_type": "stream",
     "text": [
      "+-------+\n",
      "|  count|\n",
      "+-------+\n",
      "|1024844|\n",
      "+-------+\n",
      "\n"
     ]
    }
   ],
   "source": [
    "low_purchagers= QueryBuilder(\"transactions\").filter(\"TX_AMOUNT < 25\").count()\n",
    "low_purchagers_count = session.evaluate(\n",
    "    low_purchagers,\n",
    "    privacy_budget=PureDPBudget(epsilon=1),\n",
    ")\n",
    "low_purchagers_count.show()"
   ]
  },
  {
   "cell_type": "code",
   "execution_count": 114,
   "metadata": {
    "colab": {
     "base_uri": "https://localhost:8080/"
    },
    "id": "LEvjxk_aD-RC",
    "outputId": "20596bb7-c669-49f5-f85b-7b811402fe05"
   },
   "outputs": [
    {
     "name": "stdout",
     "output_type": "stream",
     "text": [
      "PureDPBudget(epsilon=1.5)\n"
     ]
    }
   ],
   "source": [
    "print(session.remaining_privacy_budget)"
   ]
  },
  {
   "cell_type": "code",
   "execution_count": 115,
   "metadata": {
    "colab": {
     "base_uri": "https://localhost:8080/"
    },
    "id": "jWjWY3EkEMDX",
    "outputId": "78720874-ac52-4c7b-a07c-c348ecc6db6b"
   },
   "outputs": [
    {
     "name": "stdout",
     "output_type": "stream",
     "text": [
      "+-------+\n",
      "|  count|\n",
      "+-------+\n",
      "|1165384|\n",
      "+-------+\n",
      "\n"
     ]
    }
   ],
   "source": [
    "med_purchagers= QueryBuilder(\"transactions\").filter(\"TX_AMOUNT >25 AND TX_AMOUNT <50\").count()\n",
    "med_purchagers_count = session.evaluate(\n",
    "    med_purchagers,\n",
    "    privacy_budget=PureDPBudget(epsilon=1),\n",
    ")\n",
    "med_purchagers_count.show()"
   ]
  },
  {
   "cell_type": "code",
   "execution_count": 116,
   "metadata": {
    "colab": {
     "base_uri": "https://localhost:8080/"
    },
    "id": "TStGikvaFH9B",
    "outputId": "8ad7f11f-c828-47cc-99b2-de9e3d1b2b0f"
   },
   "outputs": [
    {
     "name": "stdout",
     "output_type": "stream",
     "text": [
      "PureDPBudget(epsilon=0.5)\n"
     ]
    }
   ],
   "source": [
    "print(session.remaining_privacy_budget)"
   ]
  },
  {
   "cell_type": "code",
   "execution_count": 117,
   "metadata": {
    "colab": {
     "base_uri": "https://localhost:8080/",
     "height": 496
    },
    "id": "A5kn73FLFUkP",
    "outputId": "9085e36a-e91d-4ad9-b257-8885a8c58c07"
   },
   "outputs": [
    {
     "ename": "RuntimeError",
     "evalue": "ignored",
     "output_type": "error",
     "traceback": [
      "\u001b[0;31m---------------------------------------------------------------------------\u001b[0m",
      "\u001b[0;31mInsufficientBudgetError\u001b[0m                   Traceback (most recent call last)",
      "\u001b[0;32m/usr/local/lib/python3.10/dist-packages/tmlt/analytics/session.py\u001b[0m in \u001b[0;36mevaluate\u001b[0;34m(self, query_expr, privacy_budget)\u001b[0m\n\u001b[1;32m   1283\u001b[0m             \u001b[0;32mtry\u001b[0m\u001b[0;34m:\u001b[0m\u001b[0;34m\u001b[0m\u001b[0;34m\u001b[0m\u001b[0m\n\u001b[0;32m-> 1284\u001b[0;31m                 answers = self._accountant.measure(\n\u001b[0m\u001b[1;32m   1285\u001b[0m                     \u001b[0mmeasurement\u001b[0m\u001b[0;34m,\u001b[0m \u001b[0md_out\u001b[0m\u001b[0;34m=\u001b[0m\u001b[0madjusted_budget\u001b[0m\u001b[0;34m.\u001b[0m\u001b[0mvalue\u001b[0m\u001b[0;34m\u001b[0m\u001b[0;34m\u001b[0m\u001b[0m\n",
      "\u001b[0;32m/usr/local/lib/python3.10/dist-packages/tmlt/core/measurements/interactive_measurements.py\u001b[0m in \u001b[0;36mmeasure\u001b[0;34m(self, measurement, d_out)\u001b[0m\n\u001b[1;32m   1343\u001b[0m         \u001b[0;32mif\u001b[0m \u001b[0;32mnot\u001b[0m \u001b[0mself\u001b[0m\u001b[0;34m.\u001b[0m\u001b[0m_privacy_budget\u001b[0m\u001b[0;34m.\u001b[0m\u001b[0mcan_spend_budget\u001b[0m\u001b[0;34m(\u001b[0m\u001b[0md_out\u001b[0m\u001b[0;34m)\u001b[0m\u001b[0;34m:\u001b[0m\u001b[0;34m\u001b[0m\u001b[0;34m\u001b[0m\u001b[0m\n\u001b[0;32m-> 1344\u001b[0;31m             raise InsufficientBudgetError(\n\u001b[0m\u001b[1;32m   1345\u001b[0m                 \u001b[0mself\u001b[0m\u001b[0;34m.\u001b[0m\u001b[0mprivacy_budget\u001b[0m\u001b[0;34m,\u001b[0m\u001b[0;34m\u001b[0m\u001b[0;34m\u001b[0m\u001b[0m\n",
      "\u001b[0;31mInsufficientBudgetError\u001b[0m: PrivacyAccountant's remaining privacy budget is 1/2, which is insufficient for this operation that requires privacy loss 1.",
      "\nThe above exception was the direct cause of the following exception:\n",
      "\u001b[0;31mRuntimeError\u001b[0m                              Traceback (most recent call last)",
      "\u001b[0;32m<ipython-input-117-b4b26293c9ea>\u001b[0m in \u001b[0;36m<cell line: 2>\u001b[0;34m()\u001b[0m\n\u001b[1;32m      1\u001b[0m \u001b[0mhigh_purchagers\u001b[0m\u001b[0;34m=\u001b[0m \u001b[0mQueryBuilder\u001b[0m\u001b[0;34m(\u001b[0m\u001b[0;34m\"transactions\"\u001b[0m\u001b[0;34m)\u001b[0m\u001b[0;34m.\u001b[0m\u001b[0mfilter\u001b[0m\u001b[0;34m(\u001b[0m\u001b[0;34m\"TX_AMOUNT > 50\"\u001b[0m\u001b[0;34m)\u001b[0m\u001b[0;34m.\u001b[0m\u001b[0mcount\u001b[0m\u001b[0;34m(\u001b[0m\u001b[0;34m)\u001b[0m\u001b[0;34m\u001b[0m\u001b[0;34m\u001b[0m\u001b[0m\n\u001b[0;32m----> 2\u001b[0;31m high_purchagers_count = session.evaluate(\n\u001b[0m\u001b[1;32m      3\u001b[0m     \u001b[0mhigh_purchagers\u001b[0m\u001b[0;34m,\u001b[0m\u001b[0;34m\u001b[0m\u001b[0;34m\u001b[0m\u001b[0m\n\u001b[1;32m      4\u001b[0m     \u001b[0mprivacy_budget\u001b[0m\u001b[0;34m=\u001b[0m\u001b[0mPureDPBudget\u001b[0m\u001b[0;34m(\u001b[0m\u001b[0mepsilon\u001b[0m\u001b[0;34m=\u001b[0m\u001b[0;36m1\u001b[0m\u001b[0;34m)\u001b[0m\u001b[0;34m,\u001b[0m\u001b[0;34m\u001b[0m\u001b[0;34m\u001b[0m\u001b[0m\n\u001b[1;32m      5\u001b[0m )\n",
      "\u001b[0;32m/usr/local/lib/python3.10/dist-packages/tmlt/analytics/session.py\u001b[0m in \u001b[0;36mevaluate\u001b[0;34m(self, query_expr, privacy_budget)\u001b[0m\n\u001b[1;32m   1289\u001b[0m                     \u001b[0merr\u001b[0m\u001b[0;34m.\u001b[0m\u001b[0mrequested_budget\u001b[0m\u001b[0;34m,\u001b[0m \u001b[0merr\u001b[0m\u001b[0;34m.\u001b[0m\u001b[0mremaining_budget\u001b[0m\u001b[0;34m,\u001b[0m \u001b[0mprivacy_budget\u001b[0m\u001b[0;34m\u001b[0m\u001b[0;34m\u001b[0m\u001b[0m\n\u001b[1;32m   1290\u001b[0m                 )\n\u001b[0;32m-> 1291\u001b[0;31m                 raise RuntimeError(\n\u001b[0m\u001b[1;32m   1292\u001b[0m                     \u001b[0;34m\"Cannot answer query without exceeding the Session privacy budget.\"\u001b[0m\u001b[0;34m\u001b[0m\u001b[0;34m\u001b[0m\u001b[0m\n\u001b[1;32m   1293\u001b[0m                     \u001b[0;34m+\u001b[0m \u001b[0mmsg\u001b[0m\u001b[0;34m\u001b[0m\u001b[0;34m\u001b[0m\u001b[0m\n",
      "\u001b[0;31mRuntimeError\u001b[0m: Cannot answer query without exceeding the Session privacy budget.\nRequested: ε=1.000\nRemaining: ε=0.500\nDifference: ε=0.500"
     ]
    }
   ],
   "source": [
    "high_purchagers= QueryBuilder(\"transactions\").filter(\"TX_AMOUNT > 50\").count()\n",
    "high_purchagers_count = session.evaluate(\n",
    "    high_purchagers,\n",
    "    privacy_budget=PureDPBudget(epsilon=1),\n",
    ")\n",
    "high_purchagers_count.show()"
   ]
  },
  {
   "cell_type": "code",
   "execution_count": 118,
   "metadata": {
    "colab": {
     "base_uri": "https://localhost:8080/"
    },
    "id": "lZtA7z1DF_fN",
    "outputId": "2c048c2b-f580-4d4d-d585-f65b1c9ae2a4"
   },
   "outputs": [
    {
     "name": "stderr",
     "output_type": "stream",
     "text": [
      "/usr/local/lib/python3.10/dist-packages/pyspark/sql/pandas/functions.py:394: UserWarning: In Python 3.6+ and Spark 3.0+, it is preferred to specify type hints for pandas UDF instead of specifying pandas UDF type which will be deprecated in the future releases. See SPARK-28264 for more details.\n",
      "  warnings.warn(\n"
     ]
    },
    {
     "name": "stdout",
     "output_type": "stream",
     "text": [
      "+-------+\n",
      "|  count|\n",
      "+-------+\n",
      "|2271804|\n",
      "+-------+\n",
      "\n"
     ]
    }
   ],
   "source": [
    "high_purchagers= QueryBuilder(\"transactions\").filter(\"TX_AMOUNT > 50\").count()\n",
    "high_purchagers_count = session.evaluate(\n",
    "    high_purchagers,\n",
    "    privacy_budget=session.remaining_privacy_budget,\n",
    ")\n",
    "high_purchagers_count.show()"
   ]
  },
  {
   "cell_type": "code",
   "execution_count": 119,
   "metadata": {
    "id": "c-wP6jrYC2GB"
   },
   "outputs": [],
   "source": [
    "budget = PureDPBudget(epsilon=2.5) # maximum budget consumed in the Session\n",
    "session = Session.from_dataframe(\n",
    "    privacy_budget=budget,\n",
    "    source_id=\"transactions\",\n",
    "    dataframe=trans_df,\n",
    "    protected_change=AddOneRow(),\n",
    ")\n"
   ]
  },
  {
   "cell_type": "code",
   "execution_count": 120,
   "metadata": {
    "id": "Zv-ynXR-IYYw"
   },
   "outputs": [],
   "source": [
    "from tmlt.analytics.keyset import KeySet\n",
    "terminal_ids = KeySet.from_dict({\n",
    "    \"TERMINAL_ID\": [\n",
    "        1,2,3,4,5,6,7,8,9,10\n",
    "    ]\n",
    "})"
   ]
  },
  {
   "cell_type": "code",
   "execution_count": 121,
   "metadata": {
    "colab": {
     "base_uri": "https://localhost:8080/"
    },
    "id": "CCucmpVKJYSi",
    "outputId": "9f82ce0b-f979-4c9f-bde3-652da72dd987"
   },
   "outputs": [
    {
     "name": "stdout",
     "output_type": "stream",
     "text": [
      "+-----------+------------------+\n",
      "|TERMINAL_ID|TX_AMOUNT_average |\n",
      "+-----------+------------------+\n",
      "|1          |55.93609022556391 |\n",
      "|2          |52.93446601941748 |\n",
      "|3          |40.95974576271186 |\n",
      "|4          |52.02414486921529 |\n",
      "|5          |47.511428571428574|\n",
      "|6          |52.276595744680854|\n",
      "|7          |51.566233766233765|\n",
      "|8          |50.12273641851107 |\n",
      "|9          |52.88358208955224 |\n",
      "|10         |48.98945147679325 |\n",
      "+-----------+------------------+\n",
      "\n"
     ]
    }
   ],
   "source": [
    "average_purchase_query = (\n",
    "    QueryBuilder(\"transactions\")\n",
    "    .groupby(terminal_ids)\n",
    "    .average(\"TX_AMOUNT\", low=5, high=100)\n",
    ")\n",
    "average_purchages= session.evaluate(\n",
    "    average_purchase_query,\n",
    "    privacy_budget=PureDPBudget(1),\n",
    ")\n",
    "average_purchages.show(truncate=False)"
   ]
  },
  {
   "cell_type": "code",
   "execution_count": 122,
   "metadata": {
    "id": "0HcTULjxUlPc"
   },
   "outputs": [],
   "source": [
    "from tmlt.analytics.protected_change import AddRowsWithID\n",
    "budget = PureDPBudget(epsilon=2.5) # maximum budget consumed in the Session\n",
    "session = Session.from_dataframe(\n",
    "    privacy_budget=budget,\n",
    "    source_id=\"transactions\",\n",
    "    dataframe=trans_df,\n",
    "    protected_change=AddRowsWithID(id_column=\"CUSTOMER_ID\"),\n",
    ")"
   ]
  },
  {
   "cell_type": "code",
   "execution_count": 123,
   "metadata": {
    "colab": {
     "base_uri": "https://localhost:8080/",
     "height": 425
    },
    "id": "womdSKiuVSYc",
    "outputId": "b5832d1e-fb98-410a-ded2-d387961876ed"
   },
   "outputs": [
    {
     "name": "stderr",
     "output_type": "stream",
     "text": [
      "/usr/local/lib/python3.10/dist-packages/pyspark/sql/pandas/conversion.py:486: FutureWarning: iteritems is deprecated and will be removed in a future version. Use .items instead.\n",
      "  for column, series in pdf.iteritems():\n",
      "/usr/local/lib/python3.10/dist-packages/pyspark/sql/pandas/conversion.py:486: FutureWarning: iteritems is deprecated and will be removed in a future version. Use .items instead.\n",
      "  for column, series in pdf.iteritems():\n"
     ]
    },
    {
     "ename": "RuntimeError",
     "evalue": "ignored",
     "output_type": "error",
     "traceback": [
      "\u001b[0;31m---------------------------------------------------------------------------\u001b[0m",
      "\u001b[0;31mRuntimeError\u001b[0m                              Traceback (most recent call last)",
      "\u001b[0;32m<ipython-input-123-dbcb98f1dcbc>\u001b[0m in \u001b[0;36m<cell line: 9>\u001b[0;34m()\u001b[0m\n\u001b[1;32m      7\u001b[0m     \u001b[0;34m.\u001b[0m\u001b[0mcount\u001b[0m\u001b[0;34m(\u001b[0m\u001b[0;34m)\u001b[0m\u001b[0;34m\u001b[0m\u001b[0;34m\u001b[0m\u001b[0m\n\u001b[1;32m      8\u001b[0m )\n\u001b[0;32m----> 9\u001b[0;31m \u001b[0mresult\u001b[0m \u001b[0;34m=\u001b[0m \u001b[0msession\u001b[0m\u001b[0;34m.\u001b[0m\u001b[0mevaluate\u001b[0m\u001b[0;34m(\u001b[0m\u001b[0mcount_query\u001b[0m\u001b[0;34m,\u001b[0m \u001b[0mPureDPBudget\u001b[0m\u001b[0;34m(\u001b[0m\u001b[0;36m1\u001b[0m\u001b[0;34m)\u001b[0m\u001b[0;34m)\u001b[0m\u001b[0;34m\u001b[0m\u001b[0;34m\u001b[0m\u001b[0m\n\u001b[0m",
      "\u001b[0;32m/usr/local/lib/python3.10/dist-packages/tmlt/analytics/session.py\u001b[0m in \u001b[0;36mevaluate\u001b[0;34m(self, query_expr, privacy_budget)\u001b[0m\n\u001b[1;32m   1255\u001b[0m         \"\"\"\n\u001b[1;32m   1256\u001b[0m         \u001b[0;31m# pylint: enable=line-too-long\u001b[0m\u001b[0;34m\u001b[0m\u001b[0;34m\u001b[0m\u001b[0m\n\u001b[0;32m-> 1257\u001b[0;31m         measurement, adjusted_budget = self._compile_and_get_budget(\n\u001b[0m\u001b[1;32m   1258\u001b[0m             \u001b[0mquery_expr\u001b[0m\u001b[0;34m,\u001b[0m \u001b[0mprivacy_budget\u001b[0m\u001b[0;34m\u001b[0m\u001b[0;34m\u001b[0m\u001b[0m\n\u001b[1;32m   1259\u001b[0m         )\n",
      "\u001b[0;32m/usr/local/lib/python3.10/dist-packages/tmlt/analytics/session.py\u001b[0m in \u001b[0;36m_compile_and_get_budget\u001b[0;34m(self, query_expr, privacy_budget)\u001b[0m\n\u001b[1;32m   1147\u001b[0m         \u001b[0madjusted_budget\u001b[0m \u001b[0;34m=\u001b[0m \u001b[0mself\u001b[0m\u001b[0;34m.\u001b[0m\u001b[0m_process_requested_budget\u001b[0m\u001b[0;34m(\u001b[0m\u001b[0mprivacy_budget\u001b[0m\u001b[0;34m)\u001b[0m\u001b[0;34m\u001b[0m\u001b[0;34m\u001b[0m\u001b[0m\n\u001b[1;32m   1148\u001b[0m \u001b[0;34m\u001b[0m\u001b[0m\n\u001b[0;32m-> 1149\u001b[0;31m         measurement = self._compiler(\n\u001b[0m\u001b[1;32m   1150\u001b[0m             \u001b[0mqueries\u001b[0m\u001b[0;34m=\u001b[0m\u001b[0;34m[\u001b[0m\u001b[0mquery_expr\u001b[0m\u001b[0;34m]\u001b[0m\u001b[0;34m,\u001b[0m\u001b[0;34m\u001b[0m\u001b[0;34m\u001b[0m\u001b[0m\n\u001b[1;32m   1151\u001b[0m             \u001b[0mprivacy_budget\u001b[0m\u001b[0;34m=\u001b[0m\u001b[0madjusted_budget\u001b[0m\u001b[0;34m,\u001b[0m\u001b[0;34m\u001b[0m\u001b[0;34m\u001b[0m\u001b[0m\n",
      "\u001b[0;32m/usr/local/lib/python3.10/dist-packages/tmlt/analytics/_query_expr_compiler/_compiler.py\u001b[0m in \u001b[0;36m__call__\u001b[0;34m(self, queries, privacy_budget, stability, input_domain, input_metric, public_sources, catalog, table_constraints)\u001b[0m\n\u001b[1;32m    161\u001b[0m         \u001b[0;31m# could become a problem if we go back to supporting multiple queries.\u001b[0m\u001b[0;34m\u001b[0m\u001b[0;34m\u001b[0m\u001b[0m\n\u001b[1;32m    162\u001b[0m         \u001b[0;32mfor\u001b[0m \u001b[0mquery\u001b[0m \u001b[0;32min\u001b[0m \u001b[0mqueries\u001b[0m\u001b[0;34m:\u001b[0m\u001b[0;34m\u001b[0m\u001b[0;34m\u001b[0m\u001b[0m\n\u001b[0;32m--> 163\u001b[0;31m             \u001b[0mquery_measurement\u001b[0m \u001b[0;34m=\u001b[0m \u001b[0mquery\u001b[0m\u001b[0;34m.\u001b[0m\u001b[0maccept\u001b[0m\u001b[0;34m(\u001b[0m\u001b[0mvisitor\u001b[0m\u001b[0;34m)\u001b[0m\u001b[0;34m\u001b[0m\u001b[0;34m\u001b[0m\u001b[0m\n\u001b[0m\u001b[1;32m    164\u001b[0m             \u001b[0;32mif\u001b[0m \u001b[0;32mnot\u001b[0m \u001b[0misinstance\u001b[0m\u001b[0;34m(\u001b[0m\u001b[0mquery_measurement\u001b[0m\u001b[0;34m,\u001b[0m \u001b[0mMeasurement\u001b[0m\u001b[0;34m)\u001b[0m\u001b[0;34m:\u001b[0m\u001b[0;34m\u001b[0m\u001b[0;34m\u001b[0m\u001b[0m\n\u001b[1;32m    165\u001b[0m                 raise AssertionError(\n",
      "\u001b[0;32m/usr/local/lib/python3.10/dist-packages/tmlt/analytics/query_expr.py\u001b[0m in \u001b[0;36maccept\u001b[0;34m(self, visitor)\u001b[0m\n\u001b[1;32m    696\u001b[0m     \u001b[0;32mdef\u001b[0m \u001b[0maccept\u001b[0m\u001b[0;34m(\u001b[0m\u001b[0mself\u001b[0m\u001b[0;34m,\u001b[0m \u001b[0mvisitor\u001b[0m\u001b[0;34m:\u001b[0m \u001b[0;34m\"QueryExprVisitor\"\u001b[0m\u001b[0;34m)\u001b[0m \u001b[0;34m->\u001b[0m \u001b[0mAny\u001b[0m\u001b[0;34m:\u001b[0m\u001b[0;34m\u001b[0m\u001b[0;34m\u001b[0m\u001b[0m\n\u001b[1;32m    697\u001b[0m         \u001b[0;34m\"\"\"Visit this QueryExpr with visitor.\"\"\"\u001b[0m\u001b[0;34m\u001b[0m\u001b[0;34m\u001b[0m\u001b[0m\n\u001b[0;32m--> 698\u001b[0;31m         \u001b[0;32mreturn\u001b[0m \u001b[0mvisitor\u001b[0m\u001b[0;34m.\u001b[0m\u001b[0mvisit_groupby_count\u001b[0m\u001b[0;34m(\u001b[0m\u001b[0mself\u001b[0m\u001b[0;34m)\u001b[0m\u001b[0;34m\u001b[0m\u001b[0;34m\u001b[0m\u001b[0m\n\u001b[0m\u001b[1;32m    699\u001b[0m \u001b[0;34m\u001b[0m\u001b[0m\n\u001b[1;32m    700\u001b[0m \u001b[0;34m\u001b[0m\u001b[0m\n",
      "\u001b[0;32m/usr/local/lib/python3.10/dist-packages/tmlt/analytics/_query_expr_compiler/_measurement_visitor.py\u001b[0m in \u001b[0;36mvisit_groupby_count\u001b[0;34m(self, expr)\u001b[0m\n\u001b[1;32m    687\u001b[0m         \u001b[0mOutputSchemaVisitor\u001b[0m\u001b[0;34m(\u001b[0m\u001b[0mself\u001b[0m\u001b[0;34m.\u001b[0m\u001b[0mcatalog\u001b[0m\u001b[0;34m)\u001b[0m\u001b[0;34m.\u001b[0m\u001b[0mvisit_groupby_count\u001b[0m\u001b[0;34m(\u001b[0m\u001b[0mexpr\u001b[0m\u001b[0;34m)\u001b[0m\u001b[0;34m\u001b[0m\u001b[0;34m\u001b[0m\u001b[0m\n\u001b[1;32m    688\u001b[0m         \u001b[0mmechanism\u001b[0m \u001b[0;34m=\u001b[0m \u001b[0mself\u001b[0m\u001b[0;34m.\u001b[0m\u001b[0m_pick_noise_for_count\u001b[0m\u001b[0;34m(\u001b[0m\u001b[0mexpr\u001b[0m\u001b[0;34m)\u001b[0m\u001b[0;34m\u001b[0m\u001b[0;34m\u001b[0m\u001b[0m\n\u001b[0;32m--> 689\u001b[0;31m         child_transformation, child_ref = self._truncate_table(\n\u001b[0m\u001b[1;32m    690\u001b[0m             \u001b[0;34m*\u001b[0m\u001b[0mself\u001b[0m\u001b[0;34m.\u001b[0m\u001b[0m_visit_child_transformation\u001b[0m\u001b[0;34m(\u001b[0m\u001b[0mexpr\u001b[0m\u001b[0;34m.\u001b[0m\u001b[0mchild\u001b[0m\u001b[0;34m,\u001b[0m \u001b[0mmechanism\u001b[0m\u001b[0;34m)\u001b[0m\u001b[0;34m,\u001b[0m\u001b[0;34m\u001b[0m\u001b[0;34m\u001b[0m\u001b[0m\n\u001b[1;32m    691\u001b[0m             \u001b[0mgrouping_columns\u001b[0m\u001b[0;34m=\u001b[0m\u001b[0mexpr\u001b[0m\u001b[0;34m.\u001b[0m\u001b[0mgroupby_keys\u001b[0m\u001b[0;34m.\u001b[0m\u001b[0mdataframe\u001b[0m\u001b[0;34m(\u001b[0m\u001b[0;34m)\u001b[0m\u001b[0;34m.\u001b[0m\u001b[0mcolumns\u001b[0m\u001b[0;34m,\u001b[0m\u001b[0;34m\u001b[0m\u001b[0;34m\u001b[0m\u001b[0m\n",
      "\u001b[0;32m/usr/local/lib/python3.10/dist-packages/tmlt/analytics/_query_expr_compiler/_measurement_visitor.py\u001b[0m in \u001b[0;36m_truncate_table\u001b[0;34m(self, transformation, reference, constraints, grouping_columns)\u001b[0m\n\u001b[1;32m    319\u001b[0m             )\n\u001b[1;32m    320\u001b[0m             \u001b[0;32mif\u001b[0m \u001b[0;32mnot\u001b[0m \u001b[0mtruncatable_constraints\u001b[0m\u001b[0;34m:\u001b[0m\u001b[0;34m\u001b[0m\u001b[0;34m\u001b[0m\u001b[0m\n\u001b[0;32m--> 321\u001b[0;31m                 raise RuntimeError(\n\u001b[0m\u001b[1;32m    322\u001b[0m                     \u001b[0;34m\"A constraint on the number of rows contributed by each ID \"\u001b[0m\u001b[0;34m\u001b[0m\u001b[0;34m\u001b[0m\u001b[0m\n\u001b[1;32m    323\u001b[0m                     \u001b[0;34m\"is needed to perform this query (e.g. MaxRowsPerID).\"\u001b[0m\u001b[0;34m\u001b[0m\u001b[0;34m\u001b[0m\u001b[0m\n",
      "\u001b[0;31mRuntimeError\u001b[0m: A constraint on the number of rows contributed by each ID is needed to perform this query (e.g. MaxRowsPerID)."
     ]
    }
   ],
   "source": [
    "keyset = KeySet.from_dataframe(\n",
    "    trans_df.select(\"TERMINAL_ID\", \"TX_AMOUNT\")\n",
    ")\n",
    "count_query = (\n",
    "    QueryBuilder(\"transactions\")\n",
    "    .groupby(keyset)\n",
    "    .count()\n",
    ")\n",
    "result = session.evaluate(count_query, PureDPBudget(1))"
   ]
  },
  {
   "cell_type": "code",
   "execution_count": 124,
   "metadata": {
    "colab": {
     "base_uri": "https://localhost:8080/"
    },
    "id": "qV5Nb9AqVslc",
    "outputId": "6f601514-7d90-4ca0-c31b-ebf2a425024d"
   },
   "outputs": [
    {
     "name": "stderr",
     "output_type": "stream",
     "text": [
      "/usr/local/lib/python3.10/dist-packages/pyspark/sql/pandas/conversion.py:486: FutureWarning: iteritems is deprecated and will be removed in a future version. Use .items instead.\n",
      "  for column, series in pdf.iteritems():\n",
      "/usr/local/lib/python3.10/dist-packages/pyspark/sql/pandas/conversion.py:486: FutureWarning: iteritems is deprecated and will be removed in a future version. Use .items instead.\n",
      "  for column, series in pdf.iteritems():\n",
      "/usr/local/lib/python3.10/dist-packages/pyspark/sql/pandas/conversion.py:486: FutureWarning: iteritems is deprecated and will be removed in a future version. Use .items instead.\n",
      "  for column, series in pdf.iteritems():\n",
      "/usr/local/lib/python3.10/dist-packages/pyspark/sql/pandas/conversion.py:486: FutureWarning: iteritems is deprecated and will be removed in a future version. Use .items instead.\n",
      "  for column, series in pdf.iteritems():\n",
      "/usr/local/lib/python3.10/dist-packages/pyspark/sql/pandas/conversion.py:486: FutureWarning: iteritems is deprecated and will be removed in a future version. Use .items instead.\n",
      "  for column, series in pdf.iteritems():\n",
      "/usr/local/lib/python3.10/dist-packages/pyspark/sql/pandas/conversion.py:486: FutureWarning: iteritems is deprecated and will be removed in a future version. Use .items instead.\n",
      "  for column, series in pdf.iteritems():\n",
      "/usr/local/lib/python3.10/dist-packages/pyspark/sql/pandas/conversion.py:486: FutureWarning: iteritems is deprecated and will be removed in a future version. Use .items instead.\n",
      "  for column, series in pdf.iteritems():\n",
      "/usr/local/lib/python3.10/dist-packages/pyspark/sql/pandas/functions.py:394: UserWarning: In Python 3.6+ and Spark 3.0+, it is preferred to specify type hints for pandas UDF instead of specifying pandas UDF type which will be deprecated in the future releases. See SPARK-28264 for more details.\n",
      "  warnings.warn(\n"
     ]
    }
   ],
   "source": [
    "from tmlt.analytics.constraints import (\n",
    "    MaxGroupsPerID,\n",
    "    MaxRowsPerGroupPerID,\n",
    "    MaxRowsPerID,\n",
    ")\n",
    "keyset = KeySet.from_dataframe(\n",
    "    trans_df.select(\"TERMINAL_ID\", \"TX_AMOUNT\")\n",
    ")\n",
    "count_query = (\n",
    "    QueryBuilder(\"transactions\")\n",
    "    .enforce(MaxRowsPerID(100))\n",
    "    .groupby(keyset)\n",
    "    .count()\n",
    ")\n",
    "result = session.evaluate(count_query, PureDPBudget(1))"
   ]
  },
  {
   "cell_type": "code",
   "execution_count": 125,
   "metadata": {
    "colab": {
     "base_uri": "https://localhost:8080/"
    },
    "id": "1RC6AQhlY9MV",
    "outputId": "c1460f6d-1df5-4d48-96a7-45d0baeedafa"
   },
   "outputs": [
    {
     "name": "stdout",
     "output_type": "stream",
     "text": [
      "+-----------+---------+-----+\n",
      "|TERMINAL_ID|TX_AMOUNT|count|\n",
      "+-----------+---------+-----+\n",
      "|       3001|       98| 1240|\n",
      "|       3536|       42| 1217|\n",
      "|       4359|       71| 1212|\n",
      "|       9137|       97| 1145|\n",
      "|       7179|       76| 1143|\n",
      "+-----------+---------+-----+\n",
      "\n"
     ]
    }
   ],
   "source": [
    "top_five = result.sort(\"count\", ascending=False).limit(5)\n",
    "top_five.show()"
   ]
  },
  {
   "cell_type": "code",
   "execution_count": 126,
   "metadata": {
    "colab": {
     "base_uri": "https://localhost:8080/"
    },
    "id": "9JrVidU1ZEjG",
    "outputId": "6db144a6-5cf9-401c-a3de-15490c607a2c"
   },
   "outputs": [
    {
     "name": "stdout",
     "output_type": "stream",
     "text": [
      "+-----------+---------+-----+\n",
      "|TERMINAL_ID|TX_AMOUNT|count|\n",
      "+-----------+---------+-----+\n",
      "|          0|        4|  401|\n",
      "|          0|        7|  224|\n",
      "|          0|       11|   -7|\n",
      "|          0|       12|  131|\n",
      "|          0|       16|  -35|\n",
      "|          0|       18|  -68|\n",
      "|          0|       20| -126|\n",
      "|          0|       24|  -46|\n",
      "|          0|       26| -162|\n",
      "|          0|       28|  -30|\n",
      "|          0|       31|  447|\n",
      "|          0|       33|   23|\n",
      "|          0|       35|   20|\n",
      "|          0|       44|   96|\n",
      "|          0|       49|  -56|\n",
      "|          0|       51|  211|\n",
      "|          0|       58|  -88|\n",
      "|          0|       59|  -27|\n",
      "|          0|       60| -254|\n",
      "|          0|       61|  525|\n",
      "+-----------+---------+-----+\n",
      "only showing top 20 rows\n",
      "\n"
     ]
    }
   ],
   "source": [
    "result.show()"
   ]
  }
 ],
 "metadata": {
  "colab": {
   "provenance": []
  },
  "kernelspec": {
   "display_name": "Python 3 (ipykernel)",
   "language": "python",
   "name": "python3"
  },
  "language_info": {
   "codemirror_mode": {
    "name": "ipython",
    "version": 3
   },
   "file_extension": ".py",
   "mimetype": "text/x-python",
   "name": "python",
   "nbconvert_exporter": "python",
   "pygments_lexer": "ipython3",
   "version": "3.8.10"
  }
 },
 "nbformat": 4,
 "nbformat_minor": 1
}
