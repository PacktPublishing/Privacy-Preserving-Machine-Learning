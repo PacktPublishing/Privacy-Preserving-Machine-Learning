{
 "cells": [
  {
   "cell_type": "markdown",
   "id": "0b32737b",
   "metadata": {},
   "source": [
    "# Fraud Detection model with Differential Privacy using Opacus Framework"
   ]
  },
  {
   "cell_type": "code",
   "execution_count": 1,
   "id": "5aaa0fdf",
   "metadata": {},
   "outputs": [
    {
     "data": {
      "text/html": [
       "<div>\n",
       "<style scoped>\n",
       "    .dataframe tbody tr th:only-of-type {\n",
       "        vertical-align: middle;\n",
       "    }\n",
       "\n",
       "    .dataframe tbody tr th {\n",
       "        vertical-align: top;\n",
       "    }\n",
       "\n",
       "    .dataframe thead th {\n",
       "        text-align: right;\n",
       "    }\n",
       "</style>\n",
       "<table border=\"1\" class=\"dataframe\">\n",
       "  <thead>\n",
       "    <tr style=\"text-align: right;\">\n",
       "      <th></th>\n",
       "      <th>Unnamed: 0</th>\n",
       "      <th>TRANSACTION_ID</th>\n",
       "      <th>TX_DATETIME</th>\n",
       "      <th>CUSTOMER_ID</th>\n",
       "      <th>TERMINAL_ID</th>\n",
       "      <th>TX_AMOUNT</th>\n",
       "      <th>TX_FRAUD</th>\n",
       "    </tr>\n",
       "  </thead>\n",
       "  <tbody>\n",
       "    <tr>\n",
       "      <th>0</th>\n",
       "      <td>0</td>\n",
       "      <td>0</td>\n",
       "      <td>2023-02-01 00:43:37</td>\n",
       "      <td>901</td>\n",
       "      <td>8047</td>\n",
       "      <td>82</td>\n",
       "      <td>1</td>\n",
       "    </tr>\n",
       "    <tr>\n",
       "      <th>1</th>\n",
       "      <td>1</td>\n",
       "      <td>1</td>\n",
       "      <td>2023-02-01 01:20:13</td>\n",
       "      <td>2611</td>\n",
       "      <td>7777</td>\n",
       "      <td>15</td>\n",
       "      <td>0</td>\n",
       "    </tr>\n",
       "    <tr>\n",
       "      <th>2</th>\n",
       "      <td>2</td>\n",
       "      <td>2</td>\n",
       "      <td>2023-02-01 01:22:52</td>\n",
       "      <td>4212</td>\n",
       "      <td>3336</td>\n",
       "      <td>53</td>\n",
       "      <td>0</td>\n",
       "    </tr>\n",
       "    <tr>\n",
       "      <th>3</th>\n",
       "      <td>3</td>\n",
       "      <td>3</td>\n",
       "      <td>2023-02-01 01:26:40</td>\n",
       "      <td>1293</td>\n",
       "      <td>7432</td>\n",
       "      <td>59</td>\n",
       "      <td>0</td>\n",
       "    </tr>\n",
       "    <tr>\n",
       "      <th>4</th>\n",
       "      <td>4</td>\n",
       "      <td>4</td>\n",
       "      <td>2023-02-01 01:52:23</td>\n",
       "      <td>2499</td>\n",
       "      <td>1024</td>\n",
       "      <td>25</td>\n",
       "      <td>0</td>\n",
       "    </tr>\n",
       "  </tbody>\n",
       "</table>\n",
       "</div>"
      ],
      "text/plain": [
       "   Unnamed: 0  TRANSACTION_ID          TX_DATETIME  CUSTOMER_ID  TERMINAL_ID  \\\n",
       "0           0               0  2023-02-01 00:43:37          901         8047   \n",
       "1           1               1  2023-02-01 01:20:13         2611         7777   \n",
       "2           2               2  2023-02-01 01:22:52         4212         3336   \n",
       "3           3               3  2023-02-01 01:26:40         1293         7432   \n",
       "4           4               4  2023-02-01 01:52:23         2499         1024   \n",
       "\n",
       "   TX_AMOUNT  TX_FRAUD  \n",
       "0         82         1  \n",
       "1         15         0  \n",
       "2         53         0  \n",
       "3         59         0  \n",
       "4         25         0  "
      ]
     },
     "execution_count": 1,
     "metadata": {},
     "output_type": "execute_result"
    }
   ],
   "source": [
    "import pandas as pd\n",
    "\n",
    "url =\"fraud_transactions.csv\"\n",
    "\n",
    "df_actual = pd.read_csv(url, sep=\",\")\n",
    "df_actual.head()"
   ]
  },
  {
   "cell_type": "code",
   "execution_count": 2,
   "id": "1c55ba98",
   "metadata": {},
   "outputs": [
    {
     "data": {
      "text/html": [
       "<div>\n",
       "<style scoped>\n",
       "    .dataframe tbody tr th:only-of-type {\n",
       "        vertical-align: middle;\n",
       "    }\n",
       "\n",
       "    .dataframe tbody tr th {\n",
       "        vertical-align: top;\n",
       "    }\n",
       "\n",
       "    .dataframe thead th {\n",
       "        text-align: right;\n",
       "    }\n",
       "</style>\n",
       "<table border=\"1\" class=\"dataframe\">\n",
       "  <thead>\n",
       "    <tr style=\"text-align: right;\">\n",
       "      <th></th>\n",
       "      <th>CUSTOMER_ID</th>\n",
       "      <th>TERMINAL_ID</th>\n",
       "      <th>TX_AMOUNT</th>\n",
       "      <th>TX_FRAUD</th>\n",
       "    </tr>\n",
       "  </thead>\n",
       "  <tbody>\n",
       "    <tr>\n",
       "      <th>0</th>\n",
       "      <td>901</td>\n",
       "      <td>8047</td>\n",
       "      <td>82</td>\n",
       "      <td>1</td>\n",
       "    </tr>\n",
       "    <tr>\n",
       "      <th>1</th>\n",
       "      <td>2611</td>\n",
       "      <td>7777</td>\n",
       "      <td>15</td>\n",
       "      <td>0</td>\n",
       "    </tr>\n",
       "    <tr>\n",
       "      <th>2</th>\n",
       "      <td>4212</td>\n",
       "      <td>3336</td>\n",
       "      <td>53</td>\n",
       "      <td>0</td>\n",
       "    </tr>\n",
       "    <tr>\n",
       "      <th>3</th>\n",
       "      <td>1293</td>\n",
       "      <td>7432</td>\n",
       "      <td>59</td>\n",
       "      <td>0</td>\n",
       "    </tr>\n",
       "    <tr>\n",
       "      <th>4</th>\n",
       "      <td>2499</td>\n",
       "      <td>1024</td>\n",
       "      <td>25</td>\n",
       "      <td>0</td>\n",
       "    </tr>\n",
       "    <tr>\n",
       "      <th>...</th>\n",
       "      <td>...</td>\n",
       "      <td>...</td>\n",
       "      <td>...</td>\n",
       "      <td>...</td>\n",
       "    </tr>\n",
       "    <tr>\n",
       "      <th>49995</th>\n",
       "      <td>1541</td>\n",
       "      <td>3469</td>\n",
       "      <td>66</td>\n",
       "      <td>0</td>\n",
       "    </tr>\n",
       "    <tr>\n",
       "      <th>49996</th>\n",
       "      <td>489</td>\n",
       "      <td>3854</td>\n",
       "      <td>89</td>\n",
       "      <td>1</td>\n",
       "    </tr>\n",
       "    <tr>\n",
       "      <th>49997</th>\n",
       "      <td>4125</td>\n",
       "      <td>7519</td>\n",
       "      <td>12</td>\n",
       "      <td>0</td>\n",
       "    </tr>\n",
       "    <tr>\n",
       "      <th>49998</th>\n",
       "      <td>3360</td>\n",
       "      <td>5215</td>\n",
       "      <td>86</td>\n",
       "      <td>1</td>\n",
       "    </tr>\n",
       "    <tr>\n",
       "      <th>49999</th>\n",
       "      <td>951</td>\n",
       "      <td>9602</td>\n",
       "      <td>31</td>\n",
       "      <td>0</td>\n",
       "    </tr>\n",
       "  </tbody>\n",
       "</table>\n",
       "<p>50000 rows × 4 columns</p>\n",
       "</div>"
      ],
      "text/plain": [
       "       CUSTOMER_ID  TERMINAL_ID  TX_AMOUNT  TX_FRAUD\n",
       "0              901         8047         82         1\n",
       "1             2611         7777         15         0\n",
       "2             4212         3336         53         0\n",
       "3             1293         7432         59         0\n",
       "4             2499         1024         25         0\n",
       "...            ...          ...        ...       ...\n",
       "49995         1541         3469         66         0\n",
       "49996          489         3854         89         1\n",
       "49997         4125         7519         12         0\n",
       "49998         3360         5215         86         1\n",
       "49999          951         9602         31         0\n",
       "\n",
       "[50000 rows x 4 columns]"
      ]
     },
     "execution_count": 2,
     "metadata": {},
     "output_type": "execute_result"
    }
   ],
   "source": [
    "df_transactions = df_actual[['CUSTOMER_ID','TERMINAL_ID','TX_AMOUNT','TX_FRAUD']]\n",
    "#df_transactions=df_transactions.head(10)\n",
    "df_transactions=df_transactions.head(50000)\n",
    "df_transactions"
   ]
  },
  {
   "cell_type": "code",
   "execution_count": 3,
   "id": "098fe5f6",
   "metadata": {},
   "outputs": [
    {
     "name": "stdout",
     "output_type": "stream",
     "text": [
      "No of Fraud Transactions: 37870\n",
      "No of Non Fraud Transactions: 12130\n",
      "No Frauds 75.74 % of the dataset\n",
      "Frauds 24.26 % of the dataset\n"
     ]
    }
   ],
   "source": [
    "from sklearn.model_selection import train_test_split\n",
    "from sklearn.model_selection import StratifiedShuffleSplit\n",
    "\n",
    "print(\"No of Fraud Transactions:\", df_transactions['TX_FRAUD'].value_counts()[0])\n",
    "print(\"No of Non Fraud Transactions:\", df_transactions['TX_FRAUD'].value_counts()[1])\n",
    "\n",
    "print('No Frauds', round(df_transactions['TX_FRAUD'].value_counts()[0]/len(df_transactions) * 100,2), '% of the dataset')\n",
    "print('Frauds', round(df_transactions['TX_FRAUD'].value_counts()[1]/len(df_transactions) * 100,2), '% of the dataset')\n",
    "\n",
    "\n",
    "\n",
    "X = df_transactions.drop('TX_FRAUD', axis=1)\n",
    "y = df_transactions['TX_FRAUD']\n",
    "\n"
   ]
  },
  {
   "cell_type": "code",
   "execution_count": 4,
   "id": "5f7e2630",
   "metadata": {},
   "outputs": [],
   "source": [
    "X_train, X_test, y_train, y_test = train_test_split(X, y, test_size=0.3, random_state=42)\n",
    "\n"
   ]
  },
  {
   "cell_type": "code",
   "execution_count": 5,
   "id": "33672d71",
   "metadata": {},
   "outputs": [
    {
     "name": "stdout",
     "output_type": "stream",
     "text": [
      "tensor([[0.7384, 0.7633, 0.3860],\n",
      "        [0.0074, 0.3939, 0.2595],\n",
      "        [0.2341, 0.6819, 0.2399],\n",
      "        [0.5621, 0.4746, 0.0857],\n",
      "        [0.1551, 0.6037, 0.9041]])\n"
     ]
    }
   ],
   "source": [
    "import torch\n",
    "x = torch.rand(5, 3)\n",
    "print(x)"
   ]
  },
  {
   "cell_type": "code",
   "execution_count": 6,
   "id": "752dea0a",
   "metadata": {},
   "outputs": [],
   "source": [
    "x_train = torch.FloatTensor(X_train.values)\n",
    "x_test = torch.FloatTensor(X_test.values)\n",
    "y_train = torch.FloatTensor(y_train.values)\n",
    "y_test = torch.FloatTensor(y_test.values)"
   ]
  },
  {
   "cell_type": "code",
   "execution_count": 7,
   "id": "ffcd50d4",
   "metadata": {},
   "outputs": [
    {
     "name": "stdout",
     "output_type": "stream",
     "text": [
      "Selected device is cpu\n"
     ]
    }
   ],
   "source": [
    "if torch.cuda.is_available():\n",
    "    DEVICE = \"cuda\" \n",
    "else:\n",
    "    DEVICE = \"cpu\"\n",
    "print(\"Selected device is\",DEVICE)"
   ]
  },
  {
   "cell_type": "code",
   "execution_count": 8,
   "id": "993ff6eb",
   "metadata": {},
   "outputs": [],
   "source": [
    "class FraudDataset(torch.utils.data.Dataset):\n",
    "    \n",
    "    def __init__(self, x, y):\n",
    "        'Initialization'\n",
    "        self.x = x\n",
    "        self.y = y\n",
    "\n",
    "    def __len__(self):\n",
    "        'Returns the total number of samples'\n",
    "        return len(self.x)\n",
    "\n",
    "    def __getitem__(self, index):\n",
    "        'Generates one sample of data'\n",
    "        # Select sample index\n",
    "        if self.y is not None:\n",
    "            return self.x[index].to(DEVICE), self.y[index].to(DEVICE)\n",
    "        else:\n",
    "            return self.x[index].to(DEVICE)"
   ]
  },
  {
   "cell_type": "code",
   "execution_count": 9,
   "id": "6d96a153",
   "metadata": {},
   "outputs": [],
   "source": [
    "train_loader_params = {'batch_size': 64,\n",
    "          'shuffle': True,\n",
    "          'num_workers': 0}\n",
    "test_loader_params = {'batch_size': 64,\n",
    "          'num_workers': 0}\n",
    "\n",
    "# Generators\n",
    "\n",
    "training_set = FraudDataset(x_train, y_train)\n",
    "\n",
    "testing_set = FraudDataset(x_test, y_test)\n",
    "\n",
    "\n",
    "train_loader = torch.utils.data.DataLoader(training_set, **train_loader_params)\n",
    "test_loader = torch.utils.data.DataLoader(testing_set, **test_loader_params)"
   ]
  },
  {
   "cell_type": "code",
   "execution_count": 10,
   "id": "7f26a744",
   "metadata": {},
   "outputs": [],
   "source": [
    "class SimpleFraudMLP(torch.nn.Module):\n",
    "    \n",
    "    def __init__(self):\n",
    "        \n",
    "        super().__init__()\n",
    "        self.first_sec = torch.nn.Sequential(\n",
    "                           torch.nn.Linear(3, 450),\n",
    "                           torch.nn.ReLU(),\n",
    "                         )\n",
    "        self.second_sec = torch.nn.Sequential(\n",
    "                           torch.nn.Linear(450, 450),\n",
    "                           torch.nn.ReLU(),\n",
    "                           torch.nn.Linear(450, 1),\n",
    "                           torch.nn.Sigmoid(),\n",
    "                         )\n",
    "        \n",
    "    def forward(self, x):\n",
    "        return self.second_sec(self.first_sec(x))\n"
   ]
  },
  {
   "cell_type": "code",
   "execution_count": 11,
   "id": "8d2617a7",
   "metadata": {},
   "outputs": [],
   "source": [
    "fraud_nn_model = SimpleFraudMLP().to(DEVICE)"
   ]
  },
  {
   "cell_type": "code",
   "execution_count": 12,
   "id": "65160590",
   "metadata": {},
   "outputs": [
    {
     "data": {
      "text/plain": [
       "[]"
      ]
     },
     "execution_count": 12,
     "metadata": {},
     "output_type": "execute_result"
    }
   ],
   "source": [
    "import warnings\n",
    "warnings.simplefilter(\"ignore\")\n",
    "\n",
    "MAX_GRAD_NORM = 1.2\n",
    "EPSILON = 90.0\n",
    "DELTA = 1e-5\n",
    "EPOCHS = 20\n",
    "\n",
    "LR = 1e-3\n",
    "\n",
    "from opacus.validators import ModuleValidator\n",
    "errors = ModuleValidator.validate(fraud_nn_model, strict=False)\n",
    "errors[-5:]\n"
   ]
  },
  {
   "cell_type": "code",
   "execution_count": 13,
   "id": "61379569",
   "metadata": {},
   "outputs": [
    {
     "data": {
      "text/plain": [
       "BCELoss()"
      ]
     },
     "execution_count": 13,
     "metadata": {},
     "output_type": "execute_result"
    }
   ],
   "source": [
    "from torch import nn, optim\n",
    "#loss_func = nn.CrossEntropyLoss()   \n",
    "loss_func = torch.nn.BCELoss().to(DEVICE)\n",
    "loss_func\n"
   ]
  },
  {
   "cell_type": "code",
   "execution_count": 14,
   "id": "f202b35e",
   "metadata": {},
   "outputs": [
    {
     "data": {
      "text/plain": [
       "SGD (\n",
       "Parameter Group 0\n",
       "    dampening: 0\n",
       "    differentiable: False\n",
       "    foreach: None\n",
       "    lr: 0.07\n",
       "    maximize: False\n",
       "    momentum: 0\n",
       "    nesterov: False\n",
       "    weight_decay: 0\n",
       ")"
      ]
     },
     "execution_count": 14,
     "metadata": {},
     "output_type": "execute_result"
    }
   ],
   "source": [
    "#optimizer = optim.Adam(fraud_nn_model.parameters(), lr = 0.01)  \n",
    "optimizer = torch.optim.SGD(fraud_nn_model.parameters(), lr = 0.07)\n",
    "optimizer\n"
   ]
  },
  {
   "cell_type": "code",
   "execution_count": 15,
   "id": "875d0174",
   "metadata": {},
   "outputs": [
    {
     "data": {
      "text/plain": [
       "SimpleFraudMLP(\n",
       "  (first_sec): Sequential(\n",
       "    (0): Linear(in_features=3, out_features=450, bias=True)\n",
       "    (1): ReLU()\n",
       "  )\n",
       "  (second_sec): Sequential(\n",
       "    (0): Linear(in_features=450, out_features=450, bias=True)\n",
       "    (1): ReLU()\n",
       "    (2): Linear(in_features=450, out_features=1, bias=True)\n",
       "    (3): Sigmoid()\n",
       "  )\n",
       ")"
      ]
     },
     "execution_count": 15,
     "metadata": {},
     "output_type": "execute_result"
    }
   ],
   "source": [
    "fraud_nn_model.eval()"
   ]
  },
  {
   "cell_type": "code",
   "execution_count": 16,
   "id": "dc69fba3",
   "metadata": {},
   "outputs": [
    {
     "name": "stdout",
     "output_type": "stream",
     "text": [
      "Using sigma=0.2883148193359375 and C=1.2\n"
     ]
    }
   ],
   "source": [
    "from opacus import PrivacyEngine\n",
    "\n",
    "fraud_nn_model.train()\n",
    "\n",
    "privacy_engine = PrivacyEngine()\n",
    "\n",
    "\n",
    "model, optimizer, train_loader = privacy_engine.make_private_with_epsilon(\n",
    "    module=fraud_nn_model,\n",
    "    optimizer=optimizer,\n",
    "    data_loader=train_loader,\n",
    "    epochs=EPOCHS,\n",
    "    target_epsilon=EPSILON,\n",
    "    target_delta=DELTA,\n",
    "    max_grad_norm=MAX_GRAD_NORM,\n",
    ")\n",
    "print(f\"Using sigma={optimizer.noise_multiplier} and C={MAX_GRAD_NORM}\")\n"
   ]
  },
  {
   "cell_type": "code",
   "execution_count": 17,
   "id": "247ebd38",
   "metadata": {},
   "outputs": [
    {
     "name": "stdout",
     "output_type": "stream",
     "text": [
      "ε epsilon27.552710036487476     : delta:1e-05\n",
      "Epoch 0: train loss: 75.86079016202547\n",
      "ε epsilon33.98911164791893     : delta:1e-05\n",
      "Epoch 1: train loss: 75.67659949907654\n",
      "ε epsilon38.786904746786384     : delta:1e-05\n",
      "Epoch 2: train loss: 33.48482885395587\n",
      "ε epsilon42.819749628256126     : delta:1e-05\n",
      "Epoch 3: train loss: 23.271447252311916\n",
      "ε epsilon46.852594509725854     : delta:1e-05\n",
      "Epoch 4: train loss: 24.406472039614997\n",
      "ε epsilon50.8854393911956     : delta:1e-05\n",
      "Epoch 5: train loss: 22.716429327698034\n",
      "ε epsilon54.91828427266533     : delta:1e-05\n",
      "Epoch 6: train loss: 22.294294730400907\n",
      "ε epsilon57.62100410282992     : delta:1e-05\n",
      "Epoch 7: train loss: 23.136548533082227\n",
      "ε epsilon60.31918791574003     : delta:1e-05\n",
      "Epoch 8: train loss: 24.236863168981436\n",
      "ε epsilon63.01737172865014     : delta:1e-05\n",
      "Epoch 9: train loss: 25.732685108289424\n"
     ]
    }
   ],
   "source": [
    "import numpy as np\n",
    "import time\n",
    "\n",
    "n_epochs = 10\n",
    "#Setting the model in training mode\n",
    "fraud_nn_model.train()\n",
    "\n",
    "#Training loop\n",
    "start_time=time.time()\n",
    "epochs_train_losses = []\n",
    "epochs_test_losses = []\n",
    "\n",
    "for epoch in range(n_epochs):\n",
    "    train_loss=[]\n",
    "    train_loss1=0\n",
    "    for x_batch, y_batch in train_loader:\n",
    "        \n",
    "        fraud_nn_model.train()\n",
    "        \n",
    "        y_pred = fraud_nn_model(x_batch)\n",
    "       \n",
    "        loss = loss_func(y_pred.squeeze(), y_batch)\n",
    "        \n",
    "        optimizer.zero_grad()\n",
    "        \n",
    "        loss.backward()\n",
    "        \n",
    "        optimizer.step()\n",
    "       \n",
    "        train_loss.append(loss.item())\n",
    "        \n",
    "        train_loss1 += loss.item()*x_batch.size(0)\n",
    "    \n",
    "    \n",
    "    epsilon = privacy_engine.get_epsilon(DELTA)\n",
    "    print('ε epsilon{}     : delta:{}'.format(epsilon, DELTA))\n",
    "    \n",
    "   \n",
    "    epochs_train_losses.append(np.mean(train_loss))\n",
    "    print('Epoch {}: train loss: {}'.format(epoch, np.mean(train_loss)))\n",
    "    \n",
    "    "
   ]
  },
  {
   "cell_type": "code",
   "execution_count": null,
   "id": "cf9772e2",
   "metadata": {},
   "outputs": [],
   "source": []
  },
  {
   "cell_type": "code",
   "execution_count": 18,
   "id": "ae36bbda",
   "metadata": {},
   "outputs": [
    {
     "name": "stdout",
     "output_type": "stream",
     "text": [
      "['absl-py==1.0.0', 'aiohttp==3.8.4', 'aiosignal==1.3.1', 'anaconda==0.0.1.1', 'anonympy==0.3.7', 'anyio==3.6.2', 'appnope==0.1.3', 'argon2-cffi-bindings==21.2.0', 'argon2-cffi==21.3.0', 'array-record==0.2.0', 'arrow==1.2.3', 'ascii-magic==1.6', 'asn1crypto==1.5.1', 'asttokens==2.2.1', 'astunparse==1.6.3', 'async-timeout==4.0.2', 'attrdict==2.0.1', 'attrs==21.4.0', 'backcall==0.2.0', 'bcrypt==4.0.1', 'beautifulsoup4==4.11.2', 'bleach==6.0.0', 'blis==0.7.9', 'boto3==1.26.51', 'botocore==1.29.104', 'brotli==1.0.9', 'cachetools==5.3.0', 'cape-privacy==0.3.0', 'catalogue==2.0.8', 'certifi==2022.12.7', 'cffi==1.15.1', 'chardet==5.1.0', 'charset-normalizer==3.0.1', 'chex==0.1.6', 'click==7.1.2', 'cloudpickle==2.2.1', 'coincurve==17.0.0', 'colorama==0.4.6', 'coloredlogs==15.0.1', 'comm==0.1.2', 'common-utils==2.0.1.dev1', 'commonmark==0.9.1', 'concrete-compiler==0.10.0', 'concrete-ml==0.3.0', 'concrete-numpy==0.7.0', 'confection==0.0.4', 'contourpy==1.0.7', 'cryptography==40.0.1', 'cycler==0.11.0', 'cymem==2.0.7', 'cytoolz==0.12.1', 'debugpy==1.6.6', 'decorator==5.1.1', 'defusedxml==0.7.1', 'dill==0.3.6', 'dm-tree==0.1.7', 'dnspython==2.3.0', 'docker-pycreds==0.4.0', 'docker==6.0.1', 'dp-accounting==0.3.0', 'eciespy==0.3.13', 'eeval==0.1.2', 'email-validator==2.0.0.post1', 'entrypoints==0.4', 'eth-hash==0.5.1', 'eth-keys==0.4.0', 'eth-typing==3.3.0', 'eth-utils==2.1.0', 'etils==1.2.0', 'executing==1.2.0', 'face-recognition-models==0.3.0', 'faker==18.4.0', 'fastapi==0.60.2', 'fastecdsa==2.1.5', 'fastjsonschema==2.16.3', 'fedml==0.8.2', 'fedscale==0.5', 'filelock==3.12.0', 'flask-jwt-extended==4.4.3', 'flask-sqlalchemy==2.5.1', 'flask==2.1.2', 'flatbuffers==2.0.7', 'flax==0.5.3', 'flwr==1.3.0', 'fonttools==4.39.0', 'forbiddenfruit==0.1.4', 'fqdn==1.5.1', 'frozenlist==1.3.3', 'gast==0.4.0', 'gensim==4.3.1', 'gevent==22.10.2', 'geventhttpclient==2.0.9', 'gitdb==4.0.10', 'gitpython==3.1.31', 'google-auth-oauthlib==1.0.0', 'google-auth==2.17.3', 'google-pasta==0.2.0', 'googleapis-common-protos==1.59.0', 'graphviz==0.8.4', 'greenlet==2.0.2', 'grpcio==1.51.1', 'gunicorn==20.1.0', 'h11==0.9.0', 'h5py==3.8.0', 'httpcore==0.16.3', 'httptools==0.1.2', 'httpx==0.23.3', 'huggingface-hub==0.13.4', 'humanfriendly==10.0', 'hummingbird-ml==0.4.4', 'idna==3.4', 'imbalanced-learn==0.10.1', 'imblearn==0.0', 'immutabledict==2.2.4', 'importlib-metadata==6.0.0', 'importlib-resources==1.5.0', 'install==1.3.5', 'ipykernel==6.21.2', 'ipython-genutils==0.2.0', 'ipython==8.11.0', 'ipywidgets==8.0.4', 'isoduration==20.11.0', 'iterators==0.0.2', 'itsdangerous==2.1.2', 'jax==0.4.8', 'jaxlib==0.4.7', 'jedi==0.18.2', 'jinja2==3.1.2', 'jmespath==1.0.1', 'joblib==1.2.0', 'jsonpointer==2.3', 'jsonschema==4.17.3', 'jupyter-client==8.2.0', 'jupyter-console==6.6.2', 'jupyter-core==5.2.0', 'jupyter-events==0.6.3', 'jupyter-server-terminals==0.4.4', 'jupyter-server==2.3.0', 'jupyter==1.0.0', 'jupyterlab-pygments==0.2.2', 'jupyterlab-widgets==3.0.5', 'keras==2.12.0', 'kiwisolver==1.4.4', 'langcodes==3.3.0', 'liac-arff==2.5.0', 'libclang==16.0.0', 'loguru==0.6.0', 'lxml==4.9.2', 'markdown==3.4.3', 'markupsafe==2.1.2', 'matplotlib-inline==0.1.6', 'matplotlib==3.6.3', 'minio==7.1.13', 'mistune==2.0.5', 'ml-dtypes==0.1.0', 'mmh3==3.0.0', 'mpmath==1.2.1', 'msgpack==1.0.5', 'multidict==6.0.4', 'multiprocess==0.70.14', 'murmurhash==1.0.9', 'names==0.3.0', 'nbclassic==0.5.2', 'nbclient==0.7.2', 'nbconvert==7.2.9', 'nbformat==5.7.3', 'nest-asyncio==1.5.6', 'networkx==2.8.8', 'notebook-shim==0.2.2', 'notebook==6.5.2', 'ntplib==0.4.0', 'numpy==1.22.4', 'nvflare==2.3.0', 'nvidia-ml-py3==7.352.0', 'oauthlib==3.2.2', 'onnx==1.12.0', 'onnxconverter-common==1.13.0', 'onnxmltools==1.11.2', 'onnxruntime==1.14.1', 'opacus==1.1.2', 'opencv-python==4.7.0.72', 'openml==0.13.0', 'opt-einsum==3.3.0', 'optax==0.1.4', 'ortools==9.6.2534', 'packaging==22.0', 'paho-mqtt==1.6.1', 'pandas==1.5.2', 'pandocfilters==1.5.0', 'parameterized==0.9.0', 'parso==0.8.3', 'pathtools==0.1.2', 'pathy==0.10.1', 'patsy==0.5.3', 'pdf2image==1.16.3', 'pexpect==4.8.0', 'phe==1.5.0', 'pickleshare==0.7.5', 'pillow==9.4.0', 'pip==23.1.2', 'pipeline-dp==0.2.0', 'pkgutil-resolve-name==1.3.10', 'platformdirs==3.0.0', 'plotly==5.13.1', 'poppler-utils==0.1.0', 'preshed==3.0.8', 'prometheus-client==0.16.0', 'promise==2.3', 'prompt-toolkit==3.0.38', 'protobuf==4.23.2', 'psutil==5.9.4', 'ptyprocess==0.7.0', 'pure-eval==0.2.2', 'py4j==0.10.9.5', 'pyarrow==10.0.1', 'pyasn1-modules==0.3.0', 'pyasn1==0.5.0', 'pycapnp==1.2.2', 'pycparser==2.21', 'pycryptodome==3.17', 'pydantic==1.10.4', 'pygments==2.14.0', 'pyjwt==2.6.0', 'pympler==1.0.1', 'pynacl==1.5.0', 'pynvml==11.5.0', 'pyparsing==3.0.9', 'pypdf2==3.0.1', 'pyrsistent==0.19.3', 'pyspark==3.3.2', 'pytesseract==0.3.10', 'python-dateutil==2.8.2', 'python-dp==1.1.1', 'python-engineio==4.4.1', 'python-json-logger==2.0.7', 'python-rapidjson==1.10', 'pytz==2022.7.1', 'pyyaml==6.0', 'pyzmq==25.0.0', 'qtconsole==5.4.0', 'qtpy==2.3.0', 'redis==4.4.2', 'regex==2023.3.23', 'requests-oauthlib==1.3.1', 'requests-toolbelt==0.10.1', 'requests==2.28.2', 'rfc3339-validator==0.1.4', 'rfc3339==6.2', 'rfc3986-validator==0.1.1', 'rfc3986==1.5.0', 'rich==11.2.0', 'rsa==4.9', 'ruamel.yaml.clib==0.2.7', 'ruamel.yaml==0.17.21', 's3transfer==0.6.0', 'scikit-learn==1.2.1', 'scipy==1.10.1', 'seaborn==0.12.2', 'send2trash==1.8.0', 'sentry-sdk==1.18.0', 'setproctitle==1.3.2', 'setuptools==67.8.0', 'shellingham==1.5.0.post1', 'shortuuid==1.0.11', 'six==1.16.0', 'skl2onnx==1.14.0', 'sklearn==0.0.post1', 'skorch==0.11.0', 'smart-open==6.3.0', 'smmap==5.0.0', 'sniffio==1.3.0', 'soupsieve==2.4', 'spacy-legacy==3.0.12', 'spacy-loggers==1.0.4', 'spacy==3.5.1', 'sqlalchemy==1.4.46', 'srsly==2.4.6', 'stack-data==0.6.2', 'starlette==0.13.6', 'statsmodels==0.13.5', 'syft==0.7.0', 'sympy==1.11.1', 'tabulate==0.9.0', 'tenacity==8.2.2', 'tenseal==0.1.0', 'tensorboard-data-server==0.7.0', 'tensorboard-plugin-wit==1.8.1', 'tensorboard==2.12.2', 'tensorflow-datasets==4.9.2', 'tensorflow-estimator==2.12.0', 'tensorflow-io-gcs-filesystem==0.32.0', 'tensorflow-metadata==1.13.1', 'tensorflow-privacy==0.8.8', 'tensorflow-probability==0.15.0', 'tensorflow==2.12.0', 'tensorstore==0.1.35', 'termcolor==2.2.0', 'terminado==0.17.1', 'testpath==0.6.0', 'texttable==1.6.7', 'thinc==8.1.9', 'threadpoolctl==3.1.0', 'tinycss2==1.2.1', 'tokenizers==0.13.3', 'toml==0.10.2', 'toolz==0.12.0', 'torch==1.13.1', 'torchvision==0.14.1', 'tornado==6.3', 'tqdm==4.64.0', 'traitlets==5.9.0', 'transformers==4.28.1', 'tritonclient==2.32.0', 'typer==0.3.2', 'typing-extensions==4.4.0', 'typing==3.7.4.3', 'uri-template==1.2.0', 'urllib3==1.25.11', 'uvicorn==0.11.8', 'uvloop==0.17.0', 'validators==0.20.0', 'wandb==0.13.2', 'wasabi==1.1.1', 'wcwidth==0.2.6', 'webcolors==1.12', 'webencodings==0.5.1', 'websocket-client==1.5.1', 'websockets==8.1', 'werkzeug==1.0.1', 'wget==3.2', 'wheel==0.40.0', 'widgetsnbextension==4.0.5', 'wrapt==1.14.1', 'xgboost==1.7.5', 'xmltodict==0.13.0', 'yarl==1.8.2', 'zipp==3.15.0', 'zope.event==4.6', 'zope.interface==6.0']\n"
     ]
    }
   ],
   "source": [
    "import pkg_resources\n",
    "installed_packages = pkg_resources.working_set\n",
    "installed_packages_list = sorted([\"%s==%s\" % (i.key, i.version)\n",
    "   for i in installed_packages])\n",
    "print(installed_packages_list)"
   ]
  },
  {
   "cell_type": "code",
   "execution_count": null,
   "id": "ba17378c",
   "metadata": {},
   "outputs": [],
   "source": []
  },
  {
   "cell_type": "code",
   "execution_count": null,
   "id": "e003fc58",
   "metadata": {},
   "outputs": [],
   "source": []
  },
  {
   "cell_type": "code",
   "execution_count": null,
   "id": "3034428a",
   "metadata": {},
   "outputs": [],
   "source": []
  },
  {
   "cell_type": "code",
   "execution_count": null,
   "id": "3cab8dc2",
   "metadata": {},
   "outputs": [],
   "source": []
  },
  {
   "cell_type": "code",
   "execution_count": null,
   "id": "26b8e3ed",
   "metadata": {},
   "outputs": [],
   "source": []
  }
 ],
 "metadata": {
  "kernelspec": {
   "display_name": "Python 3 (ipykernel)",
   "language": "python",
   "name": "python3"
  },
  "language_info": {
   "codemirror_mode": {
    "name": "ipython",
    "version": 3
   },
   "file_extension": ".py",
   "mimetype": "text/x-python",
   "name": "python",
   "nbconvert_exporter": "python",
   "pygments_lexer": "ipython3",
   "version": "3.8.10"
  }
 },
 "nbformat": 4,
 "nbformat_minor": 5
}
